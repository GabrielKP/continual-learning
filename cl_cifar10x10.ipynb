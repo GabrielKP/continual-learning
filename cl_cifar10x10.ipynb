{
  "nbformat": 4,
  "nbformat_minor": 0,
  "metadata": {
    "colab": {
      "name": "cl_cifar10x10.ipynb",
      "provenance": [],
      "collapsed_sections": [],
      "toc_visible": true,
      "authorship_tag": "ABX9TyOcF2ut2T7WGbmD4IQpzVWl",
      "include_colab_link": true
    },
    "kernelspec": {
      "name": "python3",
      "display_name": "Python 3"
    },
    "language_info": {
      "name": "python"
    },
    "accelerator": "GPU",
    "widgets": {
      "application/vnd.jupyter.widget-state+json": {
        "67d4b8ec78934864b3cfa1620da29260": {
          "model_module": "@jupyter-widgets/controls",
          "model_name": "HBoxModel",
          "model_module_version": "1.5.0",
          "state": {
            "_view_name": "HBoxView",
            "_dom_classes": [],
            "_model_name": "HBoxModel",
            "_view_module": "@jupyter-widgets/controls",
            "_model_module_version": "1.5.0",
            "_view_count": null,
            "_view_module_version": "1.5.0",
            "box_style": "",
            "layout": "IPY_MODEL_1e3470a750494fddb6145ce8ec9b966b",
            "_model_module": "@jupyter-widgets/controls",
            "children": [
              "IPY_MODEL_9c39a759302d4ace90ed0ffda7fd4c21",
              "IPY_MODEL_675f3339ffc24a989058c431244080ed",
              "IPY_MODEL_1e99a8e105f447e485125a061473a6ca"
            ]
          }
        },
        "1e3470a750494fddb6145ce8ec9b966b": {
          "model_module": "@jupyter-widgets/base",
          "model_name": "LayoutModel",
          "model_module_version": "1.2.0",
          "state": {
            "_view_name": "LayoutView",
            "grid_template_rows": null,
            "right": null,
            "justify_content": null,
            "_view_module": "@jupyter-widgets/base",
            "overflow": null,
            "_model_module_version": "1.2.0",
            "_view_count": null,
            "flex_flow": null,
            "width": null,
            "min_width": null,
            "border": null,
            "align_items": null,
            "bottom": null,
            "_model_module": "@jupyter-widgets/base",
            "top": null,
            "grid_column": null,
            "overflow_y": null,
            "overflow_x": null,
            "grid_auto_flow": null,
            "grid_area": null,
            "grid_template_columns": null,
            "flex": null,
            "_model_name": "LayoutModel",
            "justify_items": null,
            "grid_row": null,
            "max_height": null,
            "align_content": null,
            "visibility": null,
            "align_self": null,
            "height": null,
            "min_height": null,
            "padding": null,
            "grid_auto_rows": null,
            "grid_gap": null,
            "max_width": null,
            "order": null,
            "_view_module_version": "1.2.0",
            "grid_template_areas": null,
            "object_position": null,
            "object_fit": null,
            "grid_auto_columns": null,
            "margin": null,
            "display": null,
            "left": null
          }
        },
        "9c39a759302d4ace90ed0ffda7fd4c21": {
          "model_module": "@jupyter-widgets/controls",
          "model_name": "HTMLModel",
          "model_module_version": "1.5.0",
          "state": {
            "_view_name": "HTMLView",
            "style": "IPY_MODEL_34f96f3813d749459a359e49653f0d42",
            "_dom_classes": [],
            "description": "",
            "_model_name": "HTMLModel",
            "placeholder": "​",
            "_view_module": "@jupyter-widgets/controls",
            "_model_module_version": "1.5.0",
            "value": "",
            "_view_count": null,
            "_view_module_version": "1.5.0",
            "description_tooltip": null,
            "_model_module": "@jupyter-widgets/controls",
            "layout": "IPY_MODEL_7c228b387cc2480dafd7fb9f58fc29cf"
          }
        },
        "675f3339ffc24a989058c431244080ed": {
          "model_module": "@jupyter-widgets/controls",
          "model_name": "FloatProgressModel",
          "model_module_version": "1.5.0",
          "state": {
            "_view_name": "ProgressView",
            "style": "IPY_MODEL_988dd6840bc94d6abdb7acbaa6ab49f2",
            "_dom_classes": [],
            "description": "",
            "_model_name": "FloatProgressModel",
            "bar_style": "success",
            "max": 169001437,
            "_view_module": "@jupyter-widgets/controls",
            "_model_module_version": "1.5.0",
            "value": 169001437,
            "_view_count": null,
            "_view_module_version": "1.5.0",
            "orientation": "horizontal",
            "min": 0,
            "description_tooltip": null,
            "_model_module": "@jupyter-widgets/controls",
            "layout": "IPY_MODEL_0ef15b732b8f44bfbb799dd6290f3aac"
          }
        },
        "1e99a8e105f447e485125a061473a6ca": {
          "model_module": "@jupyter-widgets/controls",
          "model_name": "HTMLModel",
          "model_module_version": "1.5.0",
          "state": {
            "_view_name": "HTMLView",
            "style": "IPY_MODEL_cc30987d97e54f1e9cd276e9cd714010",
            "_dom_classes": [],
            "description": "",
            "_model_name": "HTMLModel",
            "placeholder": "​",
            "_view_module": "@jupyter-widgets/controls",
            "_model_module_version": "1.5.0",
            "value": " 169001984/? [00:04&lt;00:00, 46646501.17it/s]",
            "_view_count": null,
            "_view_module_version": "1.5.0",
            "description_tooltip": null,
            "_model_module": "@jupyter-widgets/controls",
            "layout": "IPY_MODEL_b3bffad4bdd44e0ba1b7dc16d372657a"
          }
        },
        "34f96f3813d749459a359e49653f0d42": {
          "model_module": "@jupyter-widgets/controls",
          "model_name": "DescriptionStyleModel",
          "model_module_version": "1.5.0",
          "state": {
            "_view_name": "StyleView",
            "_model_name": "DescriptionStyleModel",
            "description_width": "",
            "_view_module": "@jupyter-widgets/base",
            "_model_module_version": "1.5.0",
            "_view_count": null,
            "_view_module_version": "1.2.0",
            "_model_module": "@jupyter-widgets/controls"
          }
        },
        "7c228b387cc2480dafd7fb9f58fc29cf": {
          "model_module": "@jupyter-widgets/base",
          "model_name": "LayoutModel",
          "model_module_version": "1.2.0",
          "state": {
            "_view_name": "LayoutView",
            "grid_template_rows": null,
            "right": null,
            "justify_content": null,
            "_view_module": "@jupyter-widgets/base",
            "overflow": null,
            "_model_module_version": "1.2.0",
            "_view_count": null,
            "flex_flow": null,
            "width": null,
            "min_width": null,
            "border": null,
            "align_items": null,
            "bottom": null,
            "_model_module": "@jupyter-widgets/base",
            "top": null,
            "grid_column": null,
            "overflow_y": null,
            "overflow_x": null,
            "grid_auto_flow": null,
            "grid_area": null,
            "grid_template_columns": null,
            "flex": null,
            "_model_name": "LayoutModel",
            "justify_items": null,
            "grid_row": null,
            "max_height": null,
            "align_content": null,
            "visibility": null,
            "align_self": null,
            "height": null,
            "min_height": null,
            "padding": null,
            "grid_auto_rows": null,
            "grid_gap": null,
            "max_width": null,
            "order": null,
            "_view_module_version": "1.2.0",
            "grid_template_areas": null,
            "object_position": null,
            "object_fit": null,
            "grid_auto_columns": null,
            "margin": null,
            "display": null,
            "left": null
          }
        },
        "988dd6840bc94d6abdb7acbaa6ab49f2": {
          "model_module": "@jupyter-widgets/controls",
          "model_name": "ProgressStyleModel",
          "model_module_version": "1.5.0",
          "state": {
            "_view_name": "StyleView",
            "_model_name": "ProgressStyleModel",
            "description_width": "",
            "_view_module": "@jupyter-widgets/base",
            "_model_module_version": "1.5.0",
            "_view_count": null,
            "_view_module_version": "1.2.0",
            "bar_color": null,
            "_model_module": "@jupyter-widgets/controls"
          }
        },
        "0ef15b732b8f44bfbb799dd6290f3aac": {
          "model_module": "@jupyter-widgets/base",
          "model_name": "LayoutModel",
          "model_module_version": "1.2.0",
          "state": {
            "_view_name": "LayoutView",
            "grid_template_rows": null,
            "right": null,
            "justify_content": null,
            "_view_module": "@jupyter-widgets/base",
            "overflow": null,
            "_model_module_version": "1.2.0",
            "_view_count": null,
            "flex_flow": null,
            "width": null,
            "min_width": null,
            "border": null,
            "align_items": null,
            "bottom": null,
            "_model_module": "@jupyter-widgets/base",
            "top": null,
            "grid_column": null,
            "overflow_y": null,
            "overflow_x": null,
            "grid_auto_flow": null,
            "grid_area": null,
            "grid_template_columns": null,
            "flex": null,
            "_model_name": "LayoutModel",
            "justify_items": null,
            "grid_row": null,
            "max_height": null,
            "align_content": null,
            "visibility": null,
            "align_self": null,
            "height": null,
            "min_height": null,
            "padding": null,
            "grid_auto_rows": null,
            "grid_gap": null,
            "max_width": null,
            "order": null,
            "_view_module_version": "1.2.0",
            "grid_template_areas": null,
            "object_position": null,
            "object_fit": null,
            "grid_auto_columns": null,
            "margin": null,
            "display": null,
            "left": null
          }
        },
        "cc30987d97e54f1e9cd276e9cd714010": {
          "model_module": "@jupyter-widgets/controls",
          "model_name": "DescriptionStyleModel",
          "model_module_version": "1.5.0",
          "state": {
            "_view_name": "StyleView",
            "_model_name": "DescriptionStyleModel",
            "description_width": "",
            "_view_module": "@jupyter-widgets/base",
            "_model_module_version": "1.5.0",
            "_view_count": null,
            "_view_module_version": "1.2.0",
            "_model_module": "@jupyter-widgets/controls"
          }
        },
        "b3bffad4bdd44e0ba1b7dc16d372657a": {
          "model_module": "@jupyter-widgets/base",
          "model_name": "LayoutModel",
          "model_module_version": "1.2.0",
          "state": {
            "_view_name": "LayoutView",
            "grid_template_rows": null,
            "right": null,
            "justify_content": null,
            "_view_module": "@jupyter-widgets/base",
            "overflow": null,
            "_model_module_version": "1.2.0",
            "_view_count": null,
            "flex_flow": null,
            "width": null,
            "min_width": null,
            "border": null,
            "align_items": null,
            "bottom": null,
            "_model_module": "@jupyter-widgets/base",
            "top": null,
            "grid_column": null,
            "overflow_y": null,
            "overflow_x": null,
            "grid_auto_flow": null,
            "grid_area": null,
            "grid_template_columns": null,
            "flex": null,
            "_model_name": "LayoutModel",
            "justify_items": null,
            "grid_row": null,
            "max_height": null,
            "align_content": null,
            "visibility": null,
            "align_self": null,
            "height": null,
            "min_height": null,
            "padding": null,
            "grid_auto_rows": null,
            "grid_gap": null,
            "max_width": null,
            "order": null,
            "_view_module_version": "1.2.0",
            "grid_template_areas": null,
            "object_position": null,
            "object_fit": null,
            "grid_auto_columns": null,
            "margin": null,
            "display": null,
            "left": null
          }
        }
      }
    }
  },
  "cells": [
    {
      "cell_type": "markdown",
      "metadata": {
        "id": "view-in-github",
        "colab_type": "text"
      },
      "source": [
        "<a href=\"https://colab.research.google.com/github/GabrielKP/continual-learning/blob/main/cl_cifar10x10.ipynb\" target=\"_parent\"><img src=\"https://colab.research.google.com/assets/colab-badge.svg\" alt=\"Open In Colab\"/></a>"
      ]
    },
    {
      "cell_type": "markdown",
      "metadata": {
        "id": "0GmWka29qc1Z"
      },
      "source": [
        "# Basis"
      ]
    },
    {
      "cell_type": "markdown",
      "metadata": {
        "id": "nOtWNcngqink"
      },
      "source": [
        "## Imports"
      ]
    },
    {
      "cell_type": "code",
      "metadata": {
        "id": "4sWZIDhHhmGn"
      },
      "source": [
        "%matplotlib inline\n",
        "\n",
        "import torch\n",
        "import torch.nn as nn\n",
        "import torch.optim as optim\n",
        "import torch.nn.functional as F\n",
        "import torchvision.models as models\n",
        "import torchvision.datasets as datasets\n",
        "import torchvision.transforms as transforms\n",
        "from torch.utils.data import DataLoader\n",
        "\n",
        "import matplotlib.pyplot as plt\n",
        "import numpy as np\n",
        "\n",
        "import random\n",
        "import math\n",
        "import time\n",
        "import copy\n",
        "import itertools"
      ],
      "execution_count": 1,
      "outputs": []
    },
    {
      "cell_type": "markdown",
      "metadata": {
        "id": "tKP_YGZbig0j"
      },
      "source": [
        "### Load pretrained convLayers\n",
        "\n",
        "For details look at pre_train_on_cifar10.ipynb"
      ]
    },
    {
      "cell_type": "markdown",
      "metadata": {
        "id": "gDBnkNyco14g"
      },
      "source": [
        "#### convLayers"
      ]
    },
    {
      "cell_type": "code",
      "metadata": {
        "id": "YadYPhzBigM8"
      },
      "source": [
        "class ConvLayers(nn.Module):\n",
        "    \"\"\"\n",
        "    5 torch convolutional layers with batchnormalization\n",
        "    and ReLU nonlinearity. No pooling is used. Inherits from nn.Module.\n",
        "    Requires images with the same height and width.\n",
        "\n",
        "    Methods\n",
        "    -------\n",
        "    forward(X) -> None\n",
        "        Applies convolutions on input X\n",
        "\n",
        "    Attributes\n",
        "    ----------\n",
        "    img_size : int\n",
        "        number indicating the height of input images\n",
        "    in_channels : int\n",
        "        channels of input data\n",
        "    out_channels : int\n",
        "        amount of channels for last layer\n",
        "    out_size : int\n",
        "        height of the output data\n",
        "    out_units : int\n",
        "        total amount of units outputting\n",
        "    \"\"\"\n",
        "\n",
        "    def __init__(self, in_channels, img_size):\n",
        "        \"\"\"\n",
        "        Creates 5 conv layers with batchnorm and ReLU activation\n",
        "\n",
        "        Parameters\n",
        "        ----------\n",
        "        in_channels : int\n",
        "            Amount of channels the input data has\n",
        "        img_size : int\n",
        "            Amount of pixels in one axis\n",
        "        \"\"\"\n",
        "        super(ConvLayers, self).__init__()\n",
        "\n",
        "        list_out_channels = [16,32,64,128,256]\n",
        "\n",
        "        self.img_size = img_size\n",
        "        self.out_size = int(math.ceil(img_size / 2**4))\n",
        "        self.in_channels = in_channels\n",
        "        self.out_channels = list_out_channels[-1]\n",
        "        self.out_units = self.out_channels * self.out_size**2\n",
        "        \n",
        "        self.conv1 = nn.Conv2d(in_channels, list_out_channels[0],\n",
        "                               kernel_size=3, stride=1, bias=True, padding=1)\n",
        "        self.bn1 = nn.BatchNorm2d(list_out_channels[0])\n",
        "        self.nl1 = nn.ReLU()\n",
        "\n",
        "        self.conv2 = nn.Conv2d(list_out_channels[0], list_out_channels[1],\n",
        "                               kernel_size=3, stride=2, bias=True, padding=1)\n",
        "        self.bn2 = nn.BatchNorm2d(list_out_channels[1])\n",
        "        self.nl2 = nn.ReLU()\n",
        "        \n",
        "        self.conv3 = nn.Conv2d(list_out_channels[1], list_out_channels[2],\n",
        "                               kernel_size=3, stride=2, bias=True, padding=1)\n",
        "        self.bn3 = nn.BatchNorm2d(list_out_channels[2])\n",
        "        self.nl3 = nn.ReLU()\n",
        "\n",
        "        self.conv4 = nn.Conv2d(list_out_channels[2], list_out_channels[3],\n",
        "                               kernel_size=3, stride=2, bias=True, padding=1)\n",
        "        self.bn4 = nn.BatchNorm2d(list_out_channels[3])\n",
        "        self.nl4 = nn.ReLU()\n",
        "\n",
        "        self.conv5 = nn.Conv2d(list_out_channels[3], list_out_channels[4],\n",
        "                               kernel_size=3, stride=2, bias=True, padding=1)\n",
        "        self.bn5 = nn.BatchNorm2d(list_out_channels[4])\n",
        "        self.nl5 = nn.ReLU()\n",
        "\n",
        "    def forward(self, X):\n",
        "        \"\"\"\n",
        "        Applies convolutions on input X\n",
        "        \"\"\"\n",
        "\n",
        "        X1 = self.nl1(self.bn1(self.conv1(X)))\n",
        "        X2 = self.nl2(self.bn2(self.conv2(X1)))\n",
        "        X3 = self.nl3(self.bn3(self.conv3(X2)))\n",
        "        X4 = self.nl4(self.bn4(self.conv4(X3)))\n",
        "        X5 = self.nl5(self.bn5(self.conv5(X4)))\n",
        "\n",
        "        return X5"
      ],
      "execution_count": 2,
      "outputs": []
    },
    {
      "cell_type": "markdown",
      "metadata": {
        "id": "bk9kJOjQo95K"
      },
      "source": [
        "#### Get pre-trained model from github and load it in"
      ]
    },
    {
      "cell_type": "code",
      "metadata": {
        "colab": {
          "base_uri": "https://localhost:8080/"
        },
        "id": "u3XEMYFQi6JY",
        "outputId": "534c4d95-1bfe-4f21-8acd-6748e55784e8"
      },
      "source": [
        "!wget -O convLayers_trained_cifar10.pt https://github.com/GabrielKP/continual-learning/blob/main/convLayers_trained_cifar10.pt?raw=true"
      ],
      "execution_count": 3,
      "outputs": [
        {
          "output_type": "stream",
          "name": "stdout",
          "text": [
            "--2021-09-07 07:42:49--  https://github.com/GabrielKP/continual-learning/blob/main/convLayers_trained_cifar10.pt?raw=true\n",
            "Resolving github.com (github.com)... 140.82.114.3\n",
            "Connecting to github.com (github.com)|140.82.114.3|:443... connected.\n",
            "HTTP request sent, awaiting response... 302 Found\n",
            "Location: https://github.com/GabrielKP/continual-learning/raw/main/convLayers_trained_cifar10.pt [following]\n",
            "--2021-09-07 07:42:50--  https://github.com/GabrielKP/continual-learning/raw/main/convLayers_trained_cifar10.pt\n",
            "Reusing existing connection to github.com:443.\n",
            "HTTP request sent, awaiting response... 302 Found\n",
            "Location: https://raw.githubusercontent.com/GabrielKP/continual-learning/main/convLayers_trained_cifar10.pt [following]\n",
            "--2021-09-07 07:42:50--  https://raw.githubusercontent.com/GabrielKP/continual-learning/main/convLayers_trained_cifar10.pt\n",
            "Resolving raw.githubusercontent.com (raw.githubusercontent.com)... 185.199.108.133, 185.199.109.133, 185.199.110.133, ...\n",
            "Connecting to raw.githubusercontent.com (raw.githubusercontent.com)|185.199.108.133|:443... connected.\n",
            "HTTP request sent, awaiting response... 200 OK\n",
            "Length: 1591356 (1.5M) [application/octet-stream]\n",
            "Saving to: ‘convLayers_trained_cifar10.pt’\n",
            "\n",
            "convLayers_trained_ 100%[===================>]   1.52M  --.-KB/s    in 0.05s   \n",
            "\n",
            "2021-09-07 07:42:50 (32.4 MB/s) - ‘convLayers_trained_cifar10.pt’ saved [1591356/1591356]\n",
            "\n"
          ]
        }
      ]
    },
    {
      "cell_type": "code",
      "metadata": {
        "id": "j-Tksmm4nnyU"
      },
      "source": [
        "convLayers = torch.load(\"convLayers_trained_cifar10.pt\")"
      ],
      "execution_count": 4,
      "outputs": []
    },
    {
      "cell_type": "markdown",
      "metadata": {
        "id": "A8utuZOIs0AF"
      },
      "source": [
        "## Parameters\n",
        "\n",
        "Main parameters are set here. They are fed later into the 'config' dic (see finetune>config) to prevent a global variable mess."
      ]
    },
    {
      "cell_type": "code",
      "metadata": {
        "id": "sCe8ydRhszyB"
      },
      "source": [
        "BATCH_SIZE = 64\n",
        "N_TASKS = 10\n",
        "N_EPOCHS_PER_TASK = 20\n",
        "TEST_ALL_TASKS = 0 # Whether the network should be jointly trained on all tasks\n",
        "\n",
        "N_EPOCHS_TOTAL = N_TASKS * N_EPOCHS_PER_TASK\n",
        "\n",
        "CIFAR_INPUT_SIZE = 32 ** 2\n",
        "CIFAR_N_CLASSES = 10\n",
        "\n",
        "N_REPETITIONS = 3\n",
        "\n",
        "\n",
        "# Model params\n",
        "INPUT_DIM = CIFAR_INPUT_SIZE\n",
        "HIDDEN1_DIM = 1000\n",
        "HIDDEN2_DIM = 1000\n",
        "OUTPUT_DIM = CIFAR_N_CLASSES\n",
        "DROPOUT = 0.5\n",
        "\n",
        "LEARNING_RATE = 0.001\n",
        "BETAS = (0.9, 0.999)\n",
        "\n",
        "DEVICE = torch.device(\"cuda\" if torch.cuda.is_available() else \"cpu\")"
      ],
      "execution_count": 5,
      "outputs": []
    },
    {
      "cell_type": "markdown",
      "metadata": {
        "id": "HdkGooAOO56h"
      },
      "source": [
        "## Functions"
      ]
    },
    {
      "cell_type": "markdown",
      "metadata": {
        "id": "2LNW_B3gqz5Z"
      },
      "source": [
        "Most parameters are saved in the 'config' dictionary (see Fine-Tune for example). The config dictionary includes many running and static parameters and saves the chaos of having functions use global parameters or having indefinetely many different parameters for functions."
      ]
    },
    {
      "cell_type": "markdown",
      "metadata": {
        "id": "hldwVgTUqrGA"
      },
      "source": [
        "#### evaluate"
      ]
    },
    {
      "cell_type": "code",
      "metadata": {
        "id": "VLi_azDXO7rX"
      },
      "source": [
        "def evaluate(model, dataloader, criterion):\n",
        "\n",
        "    model.eval()\n",
        "\n",
        "    epoch_loss = 0\n",
        "\n",
        "    with torch.no_grad():\n",
        "\n",
        "        for X, y in dataloader:\n",
        "            #X = [batch_size, input_dim]\n",
        "            #y = [batch_size]\n",
        "\n",
        "            output = model(X)\n",
        "            #output = [batch_size, n_classes]\n",
        "            \n",
        "            loss = criterion(output, y)\n",
        "\n",
        "            epoch_loss += loss.item()\n",
        "\n",
        "    return epoch_loss / len(dataloader)"
      ],
      "execution_count": 6,
      "outputs": []
    },
    {
      "cell_type": "markdown",
      "metadata": {
        "id": "qWpe5NNEPTs6"
      },
      "source": [
        "#### hitsLoss"
      ]
    },
    {
      "cell_type": "code",
      "metadata": {
        "id": "GjTXGGXnPS8N"
      },
      "source": [
        "def hitsLoss(outputs, labels):\n",
        "    #outputs = [batch_size, n_classes]\n",
        "    #labels = [batch_size]\n",
        "    \n",
        "    batch_size = outputs.shape[0]\n",
        "    \n",
        "    preds = outputs.detach().argmax(dim=-1)\n",
        "    \n",
        "    hits = sum(preds == labels)/batch_size\n",
        "    \n",
        "    return hits"
      ],
      "execution_count": 7,
      "outputs": []
    },
    {
      "cell_type": "markdown",
      "metadata": {
        "id": "YzU1rLWjrgf0"
      },
      "source": [
        "#### evaluate_all_tasks"
      ]
    },
    {
      "cell_type": "code",
      "metadata": {
        "id": "d8ZxF-iyrf0U"
      },
      "source": [
        "def evaluate_all_tasks(model, criterion, config, total_loss_array,\n",
        "                       total_hits_array, idx, max_task=None):\n",
        "    n_tasks_total = config[\"n_tasks_total\"]\n",
        "    dls_train = config[\"dls_train\"]\n",
        "    dls_test = config[\"dls_test\"]\n",
        "\n",
        "    if max_task is None or max_task > n_tasks_total:\n",
        "        max_task = n_tasks_total\n",
        "\n",
        "    for other_id in range(max_task):\n",
        "        if config[\"multi_head\"]:\n",
        "            model.curr_head = other_id\n",
        "        total_loss_array[other_id,0,idx] = evaluate(model,\n",
        "                                                    dls_train[other_id],\n",
        "                                                    criterion)\n",
        "        total_loss_array[other_id,1,idx] = evaluate(model,\n",
        "                                                    dls_test[other_id],\n",
        "                                                    criterion)\n",
        "        total_hits_array[other_id,0,idx] = evaluate(model,\n",
        "                                                    dls_train[other_id],\n",
        "                                                    hitsLoss)\n",
        "        total_hits_array[other_id,1,idx] = evaluate(model,\n",
        "                                                    dls_test[other_id],\n",
        "                                                    hitsLoss)"
      ],
      "execution_count": 8,
      "outputs": []
    },
    {
      "cell_type": "markdown",
      "metadata": {
        "id": "xjhq1vqJHi7x"
      },
      "source": [
        "#### create_schedule"
      ]
    },
    {
      "cell_type": "code",
      "metadata": {
        "id": "wgDAwLgIHihp"
      },
      "source": [
        "def create_schedule(n_epochs_total, n_total_tasks, n_task_epochs):\n",
        "    \"\"\"Creates list of tuples: (task_id, n_task_epochs)\"\"\"\n",
        "    # Creates a training schedule:\n",
        "    schedule = []\n",
        "    epoch_counter = n_epochs_total\n",
        "\n",
        "    for task_id in itertools.cycle(range(n_total_tasks)):\n",
        "\n",
        "        if epoch_counter - n_task_epochs <=0:\n",
        "            schedule.append((task_id, epoch_counter))\n",
        "            break\n",
        "        else:\n",
        "            schedule.append((task_id, n_task_epochs))\n",
        "            epoch_counter -= n_task_epochs\n",
        "    return schedule\n",
        "\n",
        "def schedule_repetitions(x):\n",
        "    \"\"\"x amount of repetitions each task gets\"\"\"\n",
        "    assert x != 0\n",
        "    n_task_epochs = N_EPOCHS_TOTAL // ((N_TASKS + TEST_ALL_TASKS) * x)\n",
        "    return create_schedule(N_EPOCHS_TOTAL, N_TASKS + TEST_ALL_TASKS, n_task_epochs)"
      ],
      "execution_count": 9,
      "outputs": []
    },
    {
      "cell_type": "markdown",
      "metadata": {
        "id": "KCCZ5-2FtQHK"
      },
      "source": [
        "#### schedules\n",
        "\n",
        "A schedule specifies which task is trained for how many epochs in which order. The schedule is realized as list of tuples. The tuples have 2 components (task_id, n_task_epochs). The experiment is run by training the model on task_id for n_Task_epochs and then moving in order to the next tuple"
      ]
    },
    {
      "cell_type": "code",
      "metadata": {
        "id": "F7KFiYeLsKjs"
      },
      "source": [
        "not_interleaved = schedule_repetitions(1)\n",
        "medium_interleaved = schedule_repetitions(4)\n",
        "strong_interleaved = schedule_repetitions(8)\n",
        "dbg_not_interleaved = create_schedule(100,10,10)\n",
        "dbg_medium_interleaved = create_schedule(100,10,5)\n",
        "dbg_strong_interleaved = create_schedule(100,10,2)"
      ],
      "execution_count": 10,
      "outputs": []
    },
    {
      "cell_type": "markdown",
      "metadata": {
        "id": "mdFYpnkfqPT1"
      },
      "source": [
        "#### experiment"
      ]
    },
    {
      "cell_type": "code",
      "metadata": {
        "id": "sYNfrXvQpGWz"
      },
      "source": [
        "def experiment(\n",
        "    config,\n",
        "    init_func,\n",
        "    repeat_func,\n",
        "):\n",
        "    \"\"\"\n",
        "    Runs experiment with a given task schedule and a model.\n",
        "    The model, criterion and other specifics are defined through\n",
        "    the init_func. The repeat_func is called in for every epoch.\n",
        "    See finetune>training functions for examples\n",
        "\n",
        "    Parameters\n",
        "    ----------\n",
        "    config : dict\n",
        "        Contains all information and parameters for experiment.\n",
        "    init_func : function() -> (model, criterion, pass_on_variables)\n",
        "        Initializes the model and all its specifics. Returns 3 variables:\n",
        "        (model, criterion, pass_on_variables). pass_on_variables are\n",
        "        fed back into the repeat_func\n",
        "    repeat_func : function(model, criterion, config, pass_on_variables) ->\n",
        "                        (model, hist_loss, hist_hits)\n",
        "        Is called every repetition. Here the model is trained for the amount of\n",
        "        epochs according to the schedule. If eval_within is True, hist_loss,\n",
        "        hist_hits are expected to be filled in with values, if\n",
        "        not their values are ignored\n",
        "    \"\"\"\n",
        "    schedule = config[\"schedule\"]\n",
        "    n_repetitions = config[\"n_repetitions\"]\n",
        "    n_datasets = config[\"n_datasets\"]\n",
        "    n_tasks_total = config[\"n_tasks_total\"]\n",
        "    eval_within = config[\"eval_within\"]\n",
        "    step_size_evaluation = config[\"step_size_evaluation\"]\n",
        "    experiment_name = config[\"experiment_name\"]\n",
        "\n",
        "    n_epochs_total = sum([x[1] for x in schedule])\n",
        "\n",
        "    if eval_within:\n",
        "        n_evaluations = sum([x[1] // step_size_evaluation for x in schedule])\n",
        "        hist_all_losses = np.empty((n_repetitions, n_tasks_total, n_datasets,\n",
        "                                    n_evaluations))\n",
        "        hist_all_hitsss = np.empty((n_repetitions, n_tasks_total, n_datasets,\n",
        "                                    n_evaluations))\n",
        "    \n",
        "    n_task_changes = len(schedule)\n",
        "    \n",
        "    hist_between_losses = np.empty((n_repetitions, n_tasks_total, n_datasets,\n",
        "                                    n_task_changes))\n",
        "    hist_between_hitsss = np.empty((n_repetitions, n_tasks_total, n_datasets,\n",
        "                                    n_task_changes))\n",
        "\n",
        "    config[\"curr_repetition\"] = 0\n",
        "    for repetition in range(n_repetitions):\n",
        "        print(f\"@@@@@@@@@ Repetition {repetition:3} @@@@@@@@@\")\n",
        "        if repetition == 0:\n",
        "            models = []\n",
        "\n",
        "        # Call task specific init function\n",
        "        model, criterion, pass_on_variables = init_func(config)\n",
        "        config[\"curr_sched_counter\"] = 0\n",
        "        n_evalsteps_passed = 0\n",
        "        for i, (task_id, n_task_epochs) in enumerate(schedule):\n",
        "            tag = f\"{experiment_name}.s{i}.t{task_id}.e{n_task_epochs}\"\n",
        "            print(f\"\\nSCHEDULE: {tag}\")\n",
        "\n",
        "            # Call task specific repeat function\n",
        "            config[\"curr_task_id\"] = task_id\n",
        "            config[\"curr_n_task_epochs\"] = n_task_epochs\n",
        "            model, hist_loss, hist_hits = repeat_func(model, criterion, config,\n",
        "                                                      pass_on_variables)\n",
        "\n",
        "            if eval_within:\n",
        "                # Save performance history within tasks\n",
        "                start_idx = n_evalsteps_passed\n",
        "                end_idx = (n_evalsteps_passed + n_task_epochs //\n",
        "                           step_size_evaluation)\n",
        "                hist_all_losses[repetition,:,:,start_idx:end_idx] = hist_loss\n",
        "                hist_all_hitsss[repetition,:,:,start_idx:end_idx] = hist_hits\n",
        "                n_evalsteps_passed = end_idx\n",
        "            \n",
        "            # Evaluate Task performance after task\n",
        "            evaluate_all_tasks(model,\n",
        "                               criterion,\n",
        "                               config,\n",
        "                               hist_between_losses[repetition],\n",
        "                               hist_between_hitsss[repetition],\n",
        "                               i, \n",
        "                               i + 1)\n",
        "\n",
        "            # Copy model to have at least one functional model in the end\n",
        "            if repetition == 0 and model is not None:\n",
        "                models.append(copy.deepcopy(model))\n",
        "\n",
        "            config[\"curr_sched_counter\"] += 1\n",
        "\n",
        "        config[\"curr_repetition\"] += 1\n",
        "\n",
        "    if not eval_within:\n",
        "        return hist_between_losses, hist_between_hitsss, None, None, models\n",
        "    return (hist_between_losses, hist_between_hitsss, hist_all_losses,\n",
        "            hist_all_hitsss, models)"
      ],
      "execution_count": 11,
      "outputs": []
    },
    {
      "cell_type": "markdown",
      "metadata": {
        "id": "WnomAb_Ip3he"
      },
      "source": [
        "#### epoch_time"
      ]
    },
    {
      "cell_type": "code",
      "metadata": {
        "id": "xGhFseBAVvYD"
      },
      "source": [
        "def epoch_time(start_time, end_time):\n",
        "    elapsed_time = end_time - start_time\n",
        "    elapsed_mins = int(elapsed_time / 60)\n",
        "    elapsed_secs = int(elapsed_time - (elapsed_mins * 60))\n",
        "    return elapsed_mins, elapsed_secs"
      ],
      "execution_count": 12,
      "outputs": []
    },
    {
      "cell_type": "markdown",
      "metadata": {
        "id": "4n0kJ7pMyC0H"
      },
      "source": [
        "#### filter_params"
      ]
    },
    {
      "cell_type": "code",
      "metadata": {
        "id": "RMTeQRCLyF6q"
      },
      "source": [
        "def filter_params(model, keywords):\n",
        "    \"\"\"Returns list of Parameters which include keyword\"\"\"\n",
        "    ret = []\n",
        "    if isinstance(keywords, list):\n",
        "        for name, param in model.named_parameters():\n",
        "            for keyword in keywords:\n",
        "                if keyword in name:\n",
        "                    ret.append(param)\n",
        "        return ret\n",
        "    else:\n",
        "        for name, param in model.named_parameters():\n",
        "            if keywords in name:\n",
        "                ret.append(param)\n",
        "        return ret"
      ],
      "execution_count": 13,
      "outputs": []
    },
    {
      "cell_type": "markdown",
      "metadata": {
        "id": "An4PzONjp1OX"
      },
      "source": [
        "#### filter_params_inv"
      ]
    },
    {
      "cell_type": "code",
      "metadata": {
        "id": "UdlH2mlbp0bg"
      },
      "source": [
        "def filter_params_inv(model, keyword):\n",
        "    \"\"\"Returns list of Parameters which do not include keywords\"\"\"\n",
        "    ret = []\n",
        "    for name, param in model.named_parameters():\n",
        "        if keyword not in name:\n",
        "            ret.append(param)\n",
        "    return ret"
      ],
      "execution_count": 14,
      "outputs": []
    },
    {
      "cell_type": "markdown",
      "metadata": {
        "id": "z3f42R5Yf6Nk"
      },
      "source": [
        "#### plot_accuracy_joint"
      ]
    },
    {
      "cell_type": "code",
      "metadata": {
        "id": "bOPEbfiof4Rq"
      },
      "source": [
        "def plot_accuracy_joint(hist_between_tasks, config, figsize=(10,7),\n",
        "                        path=None):\n",
        "    \"\"\"\n",
        "    Plots joint train and test accuracy on tasks network was trained on\n",
        "    \"\"\"\n",
        "    schedule = config[\"schedule\"]\n",
        "    n_repetitions, n_tasks_total, n_datasets, n_task_switches = \\\n",
        "        hist_between_tasks.shape\n",
        "    assert n_task_switches == len(schedule)\n",
        "    \n",
        "    combined_error = np.empty((n_repetitions, n_datasets, n_task_switches))\n",
        "    \n",
        "    tasks_trained_on = set()\n",
        "    # Get total accuracy for tasks already trained on\n",
        "    for i, (task_id, _) in enumerate(schedule):\n",
        "        tasks_trained_on.add(task_id)\n",
        "        \n",
        "        indices = list(tasks_trained_on)\n",
        "        # Sum over tasks trained on\n",
        "        s = np.sum(hist_between_tasks[:,indices,:,i], axis=0)\n",
        "\n",
        "        # Divide by number of tasks\n",
        "        d = s / len(tasks_trained_on)\n",
        "        \n",
        "        combined_error[:,:,i] = d\n",
        "    \n",
        "    # average runs\n",
        "    hist_avg = np.average(combined_error, axis=0)\n",
        "    # standard deviation\n",
        "    hist_std = np.std(combined_error, axis=0)\n",
        "    # Make sure std does not show below min or above max\n",
        "    minimal_val = np.min(combined_error)\n",
        "    hist_min = np.fmax(hist_avg - hist_std, minimal_val)\n",
        "    maximal_val = np.max(combined_error)\n",
        "    hist_max = np.fmin(hist_avg + hist_std, maximal_val)\n",
        "    \n",
        "    plt.figure(figsize=figsize)\n",
        "    ax = plt.subplot(111)\n",
        "    #ax.set_ylim(-0.05, 1.05)\n",
        "    ax.set_xlabel(\"task switches\")\n",
        "    ax.set_ylabel(\"joint accuracy on past and current tasks\")\n",
        "    xvals = range(n_task_switches)\n",
        "    \n",
        "    for dataset_id in range(n_datasets):\n",
        "        # Average\n",
        "        ax.plot(xvals,\n",
        "                hist_avg[dataset_id])\n",
        "        # Stds\n",
        "        ax.fill_between(xvals,\n",
        "                       hist_min[dataset_id],\n",
        "                       hist_max[dataset_id],\n",
        "                       alpha=0.3)\n",
        "    legends = np.array([\"Train\", \"Test\"])\n",
        "    plt.legend(legends)\n",
        "    plt.title(f'Train and Test: {config[\"experiment_name\"]}' +\n",
        "              f' - {\"multi\" if config[\"multi_head\"] else \"single\"}-head')\n",
        "    plt.tight_layout()\n",
        "    if path is not None:\n",
        "        plt.savefig(path, dpi=300, bbox_inches='tight')"
      ],
      "execution_count": 15,
      "outputs": []
    },
    {
      "cell_type": "markdown",
      "metadata": {
        "id": "twGrE29DP7WU"
      },
      "source": [
        "#### BaseClassifier (class)"
      ]
    },
    {
      "cell_type": "code",
      "metadata": {
        "id": "Wzg_MC08P7Hy"
      },
      "source": [
        "class BaseClassifier(nn.Module):\n",
        "\n",
        "    def __init__(self, config):\n",
        "        super(BaseClassifier, self).__init__()\n",
        "\n",
        "        self.convLayers = copy.deepcopy(config[\"convLayers\"])\n",
        "        self.hidden1_dim = config[\"hidden1_dim\"]\n",
        "        self.hidden2_dim = config[\"hidden2_dim\"]\n",
        "        self.output_dim = config[\"output_dim\"]\n",
        "        self.multi_head = config[\"multi_head\"]\n",
        "        self.lr = config[\"learning_rate\"]\n",
        "        self.betas = config[\"betas\"]\n",
        "        self.device = config[\"device\"]\n",
        "\n",
        "        self.convLayers.requires_grad_(False)\n",
        "\n",
        "        self.fc1 = nn.Linear(self.convLayers.out_units, self.hidden1_dim)\n",
        "        self.nl1 = nn.ReLU()\n",
        "\n",
        "        self.fc2 = nn.Linear(self.hidden1_dim, self.hidden2_dim)\n",
        "        self.nl2 = nn.ReLU()\n",
        "\n",
        "        self.base_params = [\"fc1\", \"fc2\"]\n",
        "\n",
        "        self.to(self.device)\n",
        "\n",
        "        self.opts = []\n",
        "        self.heads = 0\n",
        "        self.curr_head = 0\n",
        "        self.new_head()\n",
        "\n",
        "    def forward(self, X):\n",
        "        \"\"\"\n",
        "        Applies convolutions and linear layers on input X\n",
        "        \"\"\"\n",
        "\n",
        "        X1 = self.convLayers(X)\n",
        "        X2 = self.nl1(self.fc1(torch.flatten(X1, start_dim=1)))\n",
        "        X3 = self.nl2(self.fc2(X2))\n",
        "\n",
        "        name = f\"fc_out{self.curr_head}\"\n",
        "\n",
        "        fc_out = self.get_submodule(name)\n",
        "\n",
        "        return fc_out(X3)\n",
        "\n",
        "    def new_head(self):\n",
        "        \"\"\"\n",
        "        Appends new heads\n",
        "        \"\"\"\n",
        "        name = f\"fc_out{self.heads}\"\n",
        "        self.add_module(name, nn.Linear(self.hidden2_dim, self.output_dim).\n",
        "                        to(self.device))\n",
        "        \n",
        "        # Choose right parameters for optimizer\n",
        "        keywords = self.base_params + [name,]\n",
        "        self.opts.append(optim.Adam(filter_params(self, keywords),\n",
        "                                    lr=self.lr,\n",
        "                                    betas=self.betas))\n",
        "        self.heads += 1\n",
        "\n",
        "    def task_update(self):\n",
        "        \"\"\"\n",
        "        Creates new head if multihead\n",
        "        \"\"\"\n",
        "        if self.multi_head:\n",
        "            self.new_head()\n",
        "\n",
        "    def set_head(self, head_id):\n",
        "        \"\"\"\n",
        "        Switches Network to another head\n",
        "        \"\"\"\n",
        "        self.curr_head = head_id\n",
        "        for i in range(self.heads):\n",
        "            name = f\"fc_out{i}\"\n",
        "            fc_out = self.get_submodule(name)\n",
        "            if i != head_id:\n",
        "                fc_out.requires_grad_(False)\n",
        "            else:\n",
        "                fc_out.requires_grad_(True)"
      ],
      "execution_count": null,
      "outputs": []
    },
    {
      "cell_type": "markdown",
      "metadata": {
        "id": "sVg4JfzOksTd"
      },
      "source": [
        "#### plot_accuracy_final"
      ]
    },
    {
      "cell_type": "code",
      "metadata": {
        "id": "fZSlRYgmkvFA"
      },
      "source": [
        "def plot_accuracy_final(hist_tasks, config, figsize=(10,7), dataset=1,\n",
        "                        path=None):\n",
        "    n_repetitions, n_tasks_total, n_datasets, n_task_switches = \\\n",
        "        hist_tasks.shape\n",
        "    \n",
        "    # average runs\n",
        "    hist_avg = np.average(hist_tasks, axis=0)\n",
        "    # standard deviation\n",
        "    hist_std = np.std(hist_tasks, axis=0)\n",
        "    # Make sure std does not show below min or above max\n",
        "    minimal_val = np.min(hist_tasks)\n",
        "    hist_min = np.fmax(hist_avg - hist_std, minimal_val)\n",
        "    maximal_val = np.max(hist_tasks)\n",
        "    hist_max = np.fmin(hist_avg + hist_std, maximal_val)\n",
        "\n",
        "    plt.figure(figsize=figsize)\n",
        "    ax = plt.subplot(111)\n",
        "    #ax.set_ylim(-0.05, 1.05)\n",
        "    ax.set_xlabel(\"task\")\n",
        "    ax.set_ylabel(\"accuracy\")\n",
        "    xvals = range(n_task_switches)\n",
        "    ax.set_xticks(xvals)\n",
        "    ax.set_xticklabels(np.array(xvals) + 1)\n",
        "    \n",
        "    # Final Accuracy\n",
        "    # Average\n",
        "    ax.bar(xvals, hist_avg[:,dataset,-1])\n",
        "    # Stds\n",
        "    ax.fill_between(xvals,\n",
        "                    hist_min[:,dataset,-1],\n",
        "                    hist_max[:,dataset,-1],\n",
        "                    alpha=0.3)\n",
        "    \n",
        "    plt.title(f'{[\"Train\", \"Test\",][dataset]}: {config[\"experiment_name\"]}' +\n",
        "              f' - {\"multi\" if config[\"multi_head\"] else \"single\"}-head')"
      ],
      "execution_count": 16,
      "outputs": []
    },
    {
      "cell_type": "markdown",
      "metadata": {
        "id": "Mi9MW-_LqT4Z"
      },
      "source": [
        "#### plot_accuracy_tasks"
      ]
    },
    {
      "cell_type": "code",
      "metadata": {
        "id": "wM4dCMSGg2tY"
      },
      "source": [
        "def plot_accuracy_tasks(hist_tasks, config, figsize=(10,7), dataset=1,\n",
        "                        path=None):\n",
        "    n_repetitions, n_tasks_total, n_datasets, n_task_switches = \\\n",
        "        hist_tasks.shape\n",
        "    \n",
        "    # average runs\n",
        "    hist_avg = np.average(hist_tasks, axis=0)\n",
        "    # standard deviation\n",
        "    hist_std = np.std(hist_tasks, axis=0)\n",
        "    # Make sure std does not show below min or above max\n",
        "    minimal_val = np.min(hist_tasks)\n",
        "    hist_min = np.fmax(hist_avg - hist_std, minimal_val)\n",
        "    maximal_val = np.max(hist_tasks)\n",
        "    hist_max = np.fmin(hist_avg + hist_std, maximal_val)\n",
        "\n",
        "    width = 0.3\n",
        "    plt.figure(figsize=figsize)\n",
        "    ax = plt.subplot(111)\n",
        "    #ax.set_ylim(-0.05, 1.05)\n",
        "    ax.set_xlabel(\"task\")\n",
        "    ax.set_ylabel(\"accuracy\")\n",
        "    xvals = np.arange(n_task_switches)\n",
        "    ax.set_xticks(xvals)\n",
        "    ax.set_xticklabels(xvals + 1)\n",
        "    \n",
        "    # Accuracy after training on specific task\n",
        "    l1 = \"Directly after Training on task\"\n",
        "    ax.bar(xvals - width, hist_avg[xvals,dataset,xvals], width,\n",
        "           yerr=hist_std[xvals,dataset,xvals], label=l1)\n",
        "\n",
        "    # Accuracy after training on next task\n",
        "    l2 = \"After training on next task\"\n",
        "    ax.bar(xvals[:-1], hist_avg[xvals[:-1],dataset,xvals[:-1] + 1], width,\n",
        "           yerr=hist_std[xvals[:-1],dataset,xvals[:-1] + 1], label=l2)\n",
        "\n",
        "    # Final Accuracy\n",
        "    l3 = \"After training on all tasks\"\n",
        "    ax.bar(xvals + width, hist_avg[:,dataset,-1], width,\n",
        "           yerr=hist_std[:,dataset,-1], label=l3)\n",
        "\n",
        "    plt.legend()\n",
        "    plt.title(f'{[\"Train\", \"Test\",][dataset]}: {config[\"experiment_name\"]}' +\n",
        "              f' - {\"multi\" if config[\"multi_head\"] else \"single\"}-head')\n",
        "    plt.tight_layout()"
      ],
      "execution_count": 17,
      "outputs": []
    },
    {
      "cell_type": "markdown",
      "metadata": {
        "id": "gIl6Y2xfzo9o"
      },
      "source": [
        "## Data"
      ]
    },
    {
      "cell_type": "markdown",
      "metadata": {
        "id": "of6DFcXxzzRl"
      },
      "source": [
        "means and stds taken from 'pre_train_on_cifa10'"
      ]
    },
    {
      "cell_type": "code",
      "metadata": {
        "id": "f6WL-vd9zy3P"
      },
      "source": [
        "means = [0.491400808095932, 0.48215898871421814, 0.44653093814849854]\n",
        "stds = [0.24703224003314972, 0.24348513782024384, 0.26158785820007324]"
      ],
      "execution_count": 18,
      "outputs": []
    },
    {
      "cell_type": "markdown",
      "metadata": {
        "id": "tgFGqh-Y96L0"
      },
      "source": [
        "### CIFAR10x10"
      ]
    },
    {
      "cell_type": "code",
      "metadata": {
        "colab": {
          "base_uri": "https://localhost:8080/",
          "height": 86,
          "referenced_widgets": [
            "67d4b8ec78934864b3cfa1620da29260",
            "1e3470a750494fddb6145ce8ec9b966b",
            "9c39a759302d4ace90ed0ffda7fd4c21",
            "675f3339ffc24a989058c431244080ed",
            "1e99a8e105f447e485125a061473a6ca",
            "34f96f3813d749459a359e49653f0d42",
            "7c228b387cc2480dafd7fb9f58fc29cf",
            "988dd6840bc94d6abdb7acbaa6ab49f2",
            "0ef15b732b8f44bfbb799dd6290f3aac",
            "cc30987d97e54f1e9cd276e9cd714010",
            "b3bffad4bdd44e0ba1b7dc16d372657a"
          ]
        },
        "id": "CvWBvPax98Bg",
        "outputId": "f482279b-01b0-400e-c8bb-11dc73de3cc4"
      },
      "source": [
        "transform = transforms.Compose([transforms.ToTensor(),\n",
        "                                transforms.Normalize(means, stds)])\n",
        "\n",
        "ds_train_cifar100 = datasets.CIFAR100(\"data\", train=True,\n",
        "                                      transform=transform,\n",
        "                                      download=True)\n",
        "\n",
        "ds_test_cifar100 = datasets.CIFAR100(\"data\", train=False,\n",
        "                                     transform=transform,\n",
        "                                     download=False)"
      ],
      "execution_count": 19,
      "outputs": [
        {
          "output_type": "stream",
          "name": "stdout",
          "text": [
            "Downloading https://www.cs.toronto.edu/~kriz/cifar-100-python.tar.gz to data/cifar-100-python.tar.gz\n"
          ]
        },
        {
          "output_type": "display_data",
          "data": {
            "application/vnd.jupyter.widget-view+json": {
              "model_id": "67d4b8ec78934864b3cfa1620da29260",
              "version_minor": 0,
              "version_major": 2
            },
            "text/plain": [
              "  0%|          | 0/169001437 [00:00<?, ?it/s]"
            ]
          },
          "metadata": {}
        },
        {
          "output_type": "stream",
          "name": "stdout",
          "text": [
            "Extracting data/cifar-100-python.tar.gz to data\n"
          ]
        }
      ]
    },
    {
      "cell_type": "markdown",
      "metadata": {
        "id": "Kj4iD8iLREiq"
      },
      "source": [
        "Task labels (of no functional relevance)"
      ]
    },
    {
      "cell_type": "code",
      "metadata": {
        "id": "NMCI3HnHAKkv"
      },
      "source": [
        "labels_task1 = [\"apples\", \"aquarium fish\", \"baby\", \"bear\", \"beaver\", \"bed\", \"bee\", \"beetle\", \"bicycle\", \"bottles\"]\n",
        "labels_task2 = [\"bowls\", \"boy\", \"bridge\", \"bus\", \"butterfly\", \"camel\", \"cans\", \"castle\", \"caterpillar\", \"cattle\"]\n",
        "labels_task3 = [\"chair\", \"chimpanzee\", \"clock\", \"cloud\", \"cockroach\", \"couch\", \"crab\", \"crocodile\", \"cups\", \"dinosaur\"]\n",
        "labels_task4 = [\"dolphin\", \"elephant\", \"flatfish\", \"forest\", \"fox\", \"girl\", \"hamster\", \"house\", \"kangaroo\", \"computer keyboard\"]\n",
        "labels_task5 = [\"lamp\", \"lawn mower\", \"leopard\", \"lion\", \"lizard\", \"lobster\", \"man\", \"maple tree\", \"motor cycle\", \"mountain\"]\n",
        "labels_task6 = [\"mouse\", \"mushrooms\", \"oak tree\", \"oranges\", \"orchids\", \"otter\", \"palm tree\", \"pears\", \"pickup truck\", \"pine tree\"]\n",
        "labels_task7 = [\"plain\", \"plates\", \"poppies\", \"porcupine\", \"possum\", \"rabbit\", \"raccoon\", \"ray\", \"road\", \"rocket\"]\n",
        "labels_task8 = [\"roses\", \"sea\", \"seal\", \"shark\", \"shrew\", \"skunk\", \"skyscraper\", \"snail\", \"snake\", \"spider\"]\n",
        "labels_task9 = [\"squirrel\", \"streetcar\", \"sunflowers\", \"sweet peppers\", \"table\", \"tank\", \"telephone\", \"television\", \"tiger\", \"tractor\"]\n",
        "labels_task10 = [\"train\", \"trout\", \"tulips\", \"turtle\", \"wardrobe\", \"whale\", \"willow tree\", \"wolf\", \"woman\", \"worm\"]\n",
        "labels = [labels_task1, labels_task2, labels_task3, labels_task4, labels_task5, labels_task6, labels_task7, labels_task8, labels_task9, labels_task10]"
      ],
      "execution_count": 20,
      "outputs": []
    },
    {
      "cell_type": "code",
      "metadata": {
        "id": "GoPuygwSAvd8"
      },
      "source": [
        "idx_labels = [ [list(range(task_id*10, task_id*10 + 10))] for task_id in range(10)]"
      ],
      "execution_count": 21,
      "outputs": []
    },
    {
      "cell_type": "code",
      "metadata": {
        "id": "FzvJpcbJDi8Q"
      },
      "source": [
        "def concat(ilist):\n",
        "    if len(ilist) == 2:\n",
        "        return ilist[0] + ilist[1]\n",
        "    return ilist[0] + concat(ilist[1:])"
      ],
      "execution_count": 22,
      "outputs": []
    },
    {
      "cell_type": "code",
      "metadata": {
        "colab": {
          "base_uri": "https://localhost:8080/",
          "height": 303
        },
        "id": "j0X2TmUbFW7H",
        "outputId": "b6f9cdbe-93b2-4e0c-cb91-8e27965091d7"
      },
      "source": [
        "plt.imshow( ds_test_cifar100[9][0].permute(1, 2, 0))"
      ],
      "execution_count": 23,
      "outputs": [
        {
          "output_type": "stream",
          "name": "stderr",
          "text": [
            "Clipping input data to the valid range for imshow with RGB data ([0..1] for floats or [0..255] for integers).\n"
          ]
        },
        {
          "output_type": "execute_result",
          "data": {
            "text/plain": [
              "<matplotlib.image.AxesImage at 0x7fafccd18b10>"
            ]
          },
          "metadata": {},
          "execution_count": 23
        },
        {
          "output_type": "display_data",
          "data": {
            "image/png": "[encoded data removed]",
            "text/plain": [
              "<Figure size 432x288 with 1 Axes>"
            ]
          },
          "metadata": {
            "needs_background": "light"
          }
        }
      ]
    },
    {
      "cell_type": "markdown",
      "metadata": {
        "id": "R3_KJQk6HsxH"
      },
      "source": [
        "### Group data into the right tasks"
      ]
    },
    {
      "cell_type": "code",
      "metadata": {
        "id": "DNqceYKpDUc8"
      },
      "source": [
        "dss_train = [[] for _ in range(N_TASKS)]\n",
        "for datapoint in ds_train_cifar100:\n",
        "    task_id = datapoint[1] // 10\n",
        "    dss_train[task_id].append((datapoint[0].to(DEVICE),\n",
        "                               torch.tensor(datapoint[1] % 10).to(DEVICE)))"
      ],
      "execution_count": 24,
      "outputs": []
    },
    {
      "cell_type": "code",
      "metadata": {
        "id": "dfj849TEwJpG"
      },
      "source": [
        "dss_test = [[] for _ in range(N_TASKS)]\n",
        "for datapoint in ds_test_cifar100:\n",
        "    task_id = datapoint[1] // 10\n",
        "    dss_test[task_id].append((datapoint[0].to(DEVICE),\n",
        "                              torch.tensor(datapoint[1] % 10).to(DEVICE)))"
      ],
      "execution_count": 25,
      "outputs": []
    },
    {
      "cell_type": "code",
      "metadata": {
        "id": "jeSQRJ1JxZz_"
      },
      "source": [
        "dls_train = [DataLoader(ds, batch_size=BATCH_SIZE, shuffle=True) for ds in dss_train]\n",
        "dls_test = [DataLoader(ds, batch_size=BATCH_SIZE, shuffle=False) for ds in dss_test]"
      ],
      "execution_count": 26,
      "outputs": []
    },
    {
      "cell_type": "markdown",
      "metadata": {
        "id": "DkekJ-c7bzBm"
      },
      "source": [
        "# Fine-Tuning"
      ]
    },
    {
      "cell_type": "markdown",
      "metadata": {
        "id": "nrS55qNmptaa"
      },
      "source": [
        "### FineTune (class)"
      ]
    },
    {
      "cell_type": "code",
      "metadata": {
        "id": "A2PFJsi4b3Ik"
      },
      "source": [
        "class FineTune(nn.Module):\n",
        "\n",
        "    def __init__(self, config):\n",
        "        super(FineTune, self).__init__()\n",
        "\n",
        "        self.convLayers = copy.deepcopy(config[\"convLayers\"])\n",
        "        self.hidden1_dim = config[\"hidden1_dim\"]\n",
        "        self.hidden2_dim = config[\"hidden2_dim\"]\n",
        "        self.output_dim = config[\"output_dim\"]\n",
        "        self.multi_head = config[\"multi_head\"]\n",
        "        self.lr = config[\"learning_rate\"]\n",
        "        self.betas = config[\"betas\"]\n",
        "        self.device = config[\"device\"]\n",
        "\n",
        "        self.convLayers.requires_grad_(False)\n",
        "\n",
        "        self.fc1 = nn.Linear(self.convLayers.out_units, self.hidden1_dim)\n",
        "        self.nl1 = nn.ReLU()\n",
        "\n",
        "        self.fc2 = nn.Linear(self.hidden1_dim, self.hidden2_dim)\n",
        "        self.nl2 = nn.ReLU()\n",
        "\n",
        "        self.base_params = [\"fc1\", \"fc2\"]\n",
        "\n",
        "        self.to(self.device)\n",
        "\n",
        "        self.opts = []\n",
        "        self.heads = 0\n",
        "        self.curr_head = 0\n",
        "        self.new_head()\n",
        "\n",
        "    def forward(self, X):\n",
        "        \"\"\"\n",
        "        Applies convolutions and linear layers on input X\n",
        "        \"\"\"\n",
        "\n",
        "        X1 = self.convLayers(X)\n",
        "        X2 = self.nl1(self.fc1(torch.flatten(X1, start_dim=1)))\n",
        "        X3 = self.nl2(self.fc2(X2))\n",
        "\n",
        "        name = f\"fc_out{self.curr_head}\"\n",
        "\n",
        "        fc_out = self.get_submodule(name)\n",
        "\n",
        "        return fc_out(X3)\n",
        "\n",
        "    def new_head(self):\n",
        "        \"\"\"\n",
        "        Appends new heads\n",
        "        \"\"\"\n",
        "        name = f\"fc_out{self.heads}\"\n",
        "        self.add_module(name, nn.Linear(self.hidden2_dim, self.output_dim).\n",
        "                        to(self.device))\n",
        "        \n",
        "        # Choose right parameters for optimizer\n",
        "        keywords = self.base_params + [name,]\n",
        "        self.opts.append(optim.Adam(filter_params(self, keywords),\n",
        "                                    lr=self.lr,\n",
        "                                    betas=self.betas))\n",
        "        self.heads += 1\n",
        "\n",
        "    def task_update(self):\n",
        "        \"\"\"\n",
        "        Creates new head if multihead\n",
        "        \"\"\"\n",
        "        if self.multi_head:\n",
        "            self.new_head()\n",
        "\n",
        "    def set_head(self, head_id):\n",
        "        \"\"\"\n",
        "        Switches Network to another head\n",
        "        \"\"\"\n",
        "        self.curr_head = head_id\n",
        "        for i in range(self.heads):\n",
        "            name = f\"fc_out{i}\"\n",
        "            fc_out = self.get_submodule(name)\n",
        "            if i != head_id:\n",
        "                fc_out.requires_grad_(False)\n",
        "            else:\n",
        "                fc_out.requires_grad_(True)"
      ],
      "execution_count": null,
      "outputs": []
    },
    {
      "cell_type": "markdown",
      "metadata": {
        "id": "UcghJRKipTXZ"
      },
      "source": [
        "## training functions"
      ]
    },
    {
      "cell_type": "markdown",
      "metadata": {
        "id": "BNt5uh18pqZP"
      },
      "source": [
        "### train_finetune"
      ]
    },
    {
      "cell_type": "code",
      "metadata": {
        "id": "tw7c4PQVpWnZ"
      },
      "source": [
        "def train_finetune(model, dataloader, optimizer, criterion, clip):\n",
        "\n",
        "    model.train()\n",
        "\n",
        "    epoch_loss = 0\n",
        "\n",
        "    for X, y in dataloader:\n",
        "\n",
        "        optimizer.zero_grad()\n",
        "\n",
        "        output = model(X)\n",
        "\n",
        "        loss = criterion(output, y)\n",
        "\n",
        "        loss.backward()\n",
        "\n",
        "        torch.nn.utils.clip_grad_norm_(model.parameters(), clip)\n",
        "\n",
        "        optimizer.step()\n",
        "\n",
        "        epoch_loss += loss.item()\n",
        "\n",
        "    return epoch_loss / len(dataloader)"
      ],
      "execution_count": null,
      "outputs": []
    },
    {
      "cell_type": "markdown",
      "metadata": {
        "id": "P8V5ElHwrCXm"
      },
      "source": [
        "### fit_finetune"
      ]
    },
    {
      "cell_type": "code",
      "metadata": {
        "id": "V1jpsSnmrBwP"
      },
      "source": [
        "def fit_finetune(\n",
        "    model,\n",
        "    optimizer,\n",
        "    criterion,\n",
        "    config\n",
        "):\n",
        "    repetition = config[\"curr_repetition\"]\n",
        "    n_task_epochs = config[\"curr_n_task_epochs\"]\n",
        "    task_id = config[\"curr_task_id\"]\n",
        "    clip = config[\"clip\"]\n",
        "    eval_within = config[\"eval_within\"]\n",
        "    dls_train = config[\"dls_train\"]\n",
        "\n",
        "    if eval_within:\n",
        "        n_tasks_total = config[\"n_tasks_total\"]\n",
        "        n_datasets = config[\"n_datasets\"]\n",
        "        step_size_evaluation = config[\"step_size_evaluation\"]\n",
        "        total_hits = torch.zeros((n_tasks_total, n_datasets,\n",
        "                                n_task_epochs//step_size_evaluation,))\n",
        "        total_loss = torch.zeros((n_tasks_total, n_datasets,\n",
        "                                n_task_epochs//step_size_evaluation,))\n",
        "        # [task_id, dataset, evaluations]\n",
        "\n",
        "    for epoch in range(n_task_epochs):\n",
        "        # First Epoch log performance BEFORE training\n",
        "        if epoch == 0 and eval_within:\n",
        "            #TODO: CHANGE\n",
        "            eval_all_tasks(model, total_loss, total_hits, n_tasks_total, 0, criterion)\n",
        "        \n",
        "        start_time = time.time()\n",
        "        \n",
        "        train_loss = train_finetune(model, dls_train[task_id], optimizer, criterion, clip)\n",
        "        \n",
        "        end_time = time.time()\n",
        "        \n",
        "        epoch_mins, epoch_secs = epoch_time(start_time, end_time)\n",
        "\n",
        "        # Log performance AFTER training\n",
        "        if eval_within and epoch % step_size_evaluation == 0 and epoch != 0:\n",
        "            idx = epoch//step_size_evaluation\n",
        "            #TODO: CHANGE\n",
        "            eval_all_tasks(model, total_loss, total_hits, n_tasks_total, idx, criterion)\n",
        "\n",
        "        \n",
        "        if repetition is not None:\n",
        "            print(f'Epoch: {epoch+1:02} | Time: {epoch_mins}m {epoch_secs}s | R{repetition} T{task_id}')\n",
        "        else:\n",
        "            print(f'Epoch: {epoch+1:02} | Time: {epoch_mins}m {epoch_secs}s | T{task_id}')\n",
        "        print(f'\\tTrain Loss: {train_loss:.3f} | Train PPL: {math.exp(train_loss):7.3f}')\n",
        "    \n",
        "    if eval_within:\n",
        "        return total_loss, total_hits\n",
        "    return None, None"
      ],
      "execution_count": null,
      "outputs": []
    },
    {
      "cell_type": "markdown",
      "metadata": {
        "id": "5LdRQOamd1m7"
      },
      "source": [
        "### repeat_func, init_func"
      ]
    },
    {
      "cell_type": "code",
      "metadata": {
        "id": "xjEvErFWYxeD"
      },
      "source": [
        "def filter_params2(model, keywords):\n",
        "    \"\"\"Returns list of Parameters which include keyword\"\"\"\n",
        "    ret = []\n",
        "    if isinstance(keywords, list):\n",
        "        for name, param in model.named_parameters():\n",
        "            for keyword in keywords:\n",
        "                if keyword in name:\n",
        "                    ret.append(name)\n",
        "        return ret\n",
        "    else:\n",
        "        for name, param in model.named_parameters():\n",
        "            if keywords in name:\n",
        "                ret.append(name)\n",
        "        return ret"
      ],
      "execution_count": null,
      "outputs": []
    },
    {
      "cell_type": "code",
      "metadata": {
        "id": "YP1jlYLidvAd"
      },
      "source": [
        "def init_func_finetune(config):\n",
        "    nmodel = FineTune(config)\n",
        "    criterion = nn.CrossEntropyLoss()\n",
        "\n",
        "    for name, _ in nmodel.named_parameters():\n",
        "        print(name)\n",
        "\n",
        "    pass_on_variables = dict()\n",
        "    return nmodel, criterion, pass_on_variables\n",
        "\n",
        "def repeat_func_finetune(model, criterion, config, pass_on_variables):\n",
        "\n",
        "    if config[\"multi_head\"]:\n",
        "        optimizer = model.opts[config[\"curr_task_id\"]]\n",
        "        model.set_head(config[\"curr_task_id\"])\n",
        "    else:\n",
        "        optimizer = model.opts[0]\n",
        "    \n",
        "    # optimizer = optim.Adam(filter_params(model, names),\n",
        "    #                        lr=config[\"learning_rate\"],\n",
        "    #                        betas=config[\"betas\"])\n",
        "\n",
        "    fit_finetune(model, optimizer, criterion, config)\n",
        "\n",
        "    model.task_update()\n",
        "    \n",
        "    return model, None, None"
      ],
      "execution_count": null,
      "outputs": []
    },
    {
      "cell_type": "markdown",
      "metadata": {
        "id": "SgIr30WEr-O2"
      },
      "source": [
        "### config"
      ]
    },
    {
      "cell_type": "code",
      "metadata": {
        "id": "eOzholzCsD-b"
      },
      "source": [
        "\"\"\"\n",
        "config: configuration dictionary for experiment.\n",
        "Variables starting with 'curr' are changed within the experiment.\n",
        "\n",
        "Parameters\n",
        "----------\n",
        "experiment_name : string\n",
        "    Name for the experiment\n",
        "n_repetitions : int\n",
        "    Amount of repetitions the experiment has\n",
        "n_tasks_total : int\n",
        "    Amount of tasks in total (CIFAR10x10 has 10)\n",
        "n_datasets : int\n",
        "    Amount of datasets, is 2 if you only have train and test,\n",
        "    but is 3 if you have train, valid and test.\n",
        "device : torch.device\n",
        "    gpu or cpu depending on what is available\n",
        "schedule : list of tuples: [(task1, epochs1), (task2, epochs2), ...]\n",
        "    Defines which task is trained on for how many tuples\n",
        "clip : float\n",
        "    clip for which gradients should be clipped during training, helps for more\n",
        "    stable training and if gradients explode.\n",
        "eval_within : Bool\n",
        "    Switch whether performance is evaluated within a task or not\n",
        "step_size_eval : int\n",
        "    If eval_within, then this value determines after how many epochs within\n",
        "    a repetition performance is evaluated.\n",
        "learining_rate : float\n",
        "    learning rate for optimizer\n",
        "betas : tuple(float, float)\n",
        "    betas for Adam Optimizer\n",
        "dls_train : list[DataLoader1, DataLoader2,...]\n",
        "    The Dataloader for the corresponding task_id at the index:\n",
        "    Task1, idx=0, DataLoader1; Task2, idx=1, DataLoader2;...\n",
        "dls_test : list[DataLoader1, DataLoader2,...]\n",
        "    Same as dls_train but for test\n",
        "hidden1_dim : int\n",
        "\n",
        "hiddem2_dim : int\n",
        "\n",
        "output_dim : int\n",
        "    dimensionality of task output (CIFAR10x10 has 10, because 10 classes for\n",
        "    each task)\n",
        "\"\"\"\n",
        "\n",
        "config = {\n",
        "    \"experiment_name\": \"finetune\",\n",
        "    \"n_repetitions\": 1,\n",
        "    \"n_tasks_total\": N_TASKS,\n",
        "    \"n_datasets\": 2,\n",
        "    \"device\": DEVICE,\n",
        "    \"schedule\": dbg_not_interleaved,\n",
        "    \"clip\": 1,\n",
        "    \"eval_within\": False,\n",
        "    \"step_size_evaluation\": 10,\n",
        "    \"learning_rate\": LEARNING_RATE,\n",
        "    \"betas\": BETAS,\n",
        "    \"dls_train\": dls_train,\n",
        "    \"dls_test\": dls_test,\n",
        "    \"convLayers\": convLayers,\n",
        "    \"hidden1_dim\": 2000,\n",
        "    \"hidden2_dim\": 2000,\n",
        "    \"output_dim\": OUTPUT_DIM,\n",
        "    \"multi_head\": True,\n",
        "}"
      ],
      "execution_count": null,
      "outputs": []
    },
    {
      "cell_type": "markdown",
      "metadata": {
        "id": "42J8rR9xqX63"
      },
      "source": [
        "### experiment"
      ]
    },
    {
      "cell_type": "code",
      "metadata": {
        "id": "lmJkFfdQKdrO"
      },
      "source": [
        "SEED = 54321\n",
        "random.seed(SEED)\n",
        "np.random.seed(SEED)\n",
        "torch.manual_seed(SEED)\n",
        "torch.cuda.manual_seed(SEED)\n",
        "torch.backends.cudnn.deterministic = True"
      ],
      "execution_count": null,
      "outputs": []
    },
    {
      "cell_type": "code",
      "metadata": {
        "colab": {
          "base_uri": "https://localhost:8080/"
        },
        "id": "_Ndz4ZJxohu1",
        "outputId": "d89284dd-a5ad-450a-cdca-86f878ac8a3b"
      },
      "source": [
        "hist_losses, hist_hitsss, _, _, models = experiment(config, init_func_finetune, repeat_func_finetune)"
      ],
      "execution_count": null,
      "outputs": [
        {
          "output_type": "stream",
          "name": "stdout",
          "text": [
            "@@@@@@@@@ Repetition   0 @@@@@@@@@\n",
            "convLayers.conv1.weight\n",
            "convLayers.conv1.bias\n",
            "convLayers.bn1.weight\n",
            "convLayers.bn1.bias\n",
            "convLayers.conv2.weight\n",
            "convLayers.conv2.bias\n",
            "convLayers.bn2.weight\n",
            "convLayers.bn2.bias\n",
            "convLayers.conv3.weight\n",
            "convLayers.conv3.bias\n",
            "convLayers.bn3.weight\n",
            "convLayers.bn3.bias\n",
            "convLayers.conv4.weight\n",
            "convLayers.conv4.bias\n",
            "convLayers.bn4.weight\n",
            "convLayers.bn4.bias\n",
            "convLayers.conv5.weight\n",
            "convLayers.conv5.bias\n",
            "convLayers.bn5.weight\n",
            "convLayers.bn5.bias\n",
            "fc1.weight\n",
            "fc1.bias\n",
            "fc2.weight\n",
            "fc2.bias\n",
            "fc_out0.weight\n",
            "fc_out0.bias\n",
            "\n",
            "SCHEDULE: finetune.s0.t0.e10\n"
          ]
        },
        {
          "output_type": "stream",
          "name": "stderr",
          "text": [
            "/usr/local/lib/python3.7/dist-packages/torch/optim/adam.py:48: UserWarning: optimizer contains a parameter group with duplicate parameters; in future, this will cause an error; see github.com/pytorch/pytorch/issues/40967 for more information\n",
            "  super(Adam, self).__init__(params, defaults)\n"
          ]
        },
        {
          "output_type": "stream",
          "name": "stdout",
          "text": [
            "Epoch: 01 | Time: 0m 0s | R0 T0\n",
            "\tTrain Loss: 1.558 | Train PPL:   4.748\n",
            "Epoch: 02 | Time: 0m 0s | R0 T0\n",
            "\tTrain Loss: 0.984 | Train PPL:   2.676\n",
            "Epoch: 03 | Time: 0m 0s | R0 T0\n",
            "\tTrain Loss: 0.637 | Train PPL:   1.892\n",
            "Epoch: 04 | Time: 0m 0s | R0 T0\n",
            "\tTrain Loss: 0.364 | Train PPL:   1.440\n",
            "Epoch: 05 | Time: 0m 0s | R0 T0\n",
            "\tTrain Loss: 0.217 | Train PPL:   1.243\n",
            "Epoch: 06 | Time: 0m 0s | R0 T0\n",
            "\tTrain Loss: 0.156 | Train PPL:   1.169\n",
            "Epoch: 07 | Time: 0m 0s | R0 T0\n",
            "\tTrain Loss: 0.126 | Train PPL:   1.135\n",
            "Epoch: 08 | Time: 0m 0s | R0 T0\n",
            "\tTrain Loss: 0.116 | Train PPL:   1.123\n",
            "Epoch: 09 | Time: 0m 0s | R0 T0\n",
            "\tTrain Loss: 0.109 | Train PPL:   1.116\n",
            "Epoch: 10 | Time: 0m 0s | R0 T0\n",
            "\tTrain Loss: 0.090 | Train PPL:   1.094\n",
            "\n",
            "SCHEDULE: finetune.s1.t1.e10\n",
            "Epoch: 01 | Time: 0m 0s | R0 T1\n",
            "\tTrain Loss: 1.537 | Train PPL:   4.652\n",
            "Epoch: 02 | Time: 0m 0s | R0 T1\n",
            "\tTrain Loss: 1.025 | Train PPL:   2.786\n",
            "Epoch: 03 | Time: 0m 0s | R0 T1\n",
            "\tTrain Loss: 0.687 | Train PPL:   1.988\n",
            "Epoch: 04 | Time: 0m 0s | R0 T1\n",
            "\tTrain Loss: 0.357 | Train PPL:   1.430\n",
            "Epoch: 05 | Time: 0m 0s | R0 T1\n",
            "\tTrain Loss: 0.175 | Train PPL:   1.191\n",
            "Epoch: 06 | Time: 0m 0s | R0 T1\n",
            "\tTrain Loss: 0.104 | Train PPL:   1.110\n",
            "Epoch: 07 | Time: 0m 0s | R0 T1\n",
            "\tTrain Loss: 0.079 | Train PPL:   1.083\n",
            "Epoch: 08 | Time: 0m 0s | R0 T1\n",
            "\tTrain Loss: 0.068 | Train PPL:   1.070\n",
            "Epoch: 09 | Time: 0m 0s | R0 T1\n",
            "\tTrain Loss: 0.050 | Train PPL:   1.051\n",
            "Epoch: 10 | Time: 0m 0s | R0 T1\n",
            "\tTrain Loss: 0.059 | Train PPL:   1.060\n",
            "\n",
            "SCHEDULE: finetune.s2.t2.e10\n",
            "Epoch: 01 | Time: 0m 0s | R0 T2\n",
            "\tTrain Loss: 1.395 | Train PPL:   4.034\n",
            "Epoch: 02 | Time: 0m 0s | R0 T2\n",
            "\tTrain Loss: 0.852 | Train PPL:   2.344\n",
            "Epoch: 03 | Time: 0m 0s | R0 T2\n",
            "\tTrain Loss: 0.506 | Train PPL:   1.659\n",
            "Epoch: 04 | Time: 0m 0s | R0 T2\n",
            "\tTrain Loss: 0.239 | Train PPL:   1.270\n",
            "Epoch: 05 | Time: 0m 0s | R0 T2\n",
            "\tTrain Loss: 0.125 | Train PPL:   1.133\n",
            "Epoch: 06 | Time: 0m 0s | R0 T2\n",
            "\tTrain Loss: 0.081 | Train PPL:   1.085\n",
            "Epoch: 07 | Time: 0m 0s | R0 T2\n",
            "\tTrain Loss: 0.064 | Train PPL:   1.066\n",
            "Epoch: 08 | Time: 0m 0s | R0 T2\n",
            "\tTrain Loss: 0.057 | Train PPL:   1.059\n",
            "Epoch: 09 | Time: 0m 0s | R0 T2\n",
            "\tTrain Loss: 0.061 | Train PPL:   1.062\n",
            "Epoch: 10 | Time: 0m 0s | R0 T2\n",
            "\tTrain Loss: 0.028 | Train PPL:   1.029\n",
            "\n",
            "SCHEDULE: finetune.s3.t3.e10\n",
            "Epoch: 01 | Time: 0m 0s | R0 T3\n",
            "\tTrain Loss: 1.441 | Train PPL:   4.224\n",
            "Epoch: 02 | Time: 0m 0s | R0 T3\n",
            "\tTrain Loss: 0.944 | Train PPL:   2.569\n",
            "Epoch: 03 | Time: 0m 0s | R0 T3\n",
            "\tTrain Loss: 0.563 | Train PPL:   1.755\n",
            "Epoch: 04 | Time: 0m 0s | R0 T3\n",
            "\tTrain Loss: 0.259 | Train PPL:   1.296\n",
            "Epoch: 05 | Time: 0m 0s | R0 T3\n",
            "\tTrain Loss: 0.121 | Train PPL:   1.128\n",
            "Epoch: 06 | Time: 0m 0s | R0 T3\n",
            "\tTrain Loss: 0.075 | Train PPL:   1.078\n",
            "Epoch: 07 | Time: 0m 0s | R0 T3\n",
            "\tTrain Loss: 0.084 | Train PPL:   1.088\n",
            "Epoch: 08 | Time: 0m 0s | R0 T3\n",
            "\tTrain Loss: 0.074 | Train PPL:   1.077\n",
            "Epoch: 09 | Time: 0m 0s | R0 T3\n",
            "\tTrain Loss: 0.053 | Train PPL:   1.054\n",
            "Epoch: 10 | Time: 0m 0s | R0 T3\n",
            "\tTrain Loss: 0.049 | Train PPL:   1.050\n",
            "\n",
            "SCHEDULE: finetune.s4.t4.e10\n",
            "Epoch: 01 | Time: 0m 0s | R0 T4\n",
            "\tTrain Loss: 1.345 | Train PPL:   3.839\n",
            "Epoch: 02 | Time: 0m 0s | R0 T4\n",
            "\tTrain Loss: 0.808 | Train PPL:   2.244\n",
            "Epoch: 03 | Time: 0m 0s | R0 T4\n",
            "\tTrain Loss: 0.458 | Train PPL:   1.581\n",
            "Epoch: 04 | Time: 0m 0s | R0 T4\n",
            "\tTrain Loss: 0.214 | Train PPL:   1.238\n",
            "Epoch: 05 | Time: 0m 0s | R0 T4\n",
            "\tTrain Loss: 0.115 | Train PPL:   1.121\n",
            "Epoch: 06 | Time: 0m 0s | R0 T4\n",
            "\tTrain Loss: 0.061 | Train PPL:   1.063\n",
            "Epoch: 07 | Time: 0m 0s | R0 T4\n",
            "\tTrain Loss: 0.050 | Train PPL:   1.051\n",
            "Epoch: 08 | Time: 0m 0s | R0 T4\n",
            "\tTrain Loss: 0.039 | Train PPL:   1.040\n",
            "Epoch: 09 | Time: 0m 0s | R0 T4\n",
            "\tTrain Loss: 0.048 | Train PPL:   1.049\n",
            "Epoch: 10 | Time: 0m 0s | R0 T4\n",
            "\tTrain Loss: 0.043 | Train PPL:   1.044\n",
            "\n",
            "SCHEDULE: finetune.s5.t5.e10\n",
            "Epoch: 01 | Time: 0m 0s | R0 T5\n",
            "\tTrain Loss: 1.281 | Train PPL:   3.599\n",
            "Epoch: 02 | Time: 0m 0s | R0 T5\n",
            "\tTrain Loss: 0.763 | Train PPL:   2.145\n",
            "Epoch: 03 | Time: 0m 0s | R0 T5\n",
            "\tTrain Loss: 0.441 | Train PPL:   1.555\n",
            "Epoch: 04 | Time: 0m 0s | R0 T5\n",
            "\tTrain Loss: 0.230 | Train PPL:   1.259\n",
            "Epoch: 05 | Time: 0m 0s | R0 T5\n",
            "\tTrain Loss: 0.125 | Train PPL:   1.134\n",
            "Epoch: 06 | Time: 0m 0s | R0 T5\n",
            "\tTrain Loss: 0.078 | Train PPL:   1.082\n",
            "Epoch: 07 | Time: 0m 0s | R0 T5\n",
            "\tTrain Loss: 0.076 | Train PPL:   1.079\n",
            "Epoch: 08 | Time: 0m 0s | R0 T5\n",
            "\tTrain Loss: 0.056 | Train PPL:   1.057\n",
            "Epoch: 09 | Time: 0m 0s | R0 T5\n",
            "\tTrain Loss: 0.046 | Train PPL:   1.047\n",
            "Epoch: 10 | Time: 0m 0s | R0 T5\n",
            "\tTrain Loss: 0.030 | Train PPL:   1.031\n",
            "\n",
            "SCHEDULE: finetune.s6.t6.e10\n",
            "Epoch: 01 | Time: 0m 0s | R0 T6\n",
            "\tTrain Loss: 1.199 | Train PPL:   3.317\n",
            "Epoch: 02 | Time: 0m 0s | R0 T6\n",
            "\tTrain Loss: 0.713 | Train PPL:   2.040\n",
            "Epoch: 03 | Time: 0m 0s | R0 T6\n",
            "\tTrain Loss: 0.391 | Train PPL:   1.478\n",
            "Epoch: 04 | Time: 0m 0s | R0 T6\n",
            "\tTrain Loss: 0.188 | Train PPL:   1.207\n",
            "Epoch: 05 | Time: 0m 0s | R0 T6\n",
            "\tTrain Loss: 0.097 | Train PPL:   1.102\n",
            "Epoch: 06 | Time: 0m 0s | R0 T6\n",
            "\tTrain Loss: 0.069 | Train PPL:   1.071\n",
            "Epoch: 07 | Time: 0m 0s | R0 T6\n",
            "\tTrain Loss: 0.055 | Train PPL:   1.057\n",
            "Epoch: 08 | Time: 0m 0s | R0 T6\n",
            "\tTrain Loss: 0.050 | Train PPL:   1.051\n",
            "Epoch: 09 | Time: 0m 0s | R0 T6\n",
            "\tTrain Loss: 0.042 | Train PPL:   1.043\n",
            "Epoch: 10 | Time: 0m 0s | R0 T6\n",
            "\tTrain Loss: 0.045 | Train PPL:   1.046\n",
            "\n",
            "SCHEDULE: finetune.s7.t7.e10\n",
            "Epoch: 01 | Time: 0m 0s | R0 T7\n",
            "\tTrain Loss: 1.354 | Train PPL:   3.872\n",
            "Epoch: 02 | Time: 0m 0s | R0 T7\n",
            "\tTrain Loss: 0.832 | Train PPL:   2.297\n",
            "Epoch: 03 | Time: 0m 0s | R0 T7\n",
            "\tTrain Loss: 0.464 | Train PPL:   1.591\n",
            "Epoch: 04 | Time: 0m 0s | R0 T7\n",
            "\tTrain Loss: 0.217 | Train PPL:   1.242\n",
            "Epoch: 05 | Time: 0m 0s | R0 T7\n",
            "\tTrain Loss: 0.137 | Train PPL:   1.147\n",
            "Epoch: 06 | Time: 0m 0s | R0 T7\n",
            "\tTrain Loss: 0.092 | Train PPL:   1.096\n",
            "Epoch: 07 | Time: 0m 0s | R0 T7\n",
            "\tTrain Loss: 0.045 | Train PPL:   1.046\n",
            "Epoch: 08 | Time: 0m 0s | R0 T7\n",
            "\tTrain Loss: 0.048 | Train PPL:   1.049\n",
            "Epoch: 09 | Time: 0m 0s | R0 T7\n",
            "\tTrain Loss: 0.043 | Train PPL:   1.044\n",
            "Epoch: 10 | Time: 0m 0s | R0 T7\n",
            "\tTrain Loss: 0.035 | Train PPL:   1.036\n",
            "\n",
            "SCHEDULE: finetune.s8.t8.e10\n",
            "Epoch: 01 | Time: 0m 0s | R0 T8\n",
            "\tTrain Loss: 1.429 | Train PPL:   4.175\n",
            "Epoch: 02 | Time: 0m 0s | R0 T8\n",
            "\tTrain Loss: 0.785 | Train PPL:   2.193\n",
            "Epoch: 03 | Time: 0m 0s | R0 T8\n",
            "\tTrain Loss: 0.396 | Train PPL:   1.486\n",
            "Epoch: 04 | Time: 0m 0s | R0 T8\n",
            "\tTrain Loss: 0.167 | Train PPL:   1.182\n",
            "Epoch: 05 | Time: 0m 0s | R0 T8\n",
            "\tTrain Loss: 0.089 | Train PPL:   1.093\n",
            "Epoch: 06 | Time: 0m 0s | R0 T8\n",
            "\tTrain Loss: 0.057 | Train PPL:   1.058\n",
            "Epoch: 07 | Time: 0m 0s | R0 T8\n",
            "\tTrain Loss: 0.036 | Train PPL:   1.037\n",
            "Epoch: 08 | Time: 0m 0s | R0 T8\n",
            "\tTrain Loss: 0.037 | Train PPL:   1.038\n",
            "Epoch: 09 | Time: 0m 0s | R0 T8\n",
            "\tTrain Loss: 0.033 | Train PPL:   1.034\n",
            "Epoch: 10 | Time: 0m 0s | R0 T8\n",
            "\tTrain Loss: 0.035 | Train PPL:   1.036\n",
            "\n",
            "SCHEDULE: finetune.s9.t9.e10\n",
            "Epoch: 01 | Time: 0m 0s | R0 T9\n",
            "\tTrain Loss: 1.245 | Train PPL:   3.474\n",
            "Epoch: 02 | Time: 0m 0s | R0 T9\n",
            "\tTrain Loss: 0.648 | Train PPL:   1.912\n",
            "Epoch: 03 | Time: 0m 0s | R0 T9\n",
            "\tTrain Loss: 0.305 | Train PPL:   1.356\n",
            "Epoch: 04 | Time: 0m 0s | R0 T9\n",
            "\tTrain Loss: 0.160 | Train PPL:   1.174\n",
            "Epoch: 05 | Time: 0m 0s | R0 T9\n",
            "\tTrain Loss: 0.086 | Train PPL:   1.090\n",
            "Epoch: 06 | Time: 0m 0s | R0 T9\n",
            "\tTrain Loss: 0.070 | Train PPL:   1.072\n",
            "Epoch: 07 | Time: 0m 0s | R0 T9\n",
            "\tTrain Loss: 0.055 | Train PPL:   1.057\n",
            "Epoch: 08 | Time: 0m 0s | R0 T9\n",
            "\tTrain Loss: 0.060 | Train PPL:   1.062\n",
            "Epoch: 09 | Time: 0m 0s | R0 T9\n",
            "\tTrain Loss: 0.052 | Train PPL:   1.054\n",
            "Epoch: 10 | Time: 0m 0s | R0 T9\n",
            "\tTrain Loss: 0.046 | Train PPL:   1.048\n"
          ]
        }
      ]
    },
    {
      "cell_type": "markdown",
      "metadata": {
        "id": "rX8kA_MOasEQ"
      },
      "source": [
        "The riddle of the Optimizer: If I filter out only fc1, fc2 and fc_out{current_task} then the result is different from just taking the optimizer over everything. It is not the convLayers, I have tried that."
      ]
    },
    {
      "cell_type": "markdown",
      "metadata": {
        "id": "evwIAtWSqcNt"
      },
      "source": [
        "### results"
      ]
    },
    {
      "cell_type": "code",
      "metadata": {
        "colab": {
          "base_uri": "https://localhost:8080/",
          "height": 513
        },
        "id": "D9nPq6syKOEr",
        "outputId": "6f2ebdee-efa8-4661-e0b9-10057397f3a4"
      },
      "source": [
        "## TESTSET og all only one Adam\n",
        "plot_accuracy_tasks(hist_hitsss, config)"
      ],
      "execution_count": null,
      "outputs": [
        {
          "output_type": "display_data",
          "data": {
            "image/png": "[encoded data removed]",
            "text/plain": [
              "<Figure size 720x504 with 1 Axes>"
            ]
          },
          "metadata": {
            "needs_background": "light"
          }
        }
      ]
    },
    {
      "cell_type": "code",
      "metadata": {
        "colab": {
          "base_uri": "https://localhost:8080/",
          "height": 513
        },
        "id": "AWvTBtlPXSM0",
        "outputId": "ca523147-b5d6-449a-864b-6b528772256d"
      },
      "source": [
        "## TESTSET - req grad only one Adam\n",
        "plot_accuracy_tasks(hist_hitsss, config)"
      ],
      "execution_count": null,
      "outputs": [
        {
          "output_type": "display_data",
          "data": {
            "image/png": "[encoded data removed]",
            "text/plain": [
              "<Figure size 720x504 with 1 Axes>"
            ]
          },
          "metadata": {
            "needs_background": "light"
          }
        }
      ]
    },
    {
      "cell_type": "code",
      "metadata": {
        "colab": {
          "base_uri": "https://localhost:8080/",
          "height": 513
        },
        "id": "iBOOhsRHX541",
        "outputId": "88b3c41d-8e6c-4d42-80b6-4a5340ee0de8"
      },
      "source": [
        "## TESTSET similar opts\n",
        "plot_accuracy_tasks(hist_hitsss, config)"
      ],
      "execution_count": null,
      "outputs": [
        {
          "output_type": "display_data",
          "data": {
            "image/png": "[encoded data removed]",
            "text/plain": [
              "<Figure size 720x504 with 1 Axes>"
            ]
          },
          "metadata": {
            "needs_background": "light"
          }
        }
      ]
    },
    {
      "cell_type": "code",
      "metadata": {
        "colab": {
          "base_uri": "https://localhost:8080/",
          "height": 513
        },
        "id": "S_VZIBPLoPD_",
        "outputId": "cd619d1d-684e-4407-d433-0dfbca939cb8"
      },
      "source": [
        "## TESTSET multiple Adams\n",
        "plot_accuracy_tasks(hist_hitsss, config)"
      ],
      "execution_count": null,
      "outputs": [
        {
          "output_type": "display_data",
          "data": {
            "image/png": "[encoded data removed]",
            "text/plain": [
              "<Figure size 720x504 with 1 Axes>"
            ]
          },
          "metadata": {
            "needs_background": "light"
          }
        }
      ]
    },
    {
      "cell_type": "code",
      "metadata": {
        "colab": {
          "base_uri": "https://localhost:8080/",
          "height": 513
        },
        "id": "sWM5dRDjPNLK",
        "outputId": "54e2181e-d3e6-4d17-95f8-22aa3f985059"
      },
      "source": [
        "## TRAINSET\n",
        "plot_accuracy_tasks(hist_hitsss, config, dataset=0)"
      ],
      "execution_count": null,
      "outputs": [
        {
          "output_type": "display_data",
          "data": {
            "image/png": "[encoded data removed]",
            "text/plain": [
              "<Figure size 720x504 with 1 Axes>"
            ]
          },
          "metadata": {
            "needs_background": "light"
          }
        }
      ]
    },
    {
      "cell_type": "code",
      "metadata": {
        "colab": {
          "base_uri": "https://localhost:8080/",
          "height": 513
        },
        "id": "F5KywiAijR3N",
        "outputId": "d012e1cc-0ea3-48bb-b7ba-f3a974acb05b"
      },
      "source": [
        "## Accuracy on trained tasks together\n",
        "plot_accuracy_joint(hist_hitsss, config)"
      ],
      "execution_count": null,
      "outputs": [
        {
          "output_type": "display_data",
          "data": {
            "image/png": "[encoded data removed]",
            "text/plain": [
              "<Figure size 720x504 with 1 Axes>"
            ]
          },
          "metadata": {
            "needs_background": "light"
          }
        }
      ]
    },
    {
      "cell_type": "markdown",
      "metadata": {
        "id": "Fa4Dl6mMQrro"
      },
      "source": [
        "# EWC"
      ]
    },
    {
      "cell_type": "markdown",
      "metadata": {
        "id": "fpnCgSVdS6nS"
      },
      "source": [
        "### EWC (class)"
      ]
    },
    {
      "cell_type": "code",
      "metadata": {
        "id": "qgIXiU1kLt6F"
      },
      "source": [
        "class EWC(nn.Module):\n",
        "\n",
        "    def __init__(self, config):\n",
        "        super(EWC, self).__init__()\n",
        "\n",
        "        self.convLayers = copy.deepcopy(config[\"convLayers\"])\n",
        "        self.hidden1_dim = config[\"hidden1_dim\"]\n",
        "        self.hidden2_dim = config[\"hidden2_dim\"]\n",
        "        self.output_dim = config[\"output_dim\"]\n",
        "        self.multi_head = config[\"multi_head\"]\n",
        "        self.lr = config[\"learning_rate\"]\n",
        "        self.betas = config[\"betas\"]\n",
        "        self.device = config[\"device\"]\n",
        "\n",
        "        self.convLayers.requires_grad_(False)\n",
        "\n",
        "        self.fc1 = nn.Linear(self.convLayers.out_units, self.hidden1_dim)\n",
        "        self.nl1 = nn.ReLU()\n",
        "\n",
        "        self.fc2 = nn.Linear(self.hidden1_dim, self.hidden2_dim)\n",
        "        self.nl2 = nn.ReLU()\n",
        "\n",
        "        self.base_params = [\"fc1\", \"fc2\"]\n",
        "\n",
        "        self.to(self.device)\n",
        "\n",
        "        self.opts = []\n",
        "        self.heads = 0\n",
        "        self.curr_head = 0\n",
        "        self.new_head()\n",
        "\n",
        "        # EWC specifics\n",
        "        self.fishers = []\n",
        "        self.opt_params = []\n",
        "        self.ewc_lambda = config[\"ewc_lambda\"]\n",
        "\n",
        "    def forward(self, X):\n",
        "        \"\"\"\n",
        "        Applies convolutions on input X\n",
        "        \"\"\"\n",
        "\n",
        "        X1 = self.convLayers(X)\n",
        "        X2 = self.nl1(self.fc1(torch.flatten(X1, start_dim=1)))\n",
        "        X3 = self.nl2(self.fc2(X2))\n",
        "\n",
        "        name = f\"fc_out{self.curr_head}\"\n",
        "\n",
        "        fc_out = self.get_submodule(name)\n",
        "\n",
        "        return fc_out(X3)\n",
        "\n",
        "    def task_update(self, dataloader, opt, crit):\n",
        "        \n",
        "        self.train()\n",
        "        opt.zero_grad()\n",
        "\n",
        "        # Accumulate Gradient to obtain fisher\n",
        "        for X, y in dataloader:\n",
        "\n",
        "            out = self(X)\n",
        "\n",
        "            loss = crit(out, y)\n",
        "\n",
        "            loss.backward()\n",
        "\n",
        "        # Save fisher and optimal parameters\n",
        "        self.fishers.append({})\n",
        "        self.opt_params.append({})\n",
        "\n",
        "        for name, param in self.named_parameters():\n",
        "            if param.requires_grad:\n",
        "                self.fishers[-1][name] = param.grad.data.clone().pow(2)\n",
        "                self.opt_params[-1][name] = param.data.clone()\n",
        "        \n",
        "        if self.multi_head:\n",
        "            self.new_head()\n",
        "\n",
        "    def set_head(self, head_id):\n",
        "        \"\"\"\n",
        "        Switches Network to another head\n",
        "        \"\"\"\n",
        "        self.curr_head = head_id\n",
        "        for i in range(self.heads):\n",
        "            name = f\"fc_out{i}\"\n",
        "            fc_out = self.get_submodule(name)\n",
        "            if i != head_id:\n",
        "                fc_out.requires_grad_(False)\n",
        "            else:\n",
        "                fc_out.requires_grad_(True)\n",
        "\n",
        "    def new_head(self):\n",
        "        \"\"\"\n",
        "        Appends new heads\n",
        "        \"\"\"\n",
        "        name = f\"fc_out{self.heads}\"\n",
        "        self.add_module(name, nn.Linear(self.hidden2_dim, self.output_dim).\n",
        "                        to(self.device))\n",
        "        \n",
        "        # Choose right parameters for optimizer\n",
        "        keywords = self.base_params + [name,]\n",
        "        self.opts.append(optim.Adam(filter_params(self, keywords),\n",
        "                                    lr=self.lr,\n",
        "                                    betas=self.betas))\n",
        "        self.heads += 1\n",
        "\n",
        "    def ewc_loss(self):\n",
        "        \"\"\"\n",
        "        Returns ewc loss as float\n",
        "        \"\"\"\n",
        "        name_latest = f\"fc_out{self.heads - 1}\"\n",
        "        loss = 0\n",
        "        for i in range(len(self.fishers)):\n",
        "            for name, param in self.named_parameters():\n",
        "                # prevent KeyError by excluding parameters fishers are not\n",
        "                #  recorded for\n",
        "                if param.requires_grad and name_latest not in name:\n",
        "                    fisher = self.fishers[i][name]\n",
        "                    opt_param = self.opt_params[i][name]\n",
        "                    loss += ((fisher * (opt_param - param).pow(2)).sum()*\n",
        "                            self.ewc_lambda)\n",
        "        return loss"
      ],
      "execution_count": 59,
      "outputs": []
    },
    {
      "cell_type": "markdown",
      "metadata": {
        "id": "piWpNS84TDE9"
      },
      "source": [
        "## training functions"
      ]
    },
    {
      "cell_type": "markdown",
      "metadata": {
        "id": "tDipPbkCTHSS"
      },
      "source": [
        "#### train_ewc"
      ]
    },
    {
      "cell_type": "code",
      "metadata": {
        "id": "KazsScn2TCdk"
      },
      "source": [
        "def train_ewc(model, dataloader, optimizer, criterion, clip):\n",
        "\n",
        "    model.train()\n",
        "\n",
        "    epoch_loss = 0\n",
        "\n",
        "    for X, y in dataloader:\n",
        "\n",
        "        optimizer.zero_grad()\n",
        "\n",
        "        output = model(X)\n",
        "\n",
        "        loss = criterion(output, y)\n",
        "\n",
        "        loss += model.ewc_loss()\n",
        "\n",
        "        loss.backward()\n",
        "\n",
        "        torch.nn.utils.clip_grad_norm_(model.parameters(), clip)\n",
        "\n",
        "        optimizer.step()\n",
        "\n",
        "        epoch_loss += loss.item()\n",
        "\n",
        "    return epoch_loss / len(dataloader)"
      ],
      "execution_count": 28,
      "outputs": []
    },
    {
      "cell_type": "markdown",
      "metadata": {
        "id": "HCXocd6ZTWAL"
      },
      "source": [
        "#### fit_ewc"
      ]
    },
    {
      "cell_type": "code",
      "metadata": {
        "id": "2FQiNAy_TbAr"
      },
      "source": [
        "def fit_ewc(\n",
        "    model,\n",
        "    optimizer,\n",
        "    criterion,\n",
        "    config\n",
        "):\n",
        "    repetition = config[\"curr_repetition\"]\n",
        "    n_task_epochs = config[\"curr_n_task_epochs\"]\n",
        "    clip = config[\"clip\"]\n",
        "    eval_within = config[\"eval_within\"]\n",
        "    dls_train = config[\"dls_train\"]\n",
        "    task_id = config[\"curr_task_id\"]\n",
        "\n",
        "    if eval_within:\n",
        "        n_tasks_total = config[\"n_tasks_total\"]\n",
        "        n_datasets = config[\"n_datasets\"]\n",
        "        step_size_evaluation = config[\"step_size_evaluation\"]\n",
        "        total_hits = torch.zeros((n_tasks_total, n_datasets,\n",
        "                                n_task_epochs//step_size_evaluation,))\n",
        "        total_loss = torch.zeros((n_tasks_total, n_datasets,\n",
        "                                n_task_epochs//step_size_evaluation,))\n",
        "        # [task_id, dataset, evaluations]\n",
        "\n",
        "    for epoch in range(n_task_epochs):\n",
        "        # First Epoch log performance BEFORE training\n",
        "        if epoch == 0 and eval_within:\n",
        "            #CHANGE\n",
        "            eval_all_tasks(model, total_loss, total_hits, n_tasks_total, 0, criterion)\n",
        "        \n",
        "        start_time = time.time()\n",
        "        \n",
        "        train_loss = train_ewc(model, dls_train[task_id], optimizer, criterion, clip)\n",
        "        \n",
        "        end_time = time.time()\n",
        "        \n",
        "        epoch_mins, epoch_secs = epoch_time(start_time, end_time)\n",
        "\n",
        "        # Log performance AFTER training\n",
        "        if eval_within and epoch % step_size_evaluation == 0 and epoch != 0:\n",
        "            idx = epoch//step_size_evaluation\n",
        "            #CHANGE\n",
        "            eval_all_tasks(model, total_loss, total_hits, n_tasks_total, idx, criterion)\n",
        "\n",
        "        \n",
        "        if repetition is not None:\n",
        "            print(f'Epoch: {epoch+1:02} | Time: {epoch_mins}m {epoch_secs}s | R{repetition} T{task_id}')\n",
        "        else:\n",
        "            print(f'Epoch: {epoch+1:02} | Time: {epoch_mins}m {epoch_secs}s | T{task_id}')\n",
        "        print(f'\\tTrain Loss: {train_loss:.3f} | Train PPL: {math.exp(train_loss):7.3f}')\n",
        "    \n",
        "    if eval_within:\n",
        "        return total_loss, total_hits\n",
        "    return None, None"
      ],
      "execution_count": 30,
      "outputs": []
    },
    {
      "cell_type": "markdown",
      "metadata": {
        "id": "84IqvAotTjxi"
      },
      "source": [
        "#### repeat_func, init_func"
      ]
    },
    {
      "cell_type": "code",
      "metadata": {
        "id": "dNFBYSjGTjI6"
      },
      "source": [
        "def init_func_ewc(config):\n",
        "    nmodel = EWC(config)\n",
        "    criterion = nn.CrossEntropyLoss()\n",
        "\n",
        "    pass_on_variables = None\n",
        "    return nmodel, criterion, pass_on_variables\n",
        "\n",
        "def repeat_func_ewc(model, criterion, config, pass_on_variables):\n",
        "\n",
        "    if config[\"multi_head\"]:\n",
        "        optimizer = model.opts[config[\"curr_task_id\"]]\n",
        "        model.set_head(config[\"curr_task_id\"])\n",
        "    else:\n",
        "        optimizer = model.opts[0]\n",
        "\n",
        "    fit_ewc(model, optimizer, criterion, config)\n",
        "\n",
        "    dls_train = config[\"dls_train\"]\n",
        "    task_id = config[\"curr_task_id\"]\n",
        "    model.task_update(dls_train[task_id], optimizer, criterion)\n",
        "    \n",
        "    return model, None, None"
      ],
      "execution_count": 31,
      "outputs": []
    },
    {
      "cell_type": "markdown",
      "metadata": {
        "id": "DiPeab0kVBAi"
      },
      "source": [
        "#### config_ewc"
      ]
    },
    {
      "cell_type": "code",
      "metadata": {
        "id": "wYtQkmksVAmm"
      },
      "source": [
        "\"\"\"\n",
        "New Parameters\n",
        "--------------\n",
        "ewc_lambda : int\n",
        "    EWC parameter determining how big the influence of the old parameters\n",
        "    should be compared to the adaption to the newly trained task\n",
        "    (Balancing old task performance with new task performance)\n",
        "\"\"\"\n",
        "\n",
        "config_ewc = {\n",
        "    \"experiment_name\": \"finetune\",\n",
        "    \"n_repetitions\": 1,\n",
        "    \"n_tasks_total\": N_TASKS,\n",
        "    \"n_datasets\": 2,\n",
        "    \"device\": DEVICE,\n",
        "    \"schedule\": dbg_not_interleaved,\n",
        "    \"clip\": 1,\n",
        "    \"eval_within\": False,\n",
        "    \"step_size_evaluation\": 10,\n",
        "    \"learning_rate\": LEARNING_RATE,\n",
        "    \"betas\": BETAS,\n",
        "    \"dls_train\": dls_train,\n",
        "    \"dls_test\": dls_test,\n",
        "    \"convLayers\": convLayers,\n",
        "    \"hidden1_dim\": 2000,\n",
        "    \"hidden2_dim\": 2000,\n",
        "    \"output_dim\": OUTPUT_DIM,\n",
        "    \"multi_head\": True,\n",
        "    \"ewc_lambda\": 5,\n",
        "}"
      ],
      "execution_count": 51,
      "outputs": []
    },
    {
      "cell_type": "markdown",
      "metadata": {
        "id": "3K2jnaohVr1p"
      },
      "source": [
        "### experiment"
      ]
    },
    {
      "cell_type": "code",
      "metadata": {
        "colab": {
          "base_uri": "https://localhost:8080/"
        },
        "id": "Y7dXNGVzVrfU",
        "outputId": "db92d2ec-7bc9-430a-e7ce-2b72b1ceab0f"
      },
      "source": [
        "hist_losses_ewc, hist_hitsss_ewc, _, _, models = \\\n",
        "    experiment(config_ewc, init_func_ewc, repeat_func_ewc)"
      ],
      "execution_count": 60,
      "outputs": [
        {
          "output_type": "stream",
          "name": "stdout",
          "text": [
            "@@@@@@@@@ Repetition   0 @@@@@@@@@\n",
            "\n",
            "SCHEDULE: finetune.s0.t0.e10\n",
            "Epoch: 01 | Time: 0m 0s | R0 T0\n",
            "\tTrain Loss: 1.535 | Train PPL:   4.643\n",
            "Epoch: 02 | Time: 0m 0s | R0 T0\n",
            "\tTrain Loss: 0.955 | Train PPL:   2.600\n",
            "Epoch: 03 | Time: 0m 0s | R0 T0\n",
            "\tTrain Loss: 0.606 | Train PPL:   1.834\n",
            "Epoch: 04 | Time: 0m 0s | R0 T0\n",
            "\tTrain Loss: 0.345 | Train PPL:   1.412\n",
            "Epoch: 05 | Time: 0m 0s | R0 T0\n",
            "\tTrain Loss: 0.180 | Train PPL:   1.198\n",
            "Epoch: 06 | Time: 0m 0s | R0 T0\n",
            "\tTrain Loss: 0.171 | Train PPL:   1.187\n",
            "Epoch: 07 | Time: 0m 0s | R0 T0\n",
            "\tTrain Loss: 0.120 | Train PPL:   1.128\n",
            "Epoch: 08 | Time: 0m 0s | R0 T0\n",
            "\tTrain Loss: 0.110 | Train PPL:   1.116\n",
            "Epoch: 09 | Time: 0m 0s | R0 T0\n",
            "\tTrain Loss: 0.116 | Train PPL:   1.123\n",
            "Epoch: 10 | Time: 0m 0s | R0 T0\n",
            "\tTrain Loss: 0.097 | Train PPL:   1.102\n",
            "\n",
            "SCHEDULE: finetune.s1.t1.e10\n",
            "Epoch: 01 | Time: 0m 0s | R0 T1\n",
            "\tTrain Loss: 1.632 | Train PPL:   5.116\n",
            "Epoch: 02 | Time: 0m 0s | R0 T1\n",
            "\tTrain Loss: 1.164 | Train PPL:   3.201\n",
            "Epoch: 03 | Time: 0m 0s | R0 T1\n",
            "\tTrain Loss: 0.853 | Train PPL:   2.346\n",
            "Epoch: 04 | Time: 0m 0s | R0 T1\n",
            "\tTrain Loss: 0.569 | Train PPL:   1.766\n",
            "Epoch: 05 | Time: 0m 0s | R0 T1\n",
            "\tTrain Loss: 0.400 | Train PPL:   1.491\n",
            "Epoch: 06 | Time: 0m 0s | R0 T1\n",
            "\tTrain Loss: 0.310 | Train PPL:   1.363\n",
            "Epoch: 07 | Time: 0m 0s | R0 T1\n",
            "\tTrain Loss: 0.272 | Train PPL:   1.313\n",
            "Epoch: 08 | Time: 0m 0s | R0 T1\n",
            "\tTrain Loss: 0.262 | Train PPL:   1.299\n",
            "Epoch: 09 | Time: 0m 0s | R0 T1\n",
            "\tTrain Loss: 0.214 | Train PPL:   1.239\n",
            "Epoch: 10 | Time: 0m 0s | R0 T1\n",
            "\tTrain Loss: 0.208 | Train PPL:   1.231\n",
            "\n",
            "SCHEDULE: finetune.s2.t2.e10\n",
            "Epoch: 01 | Time: 0m 0s | R0 T2\n",
            "\tTrain Loss: 1.602 | Train PPL:   4.965\n",
            "Epoch: 02 | Time: 0m 0s | R0 T2\n",
            "\tTrain Loss: 1.115 | Train PPL:   3.049\n",
            "Epoch: 03 | Time: 0m 0s | R0 T2\n",
            "\tTrain Loss: 0.826 | Train PPL:   2.285\n",
            "Epoch: 04 | Time: 0m 0s | R0 T2\n",
            "\tTrain Loss: 0.619 | Train PPL:   1.857\n",
            "Epoch: 05 | Time: 0m 0s | R0 T2\n",
            "\tTrain Loss: 0.487 | Train PPL:   1.628\n",
            "Epoch: 06 | Time: 0m 0s | R0 T2\n",
            "\tTrain Loss: 0.423 | Train PPL:   1.527\n",
            "Epoch: 07 | Time: 0m 0s | R0 T2\n",
            "\tTrain Loss: 0.380 | Train PPL:   1.462\n",
            "Epoch: 08 | Time: 0m 0s | R0 T2\n",
            "\tTrain Loss: 0.360 | Train PPL:   1.433\n",
            "Epoch: 09 | Time: 0m 0s | R0 T2\n",
            "\tTrain Loss: 0.339 | Train PPL:   1.404\n",
            "Epoch: 10 | Time: 0m 0s | R0 T2\n",
            "\tTrain Loss: 0.328 | Train PPL:   1.388\n",
            "\n",
            "SCHEDULE: finetune.s3.t3.e10\n",
            "Epoch: 01 | Time: 0m 1s | R0 T3\n",
            "\tTrain Loss: 1.717 | Train PPL:   5.565\n",
            "Epoch: 02 | Time: 0m 1s | R0 T3\n",
            "\tTrain Loss: 1.298 | Train PPL:   3.663\n",
            "Epoch: 03 | Time: 0m 1s | R0 T3\n",
            "\tTrain Loss: 1.032 | Train PPL:   2.807\n",
            "Epoch: 04 | Time: 0m 1s | R0 T3\n",
            "\tTrain Loss: 0.813 | Train PPL:   2.256\n",
            "Epoch: 05 | Time: 0m 1s | R0 T3\n",
            "\tTrain Loss: 0.669 | Train PPL:   1.952\n",
            "Epoch: 06 | Time: 0m 1s | R0 T3\n",
            "\tTrain Loss: 0.598 | Train PPL:   1.818\n",
            "Epoch: 07 | Time: 0m 1s | R0 T3\n",
            "\tTrain Loss: 0.548 | Train PPL:   1.729\n",
            "Epoch: 08 | Time: 0m 1s | R0 T3\n",
            "\tTrain Loss: 0.501 | Train PPL:   1.650\n",
            "Epoch: 09 | Time: 0m 1s | R0 T3\n",
            "\tTrain Loss: 0.515 | Train PPL:   1.674\n",
            "Epoch: 10 | Time: 0m 1s | R0 T3\n",
            "\tTrain Loss: 0.450 | Train PPL:   1.569\n",
            "\n",
            "SCHEDULE: finetune.s4.t4.e10\n",
            "Epoch: 01 | Time: 0m 1s | R0 T4\n",
            "\tTrain Loss: 1.722 | Train PPL:   5.596\n",
            "Epoch: 02 | Time: 0m 1s | R0 T4\n",
            "\tTrain Loss: 1.282 | Train PPL:   3.603\n",
            "Epoch: 03 | Time: 0m 1s | R0 T4\n",
            "\tTrain Loss: 1.058 | Train PPL:   2.879\n",
            "Epoch: 04 | Time: 0m 1s | R0 T4\n",
            "\tTrain Loss: 0.880 | Train PPL:   2.411\n",
            "Epoch: 05 | Time: 0m 1s | R0 T4\n",
            "\tTrain Loss: 0.746 | Train PPL:   2.108\n",
            "Epoch: 06 | Time: 0m 1s | R0 T4\n",
            "\tTrain Loss: 0.687 | Train PPL:   1.987\n",
            "Epoch: 07 | Time: 0m 1s | R0 T4\n",
            "\tTrain Loss: 0.623 | Train PPL:   1.865\n",
            "Epoch: 08 | Time: 0m 1s | R0 T4\n",
            "\tTrain Loss: 0.604 | Train PPL:   1.829\n",
            "Epoch: 09 | Time: 0m 1s | R0 T4\n",
            "\tTrain Loss: 0.572 | Train PPL:   1.771\n",
            "Epoch: 10 | Time: 0m 1s | R0 T4\n",
            "\tTrain Loss: 0.541 | Train PPL:   1.718\n",
            "\n",
            "SCHEDULE: finetune.s5.t5.e10\n",
            "Epoch: 01 | Time: 0m 1s | R0 T5\n",
            "\tTrain Loss: 1.795 | Train PPL:   6.021\n",
            "Epoch: 02 | Time: 0m 1s | R0 T5\n",
            "\tTrain Loss: 1.374 | Train PPL:   3.953\n",
            "Epoch: 03 | Time: 0m 1s | R0 T5\n",
            "\tTrain Loss: 1.180 | Train PPL:   3.253\n",
            "Epoch: 04 | Time: 0m 1s | R0 T5\n",
            "\tTrain Loss: 1.007 | Train PPL:   2.739\n",
            "Epoch: 05 | Time: 0m 1s | R0 T5\n",
            "\tTrain Loss: 0.899 | Train PPL:   2.458\n",
            "Epoch: 06 | Time: 0m 1s | R0 T5\n",
            "\tTrain Loss: 0.829 | Train PPL:   2.292\n",
            "Epoch: 07 | Time: 0m 1s | R0 T5\n",
            "\tTrain Loss: 0.780 | Train PPL:   2.182\n",
            "Epoch: 08 | Time: 0m 1s | R0 T5\n",
            "\tTrain Loss: 0.759 | Train PPL:   2.137\n",
            "Epoch: 09 | Time: 0m 1s | R0 T5\n",
            "\tTrain Loss: 0.711 | Train PPL:   2.037\n",
            "Epoch: 10 | Time: 0m 1s | R0 T5\n",
            "\tTrain Loss: 0.704 | Train PPL:   2.021\n",
            "\n",
            "SCHEDULE: finetune.s6.t6.e10\n",
            "Epoch: 01 | Time: 0m 1s | R0 T6\n",
            "\tTrain Loss: 1.831 | Train PPL:   6.237\n",
            "Epoch: 02 | Time: 0m 1s | R0 T6\n",
            "\tTrain Loss: 1.412 | Train PPL:   4.104\n",
            "Epoch: 03 | Time: 0m 1s | R0 T6\n",
            "\tTrain Loss: 1.245 | Train PPL:   3.472\n",
            "Epoch: 04 | Time: 0m 1s | R0 T6\n",
            "\tTrain Loss: 1.085 | Train PPL:   2.959\n",
            "Epoch: 05 | Time: 0m 1s | R0 T6\n",
            "\tTrain Loss: 1.010 | Train PPL:   2.746\n",
            "Epoch: 06 | Time: 0m 1s | R0 T6\n",
            "\tTrain Loss: 0.942 | Train PPL:   2.565\n",
            "Epoch: 07 | Time: 0m 1s | R0 T6\n",
            "\tTrain Loss: 0.900 | Train PPL:   2.459\n",
            "Epoch: 08 | Time: 0m 1s | R0 T6\n",
            "\tTrain Loss: 0.827 | Train PPL:   2.286\n",
            "Epoch: 09 | Time: 0m 1s | R0 T6\n",
            "\tTrain Loss: 0.817 | Train PPL:   2.265\n",
            "Epoch: 10 | Time: 0m 1s | R0 T6\n",
            "\tTrain Loss: 0.785 | Train PPL:   2.191\n",
            "\n",
            "SCHEDULE: finetune.s7.t7.e10\n",
            "Epoch: 01 | Time: 0m 1s | R0 T7\n",
            "\tTrain Loss: 2.046 | Train PPL:   7.733\n",
            "Epoch: 02 | Time: 0m 1s | R0 T7\n",
            "\tTrain Loss: 1.667 | Train PPL:   5.296\n",
            "Epoch: 03 | Time: 0m 1s | R0 T7\n",
            "\tTrain Loss: 1.505 | Train PPL:   4.505\n",
            "Epoch: 04 | Time: 0m 1s | R0 T7\n",
            "\tTrain Loss: 1.331 | Train PPL:   3.784\n",
            "Epoch: 05 | Time: 0m 1s | R0 T7\n",
            "\tTrain Loss: 1.225 | Train PPL:   3.404\n",
            "Epoch: 06 | Time: 0m 1s | R0 T7\n",
            "\tTrain Loss: 1.136 | Train PPL:   3.113\n",
            "Epoch: 07 | Time: 0m 1s | R0 T7\n",
            "\tTrain Loss: 1.091 | Train PPL:   2.977\n",
            "Epoch: 08 | Time: 0m 1s | R0 T7\n",
            "\tTrain Loss: 1.046 | Train PPL:   2.845\n",
            "Epoch: 09 | Time: 0m 1s | R0 T7\n",
            "\tTrain Loss: 1.018 | Train PPL:   2.767\n",
            "Epoch: 10 | Time: 0m 1s | R0 T7\n",
            "\tTrain Loss: 0.971 | Train PPL:   2.641\n",
            "\n",
            "SCHEDULE: finetune.s8.t8.e10\n",
            "Epoch: 01 | Time: 0m 2s | R0 T8\n",
            "\tTrain Loss: 2.274 | Train PPL:   9.721\n",
            "Epoch: 02 | Time: 0m 2s | R0 T8\n",
            "\tTrain Loss: 1.845 | Train PPL:   6.325\n",
            "Epoch: 03 | Time: 0m 2s | R0 T8\n",
            "\tTrain Loss: 1.642 | Train PPL:   5.165\n",
            "Epoch: 04 | Time: 0m 2s | R0 T8\n",
            "\tTrain Loss: 1.517 | Train PPL:   4.559\n",
            "Epoch: 05 | Time: 0m 2s | R0 T8\n",
            "\tTrain Loss: 1.386 | Train PPL:   3.998\n",
            "Epoch: 06 | Time: 0m 2s | R0 T8\n",
            "\tTrain Loss: 1.307 | Train PPL:   3.695\n",
            "Epoch: 07 | Time: 0m 2s | R0 T8\n",
            "\tTrain Loss: 1.266 | Train PPL:   3.547\n",
            "Epoch: 08 | Time: 0m 2s | R0 T8\n",
            "\tTrain Loss: 1.190 | Train PPL:   3.287\n",
            "Epoch: 09 | Time: 0m 2s | R0 T8\n",
            "\tTrain Loss: 1.185 | Train PPL:   3.270\n",
            "Epoch: 10 | Time: 0m 2s | R0 T8\n",
            "\tTrain Loss: 1.134 | Train PPL:   3.108\n",
            "\n",
            "SCHEDULE: finetune.s9.t9.e10\n",
            "Epoch: 01 | Time: 0m 2s | R0 T9\n",
            "\tTrain Loss: 2.309 | Train PPL:  10.061\n",
            "Epoch: 02 | Time: 0m 2s | R0 T9\n",
            "\tTrain Loss: 1.882 | Train PPL:   6.564\n",
            "Epoch: 03 | Time: 0m 2s | R0 T9\n",
            "\tTrain Loss: 1.731 | Train PPL:   5.645\n",
            "Epoch: 04 | Time: 0m 2s | R0 T9\n",
            "\tTrain Loss: 1.644 | Train PPL:   5.177\n",
            "Epoch: 05 | Time: 0m 2s | R0 T9\n",
            "\tTrain Loss: 1.558 | Train PPL:   4.749\n",
            "Epoch: 06 | Time: 0m 2s | R0 T9\n",
            "\tTrain Loss: 1.523 | Train PPL:   4.587\n",
            "Epoch: 07 | Time: 0m 2s | R0 T9\n",
            "\tTrain Loss: 1.417 | Train PPL:   4.127\n",
            "Epoch: 08 | Time: 0m 2s | R0 T9\n",
            "\tTrain Loss: 1.444 | Train PPL:   4.240\n",
            "Epoch: 09 | Time: 0m 2s | R0 T9\n",
            "\tTrain Loss: 1.384 | Train PPL:   3.990\n",
            "Epoch: 10 | Time: 0m 2s | R0 T9\n",
            "\tTrain Loss: 1.353 | Train PPL:   3.871\n"
          ]
        }
      ]
    },
    {
      "cell_type": "markdown",
      "metadata": {
        "id": "9C7JTv0xWRLO"
      },
      "source": [
        "### results"
      ]
    },
    {
      "cell_type": "code",
      "metadata": {
        "colab": {
          "base_uri": "https://localhost:8080/",
          "height": 513
        },
        "id": "LHOIfU3mWSjz",
        "outputId": "1eadd0f7-93c6-41bf-86eb-956742e89031"
      },
      "source": [
        "## TESTSET\n",
        "plot_accuracy_tasks(hist_hitsss_ewc, config_ewc)"
      ],
      "execution_count": 61,
      "outputs": [
        {
          "output_type": "display_data",
          "data": {
            "image/png": "[encoded data removed]",
            "text/plain": [
              "<Figure size 720x504 with 1 Axes>"
            ]
          },
          "metadata": {
            "needs_background": "light"
          }
        }
      ]
    },
    {
      "cell_type": "code",
      "metadata": {
        "colab": {
          "base_uri": "https://localhost:8080/",
          "height": 513
        },
        "id": "hNf-wYrlW_ou",
        "outputId": "a66ef155-dca8-49c0-ba47-b446372c25c9"
      },
      "source": [
        "## TRAINSET\n",
        "plot_accuracy_tasks(hist_hitsss_ewc, config_ewc, dataset=0)"
      ],
      "execution_count": 62,
      "outputs": [
        {
          "output_type": "display_data",
          "data": {
            "image/png": "[encoded data removed]",
            "text/plain": [
              "<Figure size 720x504 with 1 Axes>"
            ]
          },
          "metadata": {
            "needs_background": "light"
          }
        }
      ]
    },
    {
      "cell_type": "code",
      "metadata": {
        "colab": {
          "base_uri": "https://localhost:8080/",
          "height": 513
        },
        "id": "Y3-4Q2J6XDYV",
        "outputId": "7230e8e6-0f60-4790-fbc8-2e434a500533"
      },
      "source": [
        "## Accuracy on trained tasks together\n",
        "plot_accuracy_joint(hist_hitsss_ewc, config_ewc)"
      ],
      "execution_count": 63,
      "outputs": [
        {
          "output_type": "display_data",
          "data": {
            "image/png": "[encoded data removed]",
            "text/plain": [
              "<Figure size 720x504 with 1 Axes>"
            ]
          },
          "metadata": {
            "needs_background": "light"
          }
        }
      ]
    },
    {
      "cell_type": "markdown",
      "metadata": {
        "id": "r-tu7rgcQ15z"
      },
      "source": [
        "# SI"
      ]
    },
    {
      "cell_type": "markdown",
      "metadata": {
        "id": "l1oyAoTFQwu2"
      },
      "source": [
        "# DynaMoE (?)"
      ]
    },
    {
      "cell_type": "markdown",
      "metadata": {
        "id": "SuFKTlAFYhsS"
      },
      "source": [
        "### Gating (Class)"
      ]
    },
    {
      "cell_type": "code",
      "metadata": {
        "id": "OlHLHx7_Yg8W"
      },
      "source": [
        "class Gating(nn.Module):\n",
        "    def __init__(self, input_dim, hidden_dim, n_max_experts, dropout):\n",
        "        super().__init__()\n",
        "\n",
        "        self.input_dim = input_dim\n",
        "        self.hidden_dim = hidden_dim\n",
        "        self.n_max_experts = n_max_experts\n",
        "\n",
        "        self.fc1 = nn.Linear(input_dim, hidden_dim)\n",
        "        self.nl1 = nn.ReLU()\n",
        "        self.dropout = nn.Dropout(dropout)\n",
        "\n",
        "        self.fc_out = nn.Linear(hidden_dim, n_max_experts)\n",
        "\n",
        "    def forward(self, X):\n",
        "\n",
        "        X1 = self.dropout(self.nl1(self.fc1(X)))\n",
        "\n",
        "        return self.fc_out(X1)"
      ],
      "execution_count": null,
      "outputs": []
    },
    {
      "cell_type": "markdown",
      "metadata": {
        "id": "0kQABayOQ5IN"
      },
      "source": [
        "# Ensembling"
      ]
    },
    {
      "cell_type": "code",
      "metadata": {
        "id": "d_pZm9OSl6g6"
      },
      "source": [
        ""
      ],
      "execution_count": null,
      "outputs": []
    }
  ]
}