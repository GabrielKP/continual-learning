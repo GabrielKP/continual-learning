{
  "nbformat": 4,
  "nbformat_minor": 0,
  "metadata": {
    "colab": {
      "name": "cl_cifar10x10.ipynb",
      "provenance": [],
      "collapsed_sections": [],
      "toc_visible": true,
      "machine_shape": "hm",
      "authorship_tag": "ABX9TyMnhS0UMHPj+Az7+gb856d8",
      "include_colab_link": true
    },
    "kernelspec": {
      "name": "python3",
      "display_name": "Python 3"
    },
    "language_info": {
      "name": "python"
    },
    "widgets": {
      "application/vnd.jupyter.widget-state+json": {
        "9ba58f5f612845dea5f7f823ce6c95de": {
          "model_module": "@jupyter-widgets/controls",
          "model_name": "HBoxModel",
          "model_module_version": "1.5.0",
          "state": {
            "_view_name": "HBoxView",
            "_dom_classes": [],
            "_model_name": "HBoxModel",
            "_view_module": "@jupyter-widgets/controls",
            "_model_module_version": "1.5.0",
            "_view_count": null,
            "_view_module_version": "1.5.0",
            "box_style": "",
            "layout": "IPY_MODEL_a6fbd129018149d7b307826f823c5f23",
            "_model_module": "@jupyter-widgets/controls",
            "children": [
              "IPY_MODEL_b0bb3e9112af434f9be0ebf9e33925bd",
              "IPY_MODEL_75350bd42b5942ae9e3a970691fd2a40",
              "IPY_MODEL_1da76833855547e38aba46eb26b843c0"
            ]
          }
        },
        "a6fbd129018149d7b307826f823c5f23": {
          "model_module": "@jupyter-widgets/base",
          "model_name": "LayoutModel",
          "model_module_version": "1.2.0",
          "state": {
            "_view_name": "LayoutView",
            "grid_template_rows": null,
            "right": null,
            "justify_content": null,
            "_view_module": "@jupyter-widgets/base",
            "overflow": null,
            "_model_module_version": "1.2.0",
            "_view_count": null,
            "flex_flow": null,
            "width": null,
            "min_width": null,
            "border": null,
            "align_items": null,
            "bottom": null,
            "_model_module": "@jupyter-widgets/base",
            "top": null,
            "grid_column": null,
            "overflow_y": null,
            "overflow_x": null,
            "grid_auto_flow": null,
            "grid_area": null,
            "grid_template_columns": null,
            "flex": null,
            "_model_name": "LayoutModel",
            "justify_items": null,
            "grid_row": null,
            "max_height": null,
            "align_content": null,
            "visibility": null,
            "align_self": null,
            "height": null,
            "min_height": null,
            "padding": null,
            "grid_auto_rows": null,
            "grid_gap": null,
            "max_width": null,
            "order": null,
            "_view_module_version": "1.2.0",
            "grid_template_areas": null,
            "object_position": null,
            "object_fit": null,
            "grid_auto_columns": null,
            "margin": null,
            "display": null,
            "left": null
          }
        },
        "b0bb3e9112af434f9be0ebf9e33925bd": {
          "model_module": "@jupyter-widgets/controls",
          "model_name": "HTMLModel",
          "model_module_version": "1.5.0",
          "state": {
            "_view_name": "HTMLView",
            "style": "IPY_MODEL_31a4109c5db940bebb6b7c5d38144c83",
            "_dom_classes": [],
            "description": "",
            "_model_name": "HTMLModel",
            "placeholder": "​",
            "_view_module": "@jupyter-widgets/controls",
            "_model_module_version": "1.5.0",
            "value": "",
            "_view_count": null,
            "_view_module_version": "1.5.0",
            "description_tooltip": null,
            "_model_module": "@jupyter-widgets/controls",
            "layout": "IPY_MODEL_67cccd4992254a589d02204db55386f5"
          }
        },
        "75350bd42b5942ae9e3a970691fd2a40": {
          "model_module": "@jupyter-widgets/controls",
          "model_name": "FloatProgressModel",
          "model_module_version": "1.5.0",
          "state": {
            "_view_name": "ProgressView",
            "style": "IPY_MODEL_0950af9e974d4f2b8205520f46841d72",
            "_dom_classes": [],
            "description": "",
            "_model_name": "FloatProgressModel",
            "bar_style": "success",
            "max": 170498071,
            "_view_module": "@jupyter-widgets/controls",
            "_model_module_version": "1.5.0",
            "value": 170498071,
            "_view_count": null,
            "_view_module_version": "1.5.0",
            "orientation": "horizontal",
            "min": 0,
            "description_tooltip": null,
            "_model_module": "@jupyter-widgets/controls",
            "layout": "IPY_MODEL_f6015ffc15154edd95c47310177aa158"
          }
        },
        "1da76833855547e38aba46eb26b843c0": {
          "model_module": "@jupyter-widgets/controls",
          "model_name": "HTMLModel",
          "model_module_version": "1.5.0",
          "state": {
            "_view_name": "HTMLView",
            "style": "IPY_MODEL_1cff4779dfde430f9c4b38ae1fdd2821",
            "_dom_classes": [],
            "description": "",
            "_model_name": "HTMLModel",
            "placeholder": "​",
            "_view_module": "@jupyter-widgets/controls",
            "_model_module_version": "1.5.0",
            "value": " 170499072/? [00:03&lt;00:00, 47457513.53it/s]",
            "_view_count": null,
            "_view_module_version": "1.5.0",
            "description_tooltip": null,
            "_model_module": "@jupyter-widgets/controls",
            "layout": "IPY_MODEL_7d325070246841faa94e07b063ad3357"
          }
        },
        "31a4109c5db940bebb6b7c5d38144c83": {
          "model_module": "@jupyter-widgets/controls",
          "model_name": "DescriptionStyleModel",
          "model_module_version": "1.5.0",
          "state": {
            "_view_name": "StyleView",
            "_model_name": "DescriptionStyleModel",
            "description_width": "",
            "_view_module": "@jupyter-widgets/base",
            "_model_module_version": "1.5.0",
            "_view_count": null,
            "_view_module_version": "1.2.0",
            "_model_module": "@jupyter-widgets/controls"
          }
        },
        "67cccd4992254a589d02204db55386f5": {
          "model_module": "@jupyter-widgets/base",
          "model_name": "LayoutModel",
          "model_module_version": "1.2.0",
          "state": {
            "_view_name": "LayoutView",
            "grid_template_rows": null,
            "right": null,
            "justify_content": null,
            "_view_module": "@jupyter-widgets/base",
            "overflow": null,
            "_model_module_version": "1.2.0",
            "_view_count": null,
            "flex_flow": null,
            "width": null,
            "min_width": null,
            "border": null,
            "align_items": null,
            "bottom": null,
            "_model_module": "@jupyter-widgets/base",
            "top": null,
            "grid_column": null,
            "overflow_y": null,
            "overflow_x": null,
            "grid_auto_flow": null,
            "grid_area": null,
            "grid_template_columns": null,
            "flex": null,
            "_model_name": "LayoutModel",
            "justify_items": null,
            "grid_row": null,
            "max_height": null,
            "align_content": null,
            "visibility": null,
            "align_self": null,
            "height": null,
            "min_height": null,
            "padding": null,
            "grid_auto_rows": null,
            "grid_gap": null,
            "max_width": null,
            "order": null,
            "_view_module_version": "1.2.0",
            "grid_template_areas": null,
            "object_position": null,
            "object_fit": null,
            "grid_auto_columns": null,
            "margin": null,
            "display": null,
            "left": null
          }
        },
        "0950af9e974d4f2b8205520f46841d72": {
          "model_module": "@jupyter-widgets/controls",
          "model_name": "ProgressStyleModel",
          "model_module_version": "1.5.0",
          "state": {
            "_view_name": "StyleView",
            "_model_name": "ProgressStyleModel",
            "description_width": "",
            "_view_module": "@jupyter-widgets/base",
            "_model_module_version": "1.5.0",
            "_view_count": null,
            "_view_module_version": "1.2.0",
            "bar_color": null,
            "_model_module": "@jupyter-widgets/controls"
          }
        },
        "f6015ffc15154edd95c47310177aa158": {
          "model_module": "@jupyter-widgets/base",
          "model_name": "LayoutModel",
          "model_module_version": "1.2.0",
          "state": {
            "_view_name": "LayoutView",
            "grid_template_rows": null,
            "right": null,
            "justify_content": null,
            "_view_module": "@jupyter-widgets/base",
            "overflow": null,
            "_model_module_version": "1.2.0",
            "_view_count": null,
            "flex_flow": null,
            "width": null,
            "min_width": null,
            "border": null,
            "align_items": null,
            "bottom": null,
            "_model_module": "@jupyter-widgets/base",
            "top": null,
            "grid_column": null,
            "overflow_y": null,
            "overflow_x": null,
            "grid_auto_flow": null,
            "grid_area": null,
            "grid_template_columns": null,
            "flex": null,
            "_model_name": "LayoutModel",
            "justify_items": null,
            "grid_row": null,
            "max_height": null,
            "align_content": null,
            "visibility": null,
            "align_self": null,
            "height": null,
            "min_height": null,
            "padding": null,
            "grid_auto_rows": null,
            "grid_gap": null,
            "max_width": null,
            "order": null,
            "_view_module_version": "1.2.0",
            "grid_template_areas": null,
            "object_position": null,
            "object_fit": null,
            "grid_auto_columns": null,
            "margin": null,
            "display": null,
            "left": null
          }
        },
        "1cff4779dfde430f9c4b38ae1fdd2821": {
          "model_module": "@jupyter-widgets/controls",
          "model_name": "DescriptionStyleModel",
          "model_module_version": "1.5.0",
          "state": {
            "_view_name": "StyleView",
            "_model_name": "DescriptionStyleModel",
            "description_width": "",
            "_view_module": "@jupyter-widgets/base",
            "_model_module_version": "1.5.0",
            "_view_count": null,
            "_view_module_version": "1.2.0",
            "_model_module": "@jupyter-widgets/controls"
          }
        },
        "7d325070246841faa94e07b063ad3357": {
          "model_module": "@jupyter-widgets/base",
          "model_name": "LayoutModel",
          "model_module_version": "1.2.0",
          "state": {
            "_view_name": "LayoutView",
            "grid_template_rows": null,
            "right": null,
            "justify_content": null,
            "_view_module": "@jupyter-widgets/base",
            "overflow": null,
            "_model_module_version": "1.2.0",
            "_view_count": null,
            "flex_flow": null,
            "width": null,
            "min_width": null,
            "border": null,
            "align_items": null,
            "bottom": null,
            "_model_module": "@jupyter-widgets/base",
            "top": null,
            "grid_column": null,
            "overflow_y": null,
            "overflow_x": null,
            "grid_auto_flow": null,
            "grid_area": null,
            "grid_template_columns": null,
            "flex": null,
            "_model_name": "LayoutModel",
            "justify_items": null,
            "grid_row": null,
            "max_height": null,
            "align_content": null,
            "visibility": null,
            "align_self": null,
            "height": null,
            "min_height": null,
            "padding": null,
            "grid_auto_rows": null,
            "grid_gap": null,
            "max_width": null,
            "order": null,
            "_view_module_version": "1.2.0",
            "grid_template_areas": null,
            "object_position": null,
            "object_fit": null,
            "grid_auto_columns": null,
            "margin": null,
            "display": null,
            "left": null
          }
        },
        "14cf014ba73e44659ea97669e7e210ef": {
          "model_module": "@jupyter-widgets/controls",
          "model_name": "HBoxModel",
          "model_module_version": "1.5.0",
          "state": {
            "_view_name": "HBoxView",
            "_dom_classes": [],
            "_model_name": "HBoxModel",
            "_view_module": "@jupyter-widgets/controls",
            "_model_module_version": "1.5.0",
            "_view_count": null,
            "_view_module_version": "1.5.0",
            "box_style": "",
            "layout": "IPY_MODEL_3b0e718c1dd84605b96cdbdfb77c688a",
            "_model_module": "@jupyter-widgets/controls",
            "children": [
              "IPY_MODEL_28a03b7bcbaf4549b9b233e2d51948d6",
              "IPY_MODEL_42b1dc4362c8455480ca98a578ba376a",
              "IPY_MODEL_17a1dad5804143709243ed58bc6d5f5b"
            ]
          }
        },
        "3b0e718c1dd84605b96cdbdfb77c688a": {
          "model_module": "@jupyter-widgets/base",
          "model_name": "LayoutModel",
          "model_module_version": "1.2.0",
          "state": {
            "_view_name": "LayoutView",
            "grid_template_rows": null,
            "right": null,
            "justify_content": null,
            "_view_module": "@jupyter-widgets/base",
            "overflow": null,
            "_model_module_version": "1.2.0",
            "_view_count": null,
            "flex_flow": null,
            "width": null,
            "min_width": null,
            "border": null,
            "align_items": null,
            "bottom": null,
            "_model_module": "@jupyter-widgets/base",
            "top": null,
            "grid_column": null,
            "overflow_y": null,
            "overflow_x": null,
            "grid_auto_flow": null,
            "grid_area": null,
            "grid_template_columns": null,
            "flex": null,
            "_model_name": "LayoutModel",
            "justify_items": null,
            "grid_row": null,
            "max_height": null,
            "align_content": null,
            "visibility": null,
            "align_self": null,
            "height": null,
            "min_height": null,
            "padding": null,
            "grid_auto_rows": null,
            "grid_gap": null,
            "max_width": null,
            "order": null,
            "_view_module_version": "1.2.0",
            "grid_template_areas": null,
            "object_position": null,
            "object_fit": null,
            "grid_auto_columns": null,
            "margin": null,
            "display": null,
            "left": null
          }
        },
        "28a03b7bcbaf4549b9b233e2d51948d6": {
          "model_module": "@jupyter-widgets/controls",
          "model_name": "HTMLModel",
          "model_module_version": "1.5.0",
          "state": {
            "_view_name": "HTMLView",
            "style": "IPY_MODEL_d913eb009d784a0584e4678c23b62d44",
            "_dom_classes": [],
            "description": "",
            "_model_name": "HTMLModel",
            "placeholder": "​",
            "_view_module": "@jupyter-widgets/controls",
            "_model_module_version": "1.5.0",
            "value": "",
            "_view_count": null,
            "_view_module_version": "1.5.0",
            "description_tooltip": null,
            "_model_module": "@jupyter-widgets/controls",
            "layout": "IPY_MODEL_7c374166823140db8b9b4708eb068da6"
          }
        },
        "42b1dc4362c8455480ca98a578ba376a": {
          "model_module": "@jupyter-widgets/controls",
          "model_name": "FloatProgressModel",
          "model_module_version": "1.5.0",
          "state": {
            "_view_name": "ProgressView",
            "style": "IPY_MODEL_69c07e4474d447c29b3cec32e7d57046",
            "_dom_classes": [],
            "description": "",
            "_model_name": "FloatProgressModel",
            "bar_style": "success",
            "max": 169001437,
            "_view_module": "@jupyter-widgets/controls",
            "_model_module_version": "1.5.0",
            "value": 169001437,
            "_view_count": null,
            "_view_module_version": "1.5.0",
            "orientation": "horizontal",
            "min": 0,
            "description_tooltip": null,
            "_model_module": "@jupyter-widgets/controls",
            "layout": "IPY_MODEL_19262a3d4f4a4f01937c12d2f60dae7f"
          }
        },
        "17a1dad5804143709243ed58bc6d5f5b": {
          "model_module": "@jupyter-widgets/controls",
          "model_name": "HTMLModel",
          "model_module_version": "1.5.0",
          "state": {
            "_view_name": "HTMLView",
            "style": "IPY_MODEL_2588ae22b6334a029db559724b0d3c34",
            "_dom_classes": [],
            "description": "",
            "_model_name": "HTMLModel",
            "placeholder": "​",
            "_view_module": "@jupyter-widgets/controls",
            "_model_module_version": "1.5.0",
            "value": " 169001984/? [00:03&lt;00:00, 40113466.94it/s]",
            "_view_count": null,
            "_view_module_version": "1.5.0",
            "description_tooltip": null,
            "_model_module": "@jupyter-widgets/controls",
            "layout": "IPY_MODEL_d755e0229e904d77a13e77634c9fd80e"
          }
        },
        "d913eb009d784a0584e4678c23b62d44": {
          "model_module": "@jupyter-widgets/controls",
          "model_name": "DescriptionStyleModel",
          "model_module_version": "1.5.0",
          "state": {
            "_view_name": "StyleView",
            "_model_name": "DescriptionStyleModel",
            "description_width": "",
            "_view_module": "@jupyter-widgets/base",
            "_model_module_version": "1.5.0",
            "_view_count": null,
            "_view_module_version": "1.2.0",
            "_model_module": "@jupyter-widgets/controls"
          }
        },
        "7c374166823140db8b9b4708eb068da6": {
          "model_module": "@jupyter-widgets/base",
          "model_name": "LayoutModel",
          "model_module_version": "1.2.0",
          "state": {
            "_view_name": "LayoutView",
            "grid_template_rows": null,
            "right": null,
            "justify_content": null,
            "_view_module": "@jupyter-widgets/base",
            "overflow": null,
            "_model_module_version": "1.2.0",
            "_view_count": null,
            "flex_flow": null,
            "width": null,
            "min_width": null,
            "border": null,
            "align_items": null,
            "bottom": null,
            "_model_module": "@jupyter-widgets/base",
            "top": null,
            "grid_column": null,
            "overflow_y": null,
            "overflow_x": null,
            "grid_auto_flow": null,
            "grid_area": null,
            "grid_template_columns": null,
            "flex": null,
            "_model_name": "LayoutModel",
            "justify_items": null,
            "grid_row": null,
            "max_height": null,
            "align_content": null,
            "visibility": null,
            "align_self": null,
            "height": null,
            "min_height": null,
            "padding": null,
            "grid_auto_rows": null,
            "grid_gap": null,
            "max_width": null,
            "order": null,
            "_view_module_version": "1.2.0",
            "grid_template_areas": null,
            "object_position": null,
            "object_fit": null,
            "grid_auto_columns": null,
            "margin": null,
            "display": null,
            "left": null
          }
        },
        "69c07e4474d447c29b3cec32e7d57046": {
          "model_module": "@jupyter-widgets/controls",
          "model_name": "ProgressStyleModel",
          "model_module_version": "1.5.0",
          "state": {
            "_view_name": "StyleView",
            "_model_name": "ProgressStyleModel",
            "description_width": "",
            "_view_module": "@jupyter-widgets/base",
            "_model_module_version": "1.5.0",
            "_view_count": null,
            "_view_module_version": "1.2.0",
            "bar_color": null,
            "_model_module": "@jupyter-widgets/controls"
          }
        },
        "19262a3d4f4a4f01937c12d2f60dae7f": {
          "model_module": "@jupyter-widgets/base",
          "model_name": "LayoutModel",
          "model_module_version": "1.2.0",
          "state": {
            "_view_name": "LayoutView",
            "grid_template_rows": null,
            "right": null,
            "justify_content": null,
            "_view_module": "@jupyter-widgets/base",
            "overflow": null,
            "_model_module_version": "1.2.0",
            "_view_count": null,
            "flex_flow": null,
            "width": null,
            "min_width": null,
            "border": null,
            "align_items": null,
            "bottom": null,
            "_model_module": "@jupyter-widgets/base",
            "top": null,
            "grid_column": null,
            "overflow_y": null,
            "overflow_x": null,
            "grid_auto_flow": null,
            "grid_area": null,
            "grid_template_columns": null,
            "flex": null,
            "_model_name": "LayoutModel",
            "justify_items": null,
            "grid_row": null,
            "max_height": null,
            "align_content": null,
            "visibility": null,
            "align_self": null,
            "height": null,
            "min_height": null,
            "padding": null,
            "grid_auto_rows": null,
            "grid_gap": null,
            "max_width": null,
            "order": null,
            "_view_module_version": "1.2.0",
            "grid_template_areas": null,
            "object_position": null,
            "object_fit": null,
            "grid_auto_columns": null,
            "margin": null,
            "display": null,
            "left": null
          }
        },
        "2588ae22b6334a029db559724b0d3c34": {
          "model_module": "@jupyter-widgets/controls",
          "model_name": "DescriptionStyleModel",
          "model_module_version": "1.5.0",
          "state": {
            "_view_name": "StyleView",
            "_model_name": "DescriptionStyleModel",
            "description_width": "",
            "_view_module": "@jupyter-widgets/base",
            "_model_module_version": "1.5.0",
            "_view_count": null,
            "_view_module_version": "1.2.0",
            "_model_module": "@jupyter-widgets/controls"
          }
        },
        "d755e0229e904d77a13e77634c9fd80e": {
          "model_module": "@jupyter-widgets/base",
          "model_name": "LayoutModel",
          "model_module_version": "1.2.0",
          "state": {
            "_view_name": "LayoutView",
            "grid_template_rows": null,
            "right": null,
            "justify_content": null,
            "_view_module": "@jupyter-widgets/base",
            "overflow": null,
            "_model_module_version": "1.2.0",
            "_view_count": null,
            "flex_flow": null,
            "width": null,
            "min_width": null,
            "border": null,
            "align_items": null,
            "bottom": null,
            "_model_module": "@jupyter-widgets/base",
            "top": null,
            "grid_column": null,
            "overflow_y": null,
            "overflow_x": null,
            "grid_auto_flow": null,
            "grid_area": null,
            "grid_template_columns": null,
            "flex": null,
            "_model_name": "LayoutModel",
            "justify_items": null,
            "grid_row": null,
            "max_height": null,
            "align_content": null,
            "visibility": null,
            "align_self": null,
            "height": null,
            "min_height": null,
            "padding": null,
            "grid_auto_rows": null,
            "grid_gap": null,
            "max_width": null,
            "order": null,
            "_view_module_version": "1.2.0",
            "grid_template_areas": null,
            "object_position": null,
            "object_fit": null,
            "grid_auto_columns": null,
            "margin": null,
            "display": null,
            "left": null
          }
        }
      }
    },
    "accelerator": "GPU"
  },
  "cells": [
    {
      "cell_type": "markdown",
      "metadata": {
        "id": "view-in-github",
        "colab_type": "text"
      },
      "source": [
        "<a href=\"https://colab.research.google.com/github/GabrielKP/continual-learning/blob/main/cl_cifar10x10.ipynb\" target=\"_parent\"><img src=\"https://colab.research.google.com/assets/colab-badge.svg\" alt=\"Open In Colab\"/></a>"
      ]
    },
    {
      "cell_type": "markdown",
      "metadata": {
        "id": "0GmWka29qc1Z"
      },
      "source": [
        "# Basis"
      ]
    },
    {
      "cell_type": "markdown",
      "metadata": {
        "id": "nOtWNcngqink"
      },
      "source": [
        "## Imports"
      ]
    },
    {
      "cell_type": "code",
      "metadata": {
        "id": "4sWZIDhHhmGn"
      },
      "source": [
        "%matplotlib inline\n",
        "\n",
        "import torch\n",
        "import torch.nn as nn\n",
        "import torch.optim as optim\n",
        "import torch.nn.functional as F\n",
        "import torchvision.models as models\n",
        "import torchvision.datasets as datasets\n",
        "import torchvision.transforms as transforms\n",
        "from torch.utils.data import DataLoader\n",
        "\n",
        "import matplotlib.pyplot as plt\n",
        "import numpy as np\n",
        "\n",
        "import random\n",
        "import math\n",
        "import time\n",
        "import copy\n",
        "import itertools"
      ],
      "execution_count": 1,
      "outputs": []
    },
    {
      "cell_type": "markdown",
      "metadata": {
        "id": "tKP_YGZbig0j"
      },
      "source": [
        "### Load pretrained convLayers\n",
        "\n",
        "For details look at pre_train_on_cifar10.ipynb"
      ]
    },
    {
      "cell_type": "markdown",
      "metadata": {
        "id": "gDBnkNyco14g"
      },
      "source": [
        "#### convLayers"
      ]
    },
    {
      "cell_type": "code",
      "metadata": {
        "id": "YadYPhzBigM8"
      },
      "source": [
        "class ConvLayers(nn.Module):\n",
        "    \"\"\"\n",
        "    5 torch convolutional layers with batchnormalization\n",
        "    and ReLU nonlinearity. No pooling is used. Inherits from nn.Module.\n",
        "    Requires images with the same height and width.\n",
        "\n",
        "    Methods\n",
        "    -------\n",
        "    forward(X) -> None\n",
        "        Applies convolutions on input X\n",
        "\n",
        "    Attributes\n",
        "    ----------\n",
        "    img_size : int\n",
        "        number indicating the height of input images\n",
        "    in_channels : int\n",
        "        channels of input data\n",
        "    out_channels : int\n",
        "        amount of channels for last layer\n",
        "    out_size : int\n",
        "        height of the output data\n",
        "    out_units : int\n",
        "        total amount of units outputting\n",
        "    \"\"\"\n",
        "\n",
        "    def __init__(self, in_channels, img_size):\n",
        "        \"\"\"\n",
        "        Creates 5 conv layers with batchnorm and ReLU activation\n",
        "\n",
        "        Parameters\n",
        "        ----------\n",
        "        in_channels : int\n",
        "            Amount of channels the input data has\n",
        "        img_size : int\n",
        "            Amount of pixels in one axis\n",
        "        \"\"\"\n",
        "        super(ConvLayers, self).__init__()\n",
        "\n",
        "        list_out_channels = [16,32,64,128,256]\n",
        "\n",
        "        self.img_size = img_size\n",
        "        self.out_size = int(math.ceil(img_size / 2**4))\n",
        "        self.in_channels = in_channels\n",
        "        self.out_channels = list_out_channels[-1]\n",
        "        self.out_units = self.out_channels * self.out_size**2\n",
        "        \n",
        "        self.conv1 = nn.Conv2d(in_channels, list_out_channels[0],\n",
        "                               kernel_size=3, stride=1, bias=True, padding=1)\n",
        "        self.bn1 = nn.BatchNorm2d(list_out_channels[0])\n",
        "        self.nl1 = nn.ReLU()\n",
        "\n",
        "        self.conv2 = nn.Conv2d(list_out_channels[0], list_out_channels[1],\n",
        "                               kernel_size=3, stride=2, bias=True, padding=1)\n",
        "        self.bn2 = nn.BatchNorm2d(list_out_channels[1])\n",
        "        self.nl2 = nn.ReLU()\n",
        "        \n",
        "        self.conv3 = nn.Conv2d(list_out_channels[1], list_out_channels[2],\n",
        "                               kernel_size=3, stride=2, bias=True, padding=1)\n",
        "        self.bn3 = nn.BatchNorm2d(list_out_channels[2])\n",
        "        self.nl3 = nn.ReLU()\n",
        "\n",
        "        self.conv4 = nn.Conv2d(list_out_channels[2], list_out_channels[3],\n",
        "                               kernel_size=3, stride=2, bias=True, padding=1)\n",
        "        self.bn4 = nn.BatchNorm2d(list_out_channels[3])\n",
        "        self.nl4 = nn.ReLU()\n",
        "\n",
        "        self.conv5 = nn.Conv2d(list_out_channels[3], list_out_channels[4],\n",
        "                               kernel_size=3, stride=2, bias=True, padding=1)\n",
        "        self.bn5 = nn.BatchNorm2d(list_out_channels[4])\n",
        "        self.nl5 = nn.ReLU()\n",
        "\n",
        "    def forward(self, X):\n",
        "        \"\"\"\n",
        "        Applies convolutions on input X\n",
        "        \"\"\"\n",
        "\n",
        "        X1 = self.nl1(self.bn1(self.conv1(X)))\n",
        "        X2 = self.nl2(self.bn2(self.conv2(X1)))\n",
        "        X3 = self.nl3(self.bn3(self.conv3(X2)))\n",
        "        X4 = self.nl4(self.bn4(self.conv4(X3)))\n",
        "        X5 = self.nl5(self.bn5(self.conv5(X4)))\n",
        "\n",
        "        return X5"
      ],
      "execution_count": 2,
      "outputs": []
    },
    {
      "cell_type": "markdown",
      "metadata": {
        "id": "bk9kJOjQo95K"
      },
      "source": [
        "Get pre-trained model from github and load it in"
      ]
    },
    {
      "cell_type": "code",
      "metadata": {
        "colab": {
          "base_uri": "https://localhost:8080/"
        },
        "id": "u3XEMYFQi6JY",
        "outputId": "207b8f83-a897-48c5-8bde-0b7bbf6c6cb8"
      },
      "source": [
        "!wget -O convLayers_trained_cifar10.pt https://github.com/GabrielKP/continual-learning/blob/main/convLayers_trained_cifar10.pt?raw=true"
      ],
      "execution_count": 3,
      "outputs": [
        {
          "output_type": "stream",
          "name": "stdout",
          "text": [
            "--2021-09-05 08:55:22--  https://github.com/GabrielKP/continual-learning/blob/main/convLayers_trained_cifar10.pt?raw=true\n",
            "Resolving github.com (github.com)... 192.30.255.113\n",
            "Connecting to github.com (github.com)|192.30.255.113|:443... connected.\n",
            "HTTP request sent, awaiting response... 302 Found\n",
            "Location: https://github.com/GabrielKP/continual-learning/raw/main/convLayers_trained_cifar10.pt [following]\n",
            "--2021-09-05 08:55:23--  https://github.com/GabrielKP/continual-learning/raw/main/convLayers_trained_cifar10.pt\n",
            "Reusing existing connection to github.com:443.\n",
            "HTTP request sent, awaiting response... 302 Found\n",
            "Location: https://raw.githubusercontent.com/GabrielKP/continual-learning/main/convLayers_trained_cifar10.pt [following]\n",
            "--2021-09-05 08:55:23--  https://raw.githubusercontent.com/GabrielKP/continual-learning/main/convLayers_trained_cifar10.pt\n",
            "Resolving raw.githubusercontent.com (raw.githubusercontent.com)... 185.199.108.133, 185.199.109.133, 185.199.110.133, ...\n",
            "Connecting to raw.githubusercontent.com (raw.githubusercontent.com)|185.199.108.133|:443... connected.\n",
            "HTTP request sent, awaiting response... 200 OK\n",
            "Length: 1591356 (1.5M) [application/octet-stream]\n",
            "Saving to: ‘convLayers_trained_cifar10.pt’\n",
            "\n",
            "convLayers_trained_ 100%[===================>]   1.52M  --.-KB/s    in 0.04s   \n",
            "\n",
            "2021-09-05 08:55:23 (40.8 MB/s) - ‘convLayers_trained_cifar10.pt’ saved [1591356/1591356]\n",
            "\n"
          ]
        }
      ]
    },
    {
      "cell_type": "code",
      "metadata": {
        "id": "j-Tksmm4nnyU"
      },
      "source": [
        "convLayers = torch.load(\"convLayers_trained_cifar10.pt\")"
      ],
      "execution_count": 4,
      "outputs": []
    },
    {
      "cell_type": "markdown",
      "metadata": {
        "id": "A8utuZOIs0AF"
      },
      "source": [
        "## Parameters\n",
        "\n",
        "Main parameters are set here. They are fed later into the 'config' dic (see finetune>config) to prevent a global variable mess."
      ]
    },
    {
      "cell_type": "code",
      "metadata": {
        "id": "sCe8ydRhszyB"
      },
      "source": [
        "BATCH_SIZE = 64\n",
        "N_TASKS = 10\n",
        "N_EPOCHS_PER_TASK = 10\n",
        "TEST_ALL_TASKS = 0 # Whether the network should be jointly trained on all tasks\n",
        "\n",
        "N_EPOCHS_TOTAL = N_TASKS * N_EPOCHS_PER_TASK\n",
        "\n",
        "CIFAR_INPUT_SIZE = 32 ** 2\n",
        "CIFAR_N_CLASSES = 10\n",
        "\n",
        "N_REPETITIONS = 3\n",
        "\n",
        "\n",
        "# Model params\n",
        "INPUT_DIM = CIFAR_INPUT_SIZE\n",
        "HIDDEN1_DIM = 1000\n",
        "HIDDEN2_DIM = 1000\n",
        "OUTPUT_DIM = CIFAR_N_CLASSES\n",
        "DROPOUT = 0.5\n",
        "\n",
        "LEARNING_RATE = 0.001\n",
        "BETAS = (0.9, 0.999)"
      ],
      "execution_count": 5,
      "outputs": []
    },
    {
      "cell_type": "markdown",
      "metadata": {
        "id": "HdkGooAOO56h"
      },
      "source": [
        "## Functions"
      ]
    },
    {
      "cell_type": "markdown",
      "metadata": {
        "id": "2LNW_B3gqz5Z"
      },
      "source": [
        "Most parameters are saved in the 'config' dictionary (see Fine-Tune for example). The config dictionary includes many running and static parameters and saves the chaos of having functions use global parameters or having indefinetely many different parameters for functions."
      ]
    },
    {
      "cell_type": "markdown",
      "metadata": {
        "id": "hldwVgTUqrGA"
      },
      "source": [
        "#### evaluate"
      ]
    },
    {
      "cell_type": "code",
      "metadata": {
        "id": "VLi_azDXO7rX"
      },
      "source": [
        "def evaluate(model, dataloader, criterion):\n",
        "\n",
        "    model.eval()\n",
        "\n",
        "    epoch_loss = 0\n",
        "\n",
        "    with torch.no_grad():\n",
        "\n",
        "        for X, y in dataloader:\n",
        "            #X = [batch_size, input_dim]\n",
        "            #y = [batch_size]\n",
        "\n",
        "            output = model(X)\n",
        "            #output = [batch_size, n_classes]\n",
        "            \n",
        "            loss = criterion(output, y)\n",
        "\n",
        "            epoch_loss += loss.item()\n",
        "\n",
        "    return epoch_loss / len(dataloader)"
      ],
      "execution_count": 6,
      "outputs": []
    },
    {
      "cell_type": "markdown",
      "metadata": {
        "id": "qWpe5NNEPTs6"
      },
      "source": [
        "#### hitsLoss"
      ]
    },
    {
      "cell_type": "code",
      "metadata": {
        "id": "GjTXGGXnPS8N"
      },
      "source": [
        "def hitsLoss(outputs, labels):\n",
        "    #outputs = [batch_size, n_classes]\n",
        "    #labels = [batch_size]\n",
        "    \n",
        "    batch_size = outputs.shape[0]\n",
        "    \n",
        "    preds = outputs.detach().argmax(dim=-1)\n",
        "    \n",
        "    hits = sum(preds == labels)/batch_size\n",
        "    \n",
        "    return hits"
      ],
      "execution_count": 7,
      "outputs": []
    },
    {
      "cell_type": "markdown",
      "metadata": {
        "id": "YzU1rLWjrgf0"
      },
      "source": [
        "#### evaluate_all_tasks"
      ]
    },
    {
      "cell_type": "code",
      "metadata": {
        "id": "d8ZxF-iyrf0U"
      },
      "source": [
        "def evaluate_all_tasks(model, criterion, config, total_loss_array,\n",
        "                       total_hits_array, idx, max_task=None):\n",
        "    n_tasks_total = config[\"n_tasks_total\"]\n",
        "    dls_train = config[\"dls_train\"]\n",
        "    dls_test = config[\"dls_test\"]\n",
        "    if max_task is None or max_task > n_tasks_total:\n",
        "        max_task = n_tasks_total\n",
        "\n",
        "    for other_id in range(max_task):\n",
        "        total_loss_array[other_id,0,idx] = evaluate(model,\n",
        "                                                    dls_train[other_id],\n",
        "                                                    criterion)\n",
        "        total_loss_array[other_id,1,idx] = evaluate(model,\n",
        "                                                    dls_test[other_id],\n",
        "                                                    criterion)\n",
        "        total_hits_array[other_id,0,idx] = evaluate(model,\n",
        "                                                    dls_train[other_id],\n",
        "                                                    hitsLoss)\n",
        "        total_hits_array[other_id,1,idx] = evaluate(model,\n",
        "                                                    dls_test[other_id],\n",
        "                                                    hitsLoss)"
      ],
      "execution_count": 8,
      "outputs": []
    },
    {
      "cell_type": "markdown",
      "metadata": {
        "id": "xjhq1vqJHi7x"
      },
      "source": [
        "#### create_schedule"
      ]
    },
    {
      "cell_type": "code",
      "metadata": {
        "id": "wgDAwLgIHihp"
      },
      "source": [
        "def create_schedule(n_epochs_total, n_total_tasks, n_task_epochs):\n",
        "    \"\"\"Creates list of tuples: (task_id, n_task_epochs)\"\"\"\n",
        "    # Creates a training schedule:\n",
        "    schedule = []\n",
        "    epoch_counter = n_epochs_total\n",
        "\n",
        "    for task_id in itertools.cycle(range(n_total_tasks)):\n",
        "\n",
        "        if epoch_counter - n_task_epochs <=0:\n",
        "            schedule.append((task_id, epoch_counter))\n",
        "            break\n",
        "        else:\n",
        "            schedule.append((task_id, n_task_epochs))\n",
        "            epoch_counter -= n_task_epochs\n",
        "    return schedule\n",
        "\n",
        "def schedule_repetitions(x):\n",
        "    \"\"\"x amount of repetitions each task gets\"\"\"\n",
        "    assert x != 0\n",
        "    n_task_epochs = N_EPOCHS_TOTAL // ((N_TASKS + TEST_ALL_TASKS) * x)\n",
        "    return create_schedule(N_EPOCHS_TOTAL, N_TASKS + TEST_ALL_TASKS, n_task_epochs)"
      ],
      "execution_count": 9,
      "outputs": []
    },
    {
      "cell_type": "markdown",
      "metadata": {
        "id": "KCCZ5-2FtQHK"
      },
      "source": [
        "#### schedules\n",
        "\n",
        "A schedule specifies which task is trained for how many epochs in which order. The schedule is realized as list of tuples. The tuples have 2 components (task_id, n_task_epochs). The experiment is run by training the model on task_id for n_Task_epochs and then moving in order to the next tuple"
      ]
    },
    {
      "cell_type": "code",
      "metadata": {
        "id": "F7KFiYeLsKjs"
      },
      "source": [
        "not_interleaved = schedule_repetitions(1)\n",
        "medium_interleaved = schedule_repetitions(4)\n",
        "strong_interleaved = schedule_repetitions(8)\n",
        "dbg_not_interleaved = create_schedule(100,10,10)\n",
        "dbg_medium_interleaved = create_schedule(100,10,5)\n",
        "dbg_strong_interleaved = create_schedule(100,10,2)"
      ],
      "execution_count": 10,
      "outputs": []
    },
    {
      "cell_type": "markdown",
      "metadata": {
        "id": "mdFYpnkfqPT1"
      },
      "source": [
        "#### experiment"
      ]
    },
    {
      "cell_type": "code",
      "metadata": {
        "id": "sYNfrXvQpGWz"
      },
      "source": [
        "def experiment(\n",
        "    config,\n",
        "    init_func,\n",
        "    repeat_func,\n",
        "):\n",
        "    \"\"\"\n",
        "    Runs experiment with a given task schedule and a model.\n",
        "    The model, criterion and other specifics are defined through\n",
        "    the init_func. The repeat_func is called in for every epoch.\n",
        "    See finetune>training functions for examples\n",
        "\n",
        "    Parameters\n",
        "    ----------\n",
        "    config : dict\n",
        "        Contains all information and parameters for experiment.\n",
        "    init_func : function() -> (model, criterion, pass_on_variables)\n",
        "        Initializes the model and all its specifics. Returns 3 variables:\n",
        "        (model, criterion, pass_on_variables). pass_on_variables are\n",
        "        fed back into the repeat_func\n",
        "    repeat_func : function(model, criterion, config, pass_on_variables) ->\n",
        "                        (model, hist_loss, hist_hits)\n",
        "        Is called every repetition. Here the model is trained for the amount of\n",
        "        epochs according to the schedule. If eval_within is True, hist_loss,\n",
        "        hist_hits are expected to be filled in with values, if\n",
        "        not their values are ignored\n",
        "    \"\"\"\n",
        "    schedule = config[\"schedule\"]\n",
        "    n_repetitions = config[\"n_repetitions\"]\n",
        "    n_datasets = config[\"n_datasets\"]\n",
        "    n_tasks_total = config[\"n_tasks_total\"]\n",
        "    eval_within = config[\"eval_within\"]\n",
        "    step_size_evaluation = config[\"step_size_evaluation\"]\n",
        "    experiment_name = config[\"experiment_name\"]\n",
        "\n",
        "    n_epochs_total = sum([x[1] for x in schedule])\n",
        "\n",
        "    if eval_within:\n",
        "        n_evaluations = sum([x[1] // step_size_evaluation for x in schedule])\n",
        "        hist_all_losses = np.empty((n_repetitions, n_tasks_total, n_datasets,\n",
        "                                    n_evaluations))\n",
        "        hist_all_hitsss = np.empty((n_repetitions, n_tasks_total, n_datasets,\n",
        "                                    n_evaluations))\n",
        "    \n",
        "    n_task_changes = len(schedule)\n",
        "    \n",
        "    hist_between_losses = np.empty((n_repetitions, n_tasks_total, n_datasets,\n",
        "                                    n_task_changes))\n",
        "    hist_between_hitsss = np.empty((n_repetitions, n_tasks_total, n_datasets,\n",
        "                                    n_task_changes))\n",
        "\n",
        "    config[\"curr_repetition\"] = 0\n",
        "    for repetition in range(n_repetitions):\n",
        "        print(f\"@@@@@@@@@ Repetition {repetition:3} @@@@@@@@@\")\n",
        "        if repetition == 0:\n",
        "            models = []\n",
        "\n",
        "        # Call task specific init function\n",
        "        model, criterion, pass_on_variables = init_func(config)\n",
        "        config[\"curr_sched_counter\"] = 0\n",
        "        n_evalsteps_passed = 0\n",
        "        for i, (task_id, n_task_epochs) in enumerate(schedule):\n",
        "            tag = f\"{experiment_name}.s{i}.t{task_id}.e{n_task_epochs}\"\n",
        "            print(f\"\\nSCHEDULE: {tag}\")\n",
        "\n",
        "            # Call task specific repeat function\n",
        "            config[\"curr_task_id\"] = task_id\n",
        "            config[\"curr_n_task_epochs\"] = n_task_epochs\n",
        "            model, hist_loss, hist_hits = repeat_func(model, criterion, config,\n",
        "                                                      pass_on_variables)\n",
        "\n",
        "            if eval_within:\n",
        "                # Save performance history within tasks\n",
        "                start_idx = n_evalsteps_passed\n",
        "                end_idx = (n_evalsteps_passed + n_task_epochs //\n",
        "                           step_size_evaluation)\n",
        "                hist_all_losses[repetition,:,:,start_idx:end_idx] = hist_loss\n",
        "                hist_all_hitsss[repetition,:,:,start_idx:end_idx] = hist_hits\n",
        "                n_evalsteps_passed = end_idx\n",
        "            \n",
        "            # Evaluate Task performance after task\n",
        "            evaluate_all_tasks(model,\n",
        "                               criterion,\n",
        "                               config,\n",
        "                               hist_between_losses[repetition],\n",
        "                               hist_between_hitsss[repetition],\n",
        "                               i, \n",
        "                               i + 1)\n",
        "\n",
        "            # Copy model to have at least one functional model in the end\n",
        "            if repetition == 0 and model is not None:\n",
        "                models.append(copy.deepcopy(model))\n",
        "\n",
        "            config[\"curr_sched_counter\"] += 1\n",
        "\n",
        "        config[\"curr_repetition\"] += 1\n",
        "\n",
        "    if not eval_within:\n",
        "        return hist_between_losses, hist_between_hitsss, None, None, models\n",
        "    return (hist_between_losses, hist_between_hitsss, hist_all_losses,\n",
        "            hist_all_hitsss, models)"
      ],
      "execution_count": 97,
      "outputs": []
    },
    {
      "cell_type": "markdown",
      "metadata": {
        "id": "WnomAb_Ip3he"
      },
      "source": [
        "#### epoch_time"
      ]
    },
    {
      "cell_type": "code",
      "metadata": {
        "id": "xGhFseBAVvYD"
      },
      "source": [
        "def epoch_time(start_time, end_time):\n",
        "    elapsed_time = end_time - start_time\n",
        "    elapsed_mins = int(elapsed_time / 60)\n",
        "    elapsed_secs = int(elapsed_time - (elapsed_mins * 60))\n",
        "    return elapsed_mins, elapsed_secs"
      ],
      "execution_count": 12,
      "outputs": []
    },
    {
      "cell_type": "markdown",
      "metadata": {
        "id": "An4PzONjp1OX"
      },
      "source": [
        "#### filter_params_inv"
      ]
    },
    {
      "cell_type": "code",
      "metadata": {
        "id": "UdlH2mlbp0bg"
      },
      "source": [
        "def filter_params_inv(model, keyword):\n",
        "    \"\"\"Returns list of Parameters which do not include keyword\"\"\"\n",
        "    ret = []\n",
        "    for name, param in model.named_parameters():\n",
        "        if keyword not in name:\n",
        "            ret.append(param)\n",
        "    return ret"
      ],
      "execution_count": 13,
      "outputs": []
    },
    {
      "cell_type": "markdown",
      "metadata": {
        "id": "z3f42R5Yf6Nk"
      },
      "source": [
        "#### plot_accuracy_joint"
      ]
    },
    {
      "cell_type": "code",
      "metadata": {
        "id": "bOPEbfiof4Rq"
      },
      "source": [
        "def plot_accuracy_joint(hist_between_tasks, config, figsize=(10,7),\n",
        "                        path=None):\n",
        "    \"\"\"\n",
        "    Plots joint train and test accuracy on tasks network was trained on\n",
        "    \"\"\"\n",
        "    schedule = config[\"schedule\"]\n",
        "    n_repetitions, n_tasks_total, n_datasets, n_task_switches = \\\n",
        "        hist_between_tasks.shape\n",
        "    assert n_task_switches == len(schedule)\n",
        "    \n",
        "    combined_error = np.empty((n_repetitions, n_datasets, n_task_switches))\n",
        "    \n",
        "    tasks_trained_on = set()\n",
        "    # Get total accuracy for tasks already trained on\n",
        "    for i, (task_id, _) in enumerate(schedule):\n",
        "        tasks_trained_on.add(task_id)\n",
        "        \n",
        "        indices = list(tasks_trained_on)\n",
        "        # Sum over tasks trained on\n",
        "        s = np.sum(hist_between_tasks[:,indices,:,i], axis=0)\n",
        "\n",
        "        # Divide by number of tasks\n",
        "        d = s / len(tasks_trained_on)\n",
        "        \n",
        "        combined_error[:,:,i] = d\n",
        "    \n",
        "    # average runs\n",
        "    hist_avg = np.average(combined_error, axis=0)\n",
        "    # standard deviation\n",
        "    hist_std = np.std(combined_error, axis=0)\n",
        "    # Make sure std does not show below min or above max\n",
        "    minimal_val = np.min(combined_error)\n",
        "    hist_min = np.fmax(hist_avg - hist_std, minimal_val)\n",
        "    maximal_val = np.max(combined_error)\n",
        "    hist_max = np.fmin(hist_avg + hist_std, maximal_val)\n",
        "    \n",
        "    plt.figure(figsize=figsize)\n",
        "    ax = plt.subplot(111)\n",
        "    #ax.set_ylim(-0.05, 1.05)\n",
        "    ax.set_xlabel(\"task switches\")\n",
        "    ax.set_ylabel(\"joint accuracy on past and current tasks\")\n",
        "    xvals = range(n_task_switches)\n",
        "    \n",
        "    for dataset_id in range(n_datasets):\n",
        "        # Average\n",
        "        ax.plot(xvals,\n",
        "                hist_avg[dataset_id])\n",
        "        # Stds\n",
        "        ax.fill_between(xvals,\n",
        "                       hist_min[dataset_id],\n",
        "                       hist_max[dataset_id],\n",
        "                       alpha=0.3)\n",
        "    legends = np.array([\"Train\", \"Test\"])\n",
        "    plt.legend(legends)\n",
        "    plt.title(config[\"experiment_name\"])\n",
        "    plt.tight_layout()\n",
        "    if path is not None:\n",
        "        plt.savefig(path, dpi=300, bbox_inches='tight')"
      ],
      "execution_count": 39,
      "outputs": []
    },
    {
      "cell_type": "markdown",
      "metadata": {
        "id": "sVg4JfzOksTd"
      },
      "source": [
        "#### plot_accuracy_final"
      ]
    },
    {
      "cell_type": "code",
      "metadata": {
        "id": "fZSlRYgmkvFA"
      },
      "source": [
        "def plot_accuracy_final(hist_tasks, config, figsize=(10,7), dataset=1,\n",
        "                        path=None):\n",
        "    n_repetitions, n_tasks_total, n_datasets, n_task_switches = \\\n",
        "        hist_tasks.shape\n",
        "    \n",
        "    # average runs\n",
        "    hist_avg = np.average(hist_tasks, axis=0)\n",
        "    # standard deviation\n",
        "    hist_std = np.std(hist_tasks, axis=0)\n",
        "    # Make sure std does not show below min or above max\n",
        "    minimal_val = np.min(hist_tasks)\n",
        "    hist_min = np.fmax(hist_avg - hist_std, minimal_val)\n",
        "    maximal_val = np.max(hist_tasks)\n",
        "    hist_max = np.fmin(hist_avg + hist_std, maximal_val)\n",
        "\n",
        "    plt.figure(figsize=figsize)\n",
        "    ax = plt.subplot(111)\n",
        "    #ax.set_ylim(-0.05, 1.05)\n",
        "    ax.set_xlabel(\"task\")\n",
        "    ax.set_ylabel(\"accuracy\")\n",
        "    xvals = range(n_task_switches)\n",
        "    ax.set_xticks(xvals)\n",
        "    ax.set_xticklabels(np.array(xvals) + 1)\n",
        "    \n",
        "    # Final Accuracy\n",
        "    # Average\n",
        "    ax.bar(xvals, hist_avg[:,dataset,-1])\n",
        "    # Stds\n",
        "    ax.fill_between(xvals,\n",
        "                    hist_min[:,dataset,-1],\n",
        "                    hist_max[:,dataset,-1],\n",
        "                    alpha=0.3)"
      ],
      "execution_count": null,
      "outputs": []
    },
    {
      "cell_type": "markdown",
      "metadata": {
        "id": "Mi9MW-_LqT4Z"
      },
      "source": [
        "#### plot_accuracy_tasks"
      ]
    },
    {
      "cell_type": "code",
      "metadata": {
        "id": "wM4dCMSGg2tY"
      },
      "source": [
        "def plot_accuracy_tasks(hist_tasks, config, figsize=(10,7), dataset=1,\n",
        "                        path=None):\n",
        "    n_repetitions, n_tasks_total, n_datasets, n_task_switches = \\\n",
        "        hist_tasks.shape\n",
        "    \n",
        "    # average runs\n",
        "    hist_avg = np.average(hist_tasks, axis=0)\n",
        "    # standard deviation\n",
        "    hist_std = np.std(hist_tasks, axis=0)\n",
        "    # Make sure std does not show below min or above max\n",
        "    minimal_val = np.min(hist_tasks)\n",
        "    hist_min = np.fmax(hist_avg - hist_std, minimal_val)\n",
        "    maximal_val = np.max(hist_tasks)\n",
        "    hist_max = np.fmin(hist_avg + hist_std, maximal_val)\n",
        "\n",
        "    width = 0.3\n",
        "    plt.figure(figsize=figsize)\n",
        "    ax = plt.subplot(111)\n",
        "    #ax.set_ylim(-0.05, 1.05)\n",
        "    ax.set_xlabel(\"task\")\n",
        "    ax.set_ylabel(\"accuracy\")\n",
        "    xvals = np.arange(n_task_switches)\n",
        "    ax.set_xticks(xvals)\n",
        "    ax.set_xticklabels(xvals + 1)\n",
        "    \n",
        "    # Accuracy after training on specific task\n",
        "    l1 = \"Directly after Training on task\"\n",
        "    ax.bar(xvals - width, hist_avg[xvals,dataset,xvals], width,\n",
        "           yerr=hist_std[xvals,dataset,xvals], label=l1)\n",
        "\n",
        "    # Accuracy after training on next task\n",
        "    l2 = \"After training on next task\"\n",
        "    ax.bar(xvals[:-1], hist_avg[xvals[:-1],dataset,xvals[:-1] + 1], width,\n",
        "           yerr=hist_std[xvals[:-1],dataset,xvals[:-1] + 1], label=l2)\n",
        "\n",
        "    # Final Accuracy\n",
        "    l3 = \"After training on all tasks\"\n",
        "    ax.bar(xvals + width, hist_avg[:,dataset,-1], width,\n",
        "           yerr=hist_std[:,dataset,-1], label=l3)\n",
        "\n",
        "    plt.legend()\n",
        "    plt.title(f'{[\"Train\", \"Test\",][dataset]}: {config[\"experiment_name\"]}')\n",
        "    plt.tight_layout()"
      ],
      "execution_count": 40,
      "outputs": []
    },
    {
      "cell_type": "markdown",
      "metadata": {
        "id": "gIl6Y2xfzo9o"
      },
      "source": [
        "## Data"
      ]
    },
    {
      "cell_type": "markdown",
      "metadata": {
        "id": "of6DFcXxzzRl"
      },
      "source": [
        "means and stds taken from 'pre_train_on_cifa10'"
      ]
    },
    {
      "cell_type": "code",
      "metadata": {
        "id": "f6WL-vd9zy3P"
      },
      "source": [
        "means = [0.491400808095932, 0.48215898871421814, 0.44653093814849854]\n",
        "stds = [0.24703224003314972, 0.24348513782024384, 0.26158785820007324]"
      ],
      "execution_count": 14,
      "outputs": []
    },
    {
      "cell_type": "code",
      "metadata": {
        "colab": {
          "base_uri": "https://localhost:8080/",
          "height": 87,
          "referenced_widgets": [
            "9ba58f5f612845dea5f7f823ce6c95de",
            "a6fbd129018149d7b307826f823c5f23",
            "b0bb3e9112af434f9be0ebf9e33925bd",
            "75350bd42b5942ae9e3a970691fd2a40",
            "1da76833855547e38aba46eb26b843c0",
            "31a4109c5db940bebb6b7c5d38144c83",
            "67cccd4992254a589d02204db55386f5",
            "0950af9e974d4f2b8205520f46841d72",
            "f6015ffc15154edd95c47310177aa158",
            "1cff4779dfde430f9c4b38ae1fdd2821",
            "7d325070246841faa94e07b063ad3357"
          ]
        },
        "id": "naO3MqWizqow",
        "outputId": "81fbff1a-7c71-4234-ffe0-543a5089baf7"
      },
      "source": [
        "transform = transforms.Compose([transforms.ToTensor(),\n",
        "                                transforms.Normalize(means, stds)])\n",
        "\n",
        "ds_train_cifar10 = datasets.CIFAR10(\"data\", train=True,\n",
        "                                  transform=transform,\n",
        "                                  download=True)\n",
        "ds_test_cifar10 = datasets.CIFAR10(\"data\", train=False,\n",
        "                                 transform=transform,\n",
        "                                 download=False)\n",
        "\n",
        "dl_train_cifar10 = DataLoader(ds_train_cifar10, batch_size=BATCH_SIZE,\n",
        "                              shuffle=True)\n",
        "dl_test_cifar10 = DataLoader(ds_test_cifar10, batch_size=BATCH_SIZE,\n",
        "                             shuffle=False)"
      ],
      "execution_count": 15,
      "outputs": [
        {
          "output_type": "stream",
          "name": "stdout",
          "text": [
            "Downloading https://www.cs.toronto.edu/~kriz/cifar-10-python.tar.gz to data/cifar-10-python.tar.gz\n"
          ]
        },
        {
          "output_type": "display_data",
          "data": {
            "application/vnd.jupyter.widget-view+json": {
              "model_id": "9ba58f5f612845dea5f7f823ce6c95de",
              "version_minor": 0,
              "version_major": 2
            },
            "text/plain": [
              "  0%|          | 0/170498071 [00:00<?, ?it/s]"
            ]
          },
          "metadata": {}
        },
        {
          "output_type": "stream",
          "name": "stdout",
          "text": [
            "Extracting data/cifar-10-python.tar.gz to data\n"
          ]
        }
      ]
    },
    {
      "cell_type": "markdown",
      "metadata": {
        "id": "tgFGqh-Y96L0"
      },
      "source": [
        "### CIFAR10x10"
      ]
    },
    {
      "cell_type": "code",
      "metadata": {
        "colab": {
          "base_uri": "https://localhost:8080/",
          "height": 87,
          "referenced_widgets": [
            "14cf014ba73e44659ea97669e7e210ef",
            "3b0e718c1dd84605b96cdbdfb77c688a",
            "28a03b7bcbaf4549b9b233e2d51948d6",
            "42b1dc4362c8455480ca98a578ba376a",
            "17a1dad5804143709243ed58bc6d5f5b",
            "d913eb009d784a0584e4678c23b62d44",
            "7c374166823140db8b9b4708eb068da6",
            "69c07e4474d447c29b3cec32e7d57046",
            "19262a3d4f4a4f01937c12d2f60dae7f",
            "2588ae22b6334a029db559724b0d3c34",
            "d755e0229e904d77a13e77634c9fd80e"
          ]
        },
        "id": "CvWBvPax98Bg",
        "outputId": "aaf97415-72a2-45e3-eb11-62873440c1d7"
      },
      "source": [
        "transform = transforms.Compose([transforms.ToTensor(),\n",
        "                                transforms.Normalize(means, stds)])\n",
        "\n",
        "ds_train_cifar100 = datasets.CIFAR100(\"data\", train=True,\n",
        "                                      transform=transform,\n",
        "                                      download=True)\n",
        "\n",
        "ds_test_cifar100 = datasets.CIFAR100(\"data\", train=False,\n",
        "                                     transform=transform,\n",
        "                                     download=False)"
      ],
      "execution_count": 16,
      "outputs": [
        {
          "output_type": "stream",
          "name": "stdout",
          "text": [
            "Downloading https://www.cs.toronto.edu/~kriz/cifar-100-python.tar.gz to data/cifar-100-python.tar.gz\n"
          ]
        },
        {
          "output_type": "display_data",
          "data": {
            "application/vnd.jupyter.widget-view+json": {
              "model_id": "14cf014ba73e44659ea97669e7e210ef",
              "version_minor": 0,
              "version_major": 2
            },
            "text/plain": [
              "  0%|          | 0/169001437 [00:00<?, ?it/s]"
            ]
          },
          "metadata": {}
        },
        {
          "output_type": "stream",
          "name": "stdout",
          "text": [
            "Extracting data/cifar-100-python.tar.gz to data\n"
          ]
        }
      ]
    },
    {
      "cell_type": "markdown",
      "metadata": {
        "id": "R3_KJQk6HsxH"
      },
      "source": [
        "Group data into the right tasks"
      ]
    },
    {
      "cell_type": "code",
      "metadata": {
        "id": "NMCI3HnHAKkv"
      },
      "source": [
        "labels_task1 = [\"apples\", \"aquarium fish\", \"baby\", \"bear\", \"beaver\", \"bed\", \"bee\", \"beetle\", \"bicycle\", \"bottles\"]\n",
        "labels_task2 = [\"bowls\", \"boy\", \"bridge\", \"bus\", \"butterfly\", \"camel\", \"cans\", \"castle\", \"caterpillar\", \"cattle\"]\n",
        "labels_task3 = [\"chair\", \"chimpanzee\", \"clock\", \"cloud\", \"cockroach\", \"couch\", \"crab\", \"crocodile\", \"cups\", \"dinosaur\"]\n",
        "labels_task4 = [\"dolphin\", \"elephant\", \"flatfish\", \"forest\", \"fox\", \"girl\", \"hamster\", \"house\", \"kangaroo\", \"computer keyboard\"]\n",
        "labels_task5 = [\"lamp\", \"lawn mower\", \"leopard\", \"lion\", \"lizard\", \"lobster\", \"man\", \"maple tree\", \"motor cycle\", \"mountain\"]\n",
        "labels_task6 = [\"mouse\", \"mushrooms\", \"oak tree\", \"oranges\", \"orchids\", \"otter\", \"palm tree\", \"pears\", \"pickup truck\", \"pine tree\"]\n",
        "labels_task7 = [\"plain\", \"plates\", \"poppies\", \"porcupine\", \"possum\", \"rabbit\", \"raccoon\", \"ray\", \"road\", \"rocket\"]\n",
        "labels_task8 = [\"roses\", \"sea\", \"seal\", \"shark\", \"shrew\", \"skunk\", \"skyscraper\", \"snail\", \"snake\", \"spider\"]\n",
        "labels_task9 = [\"squirrel\", \"streetcar\", \"sunflowers\", \"sweet peppers\", \"table\", \"tank\", \"telephone\", \"television\", \"tiger\", \"tractor\"]\n",
        "labels_task10 = [\"train\", \"trout\", \"tulips\", \"turtle\", \"wardrobe\", \"whale\", \"willow tree\", \"wolf\", \"woman\", \"worm\"]\n",
        "labels = [labels_task1, labels_task2, labels_task3, labels_task4, labels_task5, labels_task6, labels_task7, labels_task8, labels_task9, labels_task10]"
      ],
      "execution_count": 17,
      "outputs": []
    },
    {
      "cell_type": "code",
      "metadata": {
        "id": "GoPuygwSAvd8"
      },
      "source": [
        "idx_labels = [ [list(range(task_id*10, task_id*10 + 10))] for task_id in range(10)]"
      ],
      "execution_count": 18,
      "outputs": []
    },
    {
      "cell_type": "code",
      "metadata": {
        "id": "FzvJpcbJDi8Q"
      },
      "source": [
        "def concat(ilist):\n",
        "    if len(ilist) == 2:\n",
        "        return ilist[0] + ilist[1]\n",
        "    return ilist[0] + concat(ilist[1:])"
      ],
      "execution_count": 19,
      "outputs": []
    },
    {
      "cell_type": "code",
      "metadata": {
        "colab": {
          "base_uri": "https://localhost:8080/",
          "height": 304
        },
        "id": "j0X2TmUbFW7H",
        "outputId": "1b7208c1-748b-4226-82d1-0c9425cae0fb"
      },
      "source": [
        "plt.imshow( ds_test_cifar100[167][0].permute(1, 2, 0))"
      ],
      "execution_count": 20,
      "outputs": [
        {
          "output_type": "stream",
          "name": "stderr",
          "text": [
            "Clipping input data to the valid range for imshow with RGB data ([0..1] for floats or [0..255] for integers).\n"
          ]
        },
        {
          "output_type": "execute_result",
          "data": {
            "text/plain": [
              "<matplotlib.image.AxesImage at 0x7f2f25064f50>"
            ]
          },
          "metadata": {},
          "execution_count": 20
        },
        {
          "output_type": "display_data",
          "data": {
            "image/png": "[encoded data removed]",
            "text/plain": [
              "<Figure size 432x288 with 1 Axes>"
            ]
          },
          "metadata": {
            "needs_background": "light"
          }
        }
      ]
    },
    {
      "cell_type": "code",
      "metadata": {
        "id": "DNqceYKpDUc8"
      },
      "source": [
        "dss_train = [[] for _ in range(N_TASKS)]\n",
        "for datapoint in ds_train_cifar100:\n",
        "    task_id = datapoint[1] // 10\n",
        "    dss_train[task_id].append((datapoint[0], datapoint[1] % 10))"
      ],
      "execution_count": 21,
      "outputs": []
    },
    {
      "cell_type": "code",
      "metadata": {
        "id": "dfj849TEwJpG"
      },
      "source": [
        "dss_test = [[] for _ in range(N_TASKS)]\n",
        "for datapoint in ds_test_cifar100:\n",
        "    task_id = datapoint[1] // 10\n",
        "    dss_test[task_id].append((datapoint[0], datapoint[1] % 10))"
      ],
      "execution_count": 22,
      "outputs": []
    },
    {
      "cell_type": "code",
      "metadata": {
        "id": "jeSQRJ1JxZz_"
      },
      "source": [
        "dls_train = [DataLoader(ds, batch_size=BATCH_SIZE, shuffle=True) for ds in dss_train]\n",
        "dls_test = [DataLoader(ds, batch_size=BATCH_SIZE, shuffle=False) for ds in dss_test]"
      ],
      "execution_count": 23,
      "outputs": []
    },
    {
      "cell_type": "markdown",
      "metadata": {
        "id": "DkekJ-c7bzBm"
      },
      "source": [
        "# Fine-Tuning"
      ]
    },
    {
      "cell_type": "markdown",
      "metadata": {
        "id": "nrS55qNmptaa"
      },
      "source": [
        "\n",
        "### FineTune"
      ]
    },
    {
      "cell_type": "code",
      "metadata": {
        "id": "A2PFJsi4b3Ik"
      },
      "source": [
        "class FineTune(nn.Module):\n",
        "\n",
        "    def __init__(self, convLayers, hidden1_dim, hidden2_dim, output_dim):\n",
        "        super(FineTune, self).__init__()\n",
        "\n",
        "        self.convLayers = convLayers\n",
        "        self.hidden_dim = hidden1_dim\n",
        "        self.hidden2_dim = hidden2_dim\n",
        "        self.output_dim = output_dim\n",
        "\n",
        "        self.fc1 = nn.Linear(convLayers.out_units, hidden1_dim)\n",
        "        self.nl1 = nn.ReLU()\n",
        "\n",
        "        self.fc2 = nn.Linear(hidden1_dim, hidden2_dim)\n",
        "        self.nl2 = nn.ReLU()\n",
        "\n",
        "        self.fc_out = nn.Linear(hidden2_dim, output_dim)\n",
        "\n",
        "    def forward(self, X):\n",
        "        \"\"\"\n",
        "        Applies convolutions on input X\n",
        "        \"\"\"\n",
        "\n",
        "        X1 = self.convLayers(X)\n",
        "        X2 = self.nl1(self.fc1(torch.flatten(X1, start_dim=1)))\n",
        "        X3 = self.nl2(self.fc2(X2))\n",
        "\n",
        "        return self.fc_out(X3)"
      ],
      "execution_count": 24,
      "outputs": []
    },
    {
      "cell_type": "markdown",
      "metadata": {
        "id": "UcghJRKipTXZ"
      },
      "source": [
        "## training functions"
      ]
    },
    {
      "cell_type": "markdown",
      "metadata": {
        "id": "BNt5uh18pqZP"
      },
      "source": [
        "### train_finetune"
      ]
    },
    {
      "cell_type": "code",
      "metadata": {
        "id": "tw7c4PQVpWnZ"
      },
      "source": [
        "def train_finetune(model, dataloader, optimizer, criterion, clip):\n",
        "\n",
        "    model.train()\n",
        "\n",
        "    epoch_loss = 0\n",
        "\n",
        "    for X, y in dataloader:\n",
        "\n",
        "        optimizer.zero_grad()\n",
        "\n",
        "        output = model(X)\n",
        "\n",
        "        loss = criterion(output, y)\n",
        "\n",
        "        loss.backward()\n",
        "\n",
        "        torch.nn.utils.clip_grad_norm_(model.parameters(), clip)\n",
        "\n",
        "        optimizer.step()\n",
        "\n",
        "        epoch_loss += loss.item()\n",
        "\n",
        "    return epoch_loss / len(dataloader)"
      ],
      "execution_count": 25,
      "outputs": []
    },
    {
      "cell_type": "markdown",
      "metadata": {
        "id": "P8V5ElHwrCXm"
      },
      "source": [
        "### fit_finetune"
      ]
    },
    {
      "cell_type": "code",
      "metadata": {
        "id": "V1jpsSnmrBwP"
      },
      "source": [
        "def fit_finetune(\n",
        "    model,\n",
        "    optimizer,\n",
        "    criterion,\n",
        "    config\n",
        "):\n",
        "    repetition = config[\"curr_repetition\"]\n",
        "    n_task_epochs = config[\"curr_n_task_epochs\"]\n",
        "    task_id = config[\"curr_task_id\"]\n",
        "    clip = config[\"clip\"]\n",
        "    eval_within = config[\"eval_within\"]\n",
        "    dls_train = config[\"dls_train\"]\n",
        "\n",
        "    if eval_within:\n",
        "        n_tasks_total = config[\"n_tasks_total\"]\n",
        "        n_datasets = config[\"n_datasets\"]\n",
        "        step_size_evaluation = config[\"step_size_evaluation\"]\n",
        "        total_hits = torch.zeros((n_tasks_total, n_datasets,\n",
        "                                n_task_epochs//step_size_evaluation,))\n",
        "        total_loss = torch.zeros((n_tasks_total, n_datasets,\n",
        "                                n_task_epochs//step_size_evaluation,))\n",
        "        # [task_id, dataset, evaluations]\n",
        "\n",
        "    for epoch in range(n_task_epochs):\n",
        "        # First Epoch log performance BEFORE training\n",
        "        if epoch == 0 and eval_within:\n",
        "            #CHANGE\n",
        "            eval_all_tasks(model, total_loss, total_hits, n_tasks_total, 0, criterion)\n",
        "        \n",
        "        start_time = time.time()\n",
        "        \n",
        "        train_loss = train_finetune(model, dls_train[task_id], optimizer, criterion, clip)\n",
        "        \n",
        "        end_time = time.time()\n",
        "        \n",
        "        epoch_mins, epoch_secs = epoch_time(start_time, end_time)\n",
        "\n",
        "        # Log performance AFTER training\n",
        "        if eval_within and epoch % step_size_evaluation == 0 and epoch != 0:\n",
        "            idx = epoch//step_size_evaluation\n",
        "            #CHANGE\n",
        "            eval_all_tasks(model, total_loss, total_hits, n_tasks_total, idx, criterion)\n",
        "\n",
        "        \n",
        "        if repetition is not None:\n",
        "            print(f'Epoch: {epoch+1:02} | Time: {epoch_mins}m {epoch_secs}s | R{repetition} T{task_id}')\n",
        "        else:\n",
        "            print(f'Epoch: {epoch+1:02} | Time: {epoch_mins}m {epoch_secs}s | T{task_id}')\n",
        "        print(f'\\tTrain Loss: {train_loss:.3f} | Train PPL: {math.exp(train_loss):7.3f}')\n",
        "    \n",
        "    if eval_within:\n",
        "        return total_loss, total_hits\n",
        "    return None, None"
      ],
      "execution_count": 26,
      "outputs": []
    },
    {
      "cell_type": "markdown",
      "metadata": {
        "id": "5LdRQOamd1m7"
      },
      "source": [
        "### repeat_func, init_func"
      ]
    },
    {
      "cell_type": "code",
      "metadata": {
        "id": "YP1jlYLidvAd"
      },
      "source": [
        "def init_func_finetune(config):\n",
        "    cL = copy.deepcopy(convLayers)\n",
        "    nmodel = FineTune(cL, 2000, 2000, config[\"output_dim\"])\n",
        "    criterion = nn.CrossEntropyLoss()\n",
        "\n",
        "    pass_on_variables = dict()\n",
        "    pass_on_variables[\"opt\"] = optim.Adam(filter_params_inv(nmodel, \"convLayer\"),\n",
        "                                          lr=config[\"learning_rate\"],\n",
        "                                          betas=config[\"betas\"])\n",
        "    return nmodel, criterion, pass_on_variables\n",
        "\n",
        "def repeat_func_finetune(model, criterion, config, pass_on_variables):\n",
        "    optimizer = pass_on_variables[\"opt\"]\n",
        "    fit_finetune(model, optimizer, criterion, config)\n",
        "    \n",
        "    return model, None, None"
      ],
      "execution_count": 27,
      "outputs": []
    },
    {
      "cell_type": "markdown",
      "metadata": {
        "id": "SgIr30WEr-O2"
      },
      "source": [
        "### config"
      ]
    },
    {
      "cell_type": "code",
      "metadata": {
        "id": "eOzholzCsD-b"
      },
      "source": [
        "\"\"\"\n",
        "config: configuration dictionary for experiment.\n",
        "Variables starting with 'curr' are changed within the experiment.\n",
        "\n",
        "Parameters\n",
        "----------\n",
        "experiment_name : string\n",
        "    Name for the experiment\n",
        "n_repetitions : int\n",
        "    Amount of repetitions the experiment has\n",
        "n_tasks_total : int\n",
        "    Amount of tasks in total (CIFAR10x10 has 10)\n",
        "n_datasets : int\n",
        "    Amount of datasets, is 2 if you only have train and test,\n",
        "    but is 3 if you have train, valid and test.\n",
        "schedule : list of tuples: [(task1, epochs1), (task2, epochs2), ...]\n",
        "    Defines which task is trained on for how many tuples\n",
        "clip : float\n",
        "    clip for which gradients should be clipped during training, helps for more\n",
        "    stable training and if gradients explode.\n",
        "eval_within : Bool\n",
        "    Switch whether performance is evaluated within a task or not\n",
        "step_size_eval : int\n",
        "    If eval_within, then this value determines after how many epochs within\n",
        "    a repetition performance is evaluated.\n",
        "output_dim : int\n",
        "    dimensionality of task output (CIFAR10x10 has 10, because 10 classes for\n",
        "    each task)\n",
        "learining_rate : float\n",
        "    learning rate for optimizer\n",
        "betas : tuple(float, float)\n",
        "    betas for Adam Optimizer\n",
        "dls_train : list[DataLoader1, DataLoader2,...]\n",
        "    The Dataloader for the corresponding task_id at the index:\n",
        "    Task1, idx=0, DataLoader1; Task2, idx=1, DataLoader2;...\n",
        "dls_test : list[DataLoader1, DataLoader2,...]\n",
        "    Same as dls_train but for test\n",
        "\"\"\"\n",
        "\n",
        "config = {\n",
        "    \"experiment_name\": \"finetune\",\n",
        "    \"n_repetitions\": 1,\n",
        "    \"n_tasks_total\": N_TASKS,\n",
        "    \"n_datasets\": 2,\n",
        "    \"schedule\": dbg_not_interleaved,\n",
        "    \"clip\": 1,\n",
        "    \"eval_within\": False,\n",
        "    \"step_size_evaluation\": 10,\n",
        "    \"output_dim\": OUTPUT_DIM,\n",
        "    \"learning_rate\": LEARNING_RATE,\n",
        "    \"betas\": BETAS,\n",
        "    \"dls_train\": dls_train,\n",
        "    \"dls_test\": dls_test\n",
        "}"
      ],
      "execution_count": 28,
      "outputs": []
    },
    {
      "cell_type": "markdown",
      "metadata": {
        "id": "42J8rR9xqX63"
      },
      "source": [
        "### experiment"
      ]
    },
    {
      "cell_type": "code",
      "metadata": {
        "colab": {
          "base_uri": "https://localhost:8080/"
        },
        "id": "_Ndz4ZJxohu1",
        "outputId": "845257af-69d4-4378-92ee-7b59e31a8094"
      },
      "source": [
        "hist_losses, hist_hitsss, _, _, models = experiment(config, init_func_finetune, repeat_func_finetune)"
      ],
      "execution_count": 32,
      "outputs": [
        {
          "output_type": "stream",
          "name": "stdout",
          "text": [
            "@@@@@@@@@ Repetition   0 @@@@@@@@@\n",
            "\n",
            "SCHEDULE: finetune.s0.t0.e10\n",
            "Epoch: 01 | Time: 0m 7s | R0 T0\n",
            "\tTrain Loss: 1.505 | Train PPL:   4.505\n",
            "Epoch: 02 | Time: 0m 7s | R0 T0\n",
            "\tTrain Loss: 0.958 | Train PPL:   2.606\n",
            "Epoch: 03 | Time: 0m 7s | R0 T0\n",
            "\tTrain Loss: 0.608 | Train PPL:   1.838\n",
            "Epoch: 04 | Time: 0m 7s | R0 T0\n",
            "\tTrain Loss: 0.360 | Train PPL:   1.433\n",
            "Epoch: 05 | Time: 0m 7s | R0 T0\n",
            "\tTrain Loss: 0.209 | Train PPL:   1.232\n",
            "Epoch: 06 | Time: 0m 7s | R0 T0\n",
            "\tTrain Loss: 0.134 | Train PPL:   1.143\n",
            "Epoch: 07 | Time: 0m 7s | R0 T0\n",
            "\tTrain Loss: 0.097 | Train PPL:   1.102\n",
            "Epoch: 08 | Time: 0m 7s | R0 T0\n",
            "\tTrain Loss: 0.086 | Train PPL:   1.090\n",
            "Epoch: 09 | Time: 0m 8s | R0 T0\n",
            "\tTrain Loss: 0.094 | Train PPL:   1.098\n",
            "Epoch: 10 | Time: 0m 9s | R0 T0\n",
            "\tTrain Loss: 0.094 | Train PPL:   1.099\n",
            "\n",
            "SCHEDULE: finetune.s1.t1.e10\n",
            "Epoch: 01 | Time: 0m 9s | R0 T1\n",
            "\tTrain Loss: 2.167 | Train PPL:   8.732\n",
            "Epoch: 02 | Time: 0m 9s | R0 T1\n",
            "\tTrain Loss: 1.055 | Train PPL:   2.871\n",
            "Epoch: 03 | Time: 0m 9s | R0 T1\n",
            "\tTrain Loss: 0.722 | Train PPL:   2.059\n",
            "Epoch: 04 | Time: 0m 9s | R0 T1\n",
            "\tTrain Loss: 0.447 | Train PPL:   1.564\n",
            "Epoch: 05 | Time: 0m 9s | R0 T1\n",
            "\tTrain Loss: 0.217 | Train PPL:   1.242\n",
            "Epoch: 06 | Time: 0m 9s | R0 T1\n",
            "\tTrain Loss: 0.115 | Train PPL:   1.122\n",
            "Epoch: 07 | Time: 0m 9s | R0 T1\n",
            "\tTrain Loss: 0.085 | Train PPL:   1.089\n",
            "Epoch: 08 | Time: 0m 9s | R0 T1\n",
            "\tTrain Loss: 0.064 | Train PPL:   1.066\n",
            "Epoch: 09 | Time: 0m 10s | R0 T1\n",
            "\tTrain Loss: 0.051 | Train PPL:   1.052\n",
            "Epoch: 10 | Time: 0m 10s | R0 T1\n",
            "\tTrain Loss: 0.061 | Train PPL:   1.063\n",
            "\n",
            "SCHEDULE: finetune.s2.t2.e10\n",
            "Epoch: 01 | Time: 0m 10s | R0 T2\n",
            "\tTrain Loss: 2.339 | Train PPL:  10.369\n",
            "Epoch: 02 | Time: 0m 9s | R0 T2\n",
            "\tTrain Loss: 0.946 | Train PPL:   2.575\n",
            "Epoch: 03 | Time: 0m 9s | R0 T2\n",
            "\tTrain Loss: 0.649 | Train PPL:   1.913\n",
            "Epoch: 04 | Time: 0m 9s | R0 T2\n",
            "\tTrain Loss: 0.401 | Train PPL:   1.493\n",
            "Epoch: 05 | Time: 0m 9s | R0 T2\n",
            "\tTrain Loss: 0.220 | Train PPL:   1.246\n",
            "Epoch: 06 | Time: 0m 10s | R0 T2\n",
            "\tTrain Loss: 0.138 | Train PPL:   1.148\n",
            "Epoch: 07 | Time: 0m 10s | R0 T2\n",
            "\tTrain Loss: 0.084 | Train PPL:   1.088\n",
            "Epoch: 08 | Time: 0m 10s | R0 T2\n",
            "\tTrain Loss: 0.074 | Train PPL:   1.077\n",
            "Epoch: 09 | Time: 0m 10s | R0 T2\n",
            "\tTrain Loss: 0.053 | Train PPL:   1.055\n",
            "Epoch: 10 | Time: 0m 10s | R0 T2\n",
            "\tTrain Loss: 0.036 | Train PPL:   1.036\n",
            "\n",
            "SCHEDULE: finetune.s3.t3.e10\n",
            "Epoch: 01 | Time: 0m 9s | R0 T3\n",
            "\tTrain Loss: 2.372 | Train PPL:  10.724\n",
            "Epoch: 02 | Time: 0m 9s | R0 T3\n",
            "\tTrain Loss: 1.078 | Train PPL:   2.938\n",
            "Epoch: 03 | Time: 0m 9s | R0 T3\n",
            "\tTrain Loss: 0.776 | Train PPL:   2.173\n",
            "Epoch: 04 | Time: 0m 9s | R0 T3\n",
            "\tTrain Loss: 0.492 | Train PPL:   1.635\n",
            "Epoch: 05 | Time: 0m 9s | R0 T3\n",
            "\tTrain Loss: 0.289 | Train PPL:   1.335\n",
            "Epoch: 06 | Time: 0m 9s | R0 T3\n",
            "\tTrain Loss: 0.155 | Train PPL:   1.168\n",
            "Epoch: 07 | Time: 0m 10s | R0 T3\n",
            "\tTrain Loss: 0.087 | Train PPL:   1.091\n",
            "Epoch: 08 | Time: 0m 10s | R0 T3\n",
            "\tTrain Loss: 0.069 | Train PPL:   1.071\n",
            "Epoch: 09 | Time: 0m 10s | R0 T3\n",
            "\tTrain Loss: 0.057 | Train PPL:   1.059\n",
            "Epoch: 10 | Time: 0m 10s | R0 T3\n",
            "\tTrain Loss: 0.066 | Train PPL:   1.068\n",
            "\n",
            "SCHEDULE: finetune.s4.t4.e10\n",
            "Epoch: 01 | Time: 0m 9s | R0 T4\n",
            "\tTrain Loss: 2.557 | Train PPL:  12.901\n",
            "Epoch: 02 | Time: 0m 9s | R0 T4\n",
            "\tTrain Loss: 0.994 | Train PPL:   2.702\n",
            "Epoch: 03 | Time: 0m 9s | R0 T4\n",
            "\tTrain Loss: 0.688 | Train PPL:   1.989\n",
            "Epoch: 04 | Time: 0m 10s | R0 T4\n",
            "\tTrain Loss: 0.447 | Train PPL:   1.563\n",
            "Epoch: 05 | Time: 0m 9s | R0 T4\n",
            "\tTrain Loss: 0.266 | Train PPL:   1.305\n",
            "Epoch: 06 | Time: 0m 9s | R0 T4\n",
            "\tTrain Loss: 0.164 | Train PPL:   1.178\n",
            "Epoch: 07 | Time: 0m 10s | R0 T4\n",
            "\tTrain Loss: 0.086 | Train PPL:   1.090\n",
            "Epoch: 08 | Time: 0m 10s | R0 T4\n",
            "\tTrain Loss: 0.068 | Train PPL:   1.070\n",
            "Epoch: 09 | Time: 0m 10s | R0 T4\n",
            "\tTrain Loss: 0.046 | Train PPL:   1.047\n",
            "Epoch: 10 | Time: 0m 10s | R0 T4\n",
            "\tTrain Loss: 0.045 | Train PPL:   1.046\n",
            "\n",
            "SCHEDULE: finetune.s5.t5.e10\n",
            "Epoch: 01 | Time: 0m 9s | R0 T5\n",
            "\tTrain Loss: 2.427 | Train PPL:  11.326\n",
            "Epoch: 02 | Time: 0m 9s | R0 T5\n",
            "\tTrain Loss: 0.963 | Train PPL:   2.619\n",
            "Epoch: 03 | Time: 0m 9s | R0 T5\n",
            "\tTrain Loss: 0.668 | Train PPL:   1.950\n",
            "Epoch: 04 | Time: 0m 9s | R0 T5\n",
            "\tTrain Loss: 0.430 | Train PPL:   1.537\n",
            "Epoch: 05 | Time: 0m 9s | R0 T5\n",
            "\tTrain Loss: 0.251 | Train PPL:   1.285\n",
            "Epoch: 06 | Time: 0m 9s | R0 T5\n",
            "\tTrain Loss: 0.147 | Train PPL:   1.159\n",
            "Epoch: 07 | Time: 0m 9s | R0 T5\n",
            "\tTrain Loss: 0.088 | Train PPL:   1.092\n",
            "Epoch: 08 | Time: 0m 10s | R0 T5\n",
            "\tTrain Loss: 0.060 | Train PPL:   1.062\n",
            "Epoch: 09 | Time: 0m 10s | R0 T5\n",
            "\tTrain Loss: 0.054 | Train PPL:   1.056\n",
            "Epoch: 10 | Time: 0m 10s | R0 T5\n",
            "\tTrain Loss: 0.048 | Train PPL:   1.049\n",
            "\n",
            "SCHEDULE: finetune.s6.t6.e10\n",
            "Epoch: 01 | Time: 0m 9s | R0 T6\n",
            "\tTrain Loss: 2.768 | Train PPL:  15.927\n",
            "Epoch: 02 | Time: 0m 9s | R0 T6\n",
            "\tTrain Loss: 0.904 | Train PPL:   2.470\n",
            "Epoch: 03 | Time: 0m 9s | R0 T6\n",
            "\tTrain Loss: 0.639 | Train PPL:   1.894\n",
            "Epoch: 04 | Time: 0m 9s | R0 T6\n",
            "\tTrain Loss: 0.424 | Train PPL:   1.528\n",
            "Epoch: 05 | Time: 0m 9s | R0 T6\n",
            "\tTrain Loss: 0.252 | Train PPL:   1.286\n",
            "Epoch: 06 | Time: 0m 9s | R0 T6\n",
            "\tTrain Loss: 0.178 | Train PPL:   1.195\n",
            "Epoch: 07 | Time: 0m 9s | R0 T6\n",
            "\tTrain Loss: 0.089 | Train PPL:   1.093\n",
            "Epoch: 08 | Time: 0m 10s | R0 T6\n",
            "\tTrain Loss: 0.060 | Train PPL:   1.061\n",
            "Epoch: 09 | Time: 0m 10s | R0 T6\n",
            "\tTrain Loss: 0.044 | Train PPL:   1.045\n",
            "Epoch: 10 | Time: 0m 10s | R0 T6\n",
            "\tTrain Loss: 0.033 | Train PPL:   1.033\n",
            "\n",
            "SCHEDULE: finetune.s7.t7.e10\n",
            "Epoch: 01 | Time: 0m 9s | R0 T7\n",
            "\tTrain Loss: 2.613 | Train PPL:  13.644\n",
            "Epoch: 02 | Time: 0m 9s | R0 T7\n",
            "\tTrain Loss: 1.043 | Train PPL:   2.839\n",
            "Epoch: 03 | Time: 0m 9s | R0 T7\n",
            "\tTrain Loss: 0.751 | Train PPL:   2.119\n",
            "Epoch: 04 | Time: 0m 9s | R0 T7\n",
            "\tTrain Loss: 0.523 | Train PPL:   1.687\n",
            "Epoch: 05 | Time: 0m 9s | R0 T7\n",
            "\tTrain Loss: 0.313 | Train PPL:   1.368\n",
            "Epoch: 06 | Time: 0m 9s | R0 T7\n",
            "\tTrain Loss: 0.173 | Train PPL:   1.188\n",
            "Epoch: 07 | Time: 0m 9s | R0 T7\n",
            "\tTrain Loss: 0.127 | Train PPL:   1.135\n",
            "Epoch: 08 | Time: 0m 9s | R0 T7\n",
            "\tTrain Loss: 0.079 | Train PPL:   1.082\n",
            "Epoch: 09 | Time: 0m 9s | R0 T7\n",
            "\tTrain Loss: 0.047 | Train PPL:   1.048\n",
            "Epoch: 10 | Time: 0m 10s | R0 T7\n",
            "\tTrain Loss: 0.036 | Train PPL:   1.037\n",
            "\n",
            "SCHEDULE: finetune.s8.t8.e10\n",
            "Epoch: 01 | Time: 0m 9s | R0 T8\n",
            "\tTrain Loss: 2.651 | Train PPL:  14.171\n",
            "Epoch: 02 | Time: 0m 9s | R0 T8\n",
            "\tTrain Loss: 1.099 | Train PPL:   3.001\n",
            "Epoch: 03 | Time: 0m 9s | R0 T8\n",
            "\tTrain Loss: 0.755 | Train PPL:   2.127\n",
            "Epoch: 04 | Time: 0m 9s | R0 T8\n",
            "\tTrain Loss: 0.505 | Train PPL:   1.657\n",
            "Epoch: 05 | Time: 0m 9s | R0 T8\n",
            "\tTrain Loss: 0.306 | Train PPL:   1.358\n",
            "Epoch: 06 | Time: 0m 9s | R0 T8\n",
            "\tTrain Loss: 0.169 | Train PPL:   1.184\n",
            "Epoch: 07 | Time: 0m 9s | R0 T8\n",
            "\tTrain Loss: 0.093 | Train PPL:   1.097\n",
            "Epoch: 08 | Time: 0m 10s | R0 T8\n",
            "\tTrain Loss: 0.060 | Train PPL:   1.061\n",
            "Epoch: 09 | Time: 0m 10s | R0 T8\n",
            "\tTrain Loss: 0.050 | Train PPL:   1.051\n",
            "Epoch: 10 | Time: 0m 10s | R0 T8\n",
            "\tTrain Loss: 0.037 | Train PPL:   1.037\n",
            "\n",
            "SCHEDULE: finetune.s9.t9.e10\n",
            "Epoch: 01 | Time: 0m 10s | R0 T9\n",
            "\tTrain Loss: 2.679 | Train PPL:  14.574\n",
            "Epoch: 02 | Time: 0m 9s | R0 T9\n",
            "\tTrain Loss: 0.977 | Train PPL:   2.657\n",
            "Epoch: 03 | Time: 0m 9s | R0 T9\n",
            "\tTrain Loss: 0.663 | Train PPL:   1.941\n",
            "Epoch: 04 | Time: 0m 10s | R0 T9\n",
            "\tTrain Loss: 0.431 | Train PPL:   1.538\n",
            "Epoch: 05 | Time: 0m 9s | R0 T9\n",
            "\tTrain Loss: 0.250 | Train PPL:   1.284\n",
            "Epoch: 06 | Time: 0m 9s | R0 T9\n",
            "\tTrain Loss: 0.154 | Train PPL:   1.167\n",
            "Epoch: 07 | Time: 0m 9s | R0 T9\n",
            "\tTrain Loss: 0.078 | Train PPL:   1.081\n",
            "Epoch: 08 | Time: 0m 10s | R0 T9\n",
            "\tTrain Loss: 0.053 | Train PPL:   1.055\n",
            "Epoch: 09 | Time: 0m 9s | R0 T9\n",
            "\tTrain Loss: 0.043 | Train PPL:   1.044\n",
            "Epoch: 10 | Time: 0m 9s | R0 T9\n",
            "\tTrain Loss: 0.037 | Train PPL:   1.038\n"
          ]
        }
      ]
    },
    {
      "cell_type": "markdown",
      "metadata": {
        "id": "evwIAtWSqcNt"
      },
      "source": [
        "### results"
      ]
    },
    {
      "cell_type": "code",
      "metadata": {
        "colab": {
          "base_uri": "https://localhost:8080/",
          "height": 513
        },
        "id": "S_VZIBPLoPD_",
        "outputId": "b2c7dbc9-eb2d-42ad-9774-e9bd9c7a867e"
      },
      "source": [
        "plot_accuracy(hist_hitsss, config)"
      ],
      "execution_count": 37,
      "outputs": [
        {
          "output_type": "display_data",
          "data": {
            "image/png": "[encoded data removed]",
            "text/plain": [
              "<Figure size 720x504 with 1 Axes>"
            ]
          },
          "metadata": {
            "needs_background": "light"
          }
        }
      ]
    },
    {
      "cell_type": "code",
      "metadata": {
        "colab": {
          "base_uri": "https://localhost:8080/",
          "height": 513
        },
        "id": "F5KywiAijR3N",
        "outputId": "128e995b-9e66-4a34-c695-0febfee24bcc"
      },
      "source": [
        "plot_accuracy_tasks(hist_hitsss, config, dataset=1)"
      ],
      "execution_count": 96,
      "outputs": [
        {
          "output_type": "display_data",
          "data": {
            "image/png": "[encoded data removed]",
            "text/plain": [
              "<Figure size 720x504 with 1 Axes>"
            ]
          },
          "metadata": {
            "needs_background": "light"
          }
        }
      ]
    },
    {
      "cell_type": "code",
      "metadata": {
        "id": "d_pZm9OSl6g6"
      },
      "source": [
        ""
      ],
      "execution_count": null,
      "outputs": []
    }
  ]
}